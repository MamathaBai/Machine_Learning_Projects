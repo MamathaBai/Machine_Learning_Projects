{
 "cells": [
  {
   "cell_type": "code",
   "execution_count": 1,
   "id": "8f7343d8",
   "metadata": {},
   "outputs": [
    {
     "name": "stdout",
     "output_type": "stream",
     "text": [
      "Requirement already satisfied: nltk in /Users/mamatharaj/anaconda3/lib/python3.11/site-packages (3.8.1)\n",
      "Requirement already satisfied: click in /Users/mamatharaj/anaconda3/lib/python3.11/site-packages (from nltk) (8.0.4)\n",
      "Requirement already satisfied: joblib in /Users/mamatharaj/anaconda3/lib/python3.11/site-packages (from nltk) (1.2.0)\n",
      "Requirement already satisfied: regex>=2021.8.3 in /Users/mamatharaj/anaconda3/lib/python3.11/site-packages (from nltk) (2022.7.9)\n",
      "Requirement already satisfied: tqdm in /Users/mamatharaj/anaconda3/lib/python3.11/site-packages (from nltk) (4.65.0)\n"
     ]
    }
   ],
   "source": [
    "!pip install nltk"
   ]
  },
  {
   "cell_type": "code",
   "execution_count": 2,
   "id": "5e455bf2",
   "metadata": {},
   "outputs": [],
   "source": [
    "import nltk"
   ]
  },
  {
   "cell_type": "code",
   "execution_count": 3,
   "id": "a6667596",
   "metadata": {},
   "outputs": [
    {
     "name": "stdout",
     "output_type": "stream",
     "text": [
      "showing info https://raw.githubusercontent.com/nltk/nltk_data/gh-pages/index.xml\n"
     ]
    },
    {
     "data": {
      "text/plain": [
       "True"
      ]
     },
     "execution_count": 3,
     "metadata": {},
     "output_type": "execute_result"
    }
   ],
   "source": [
    "nltk.download()"
   ]
  },
  {
   "cell_type": "code",
   "execution_count": 4,
   "id": "ff3d7d1f",
   "metadata": {},
   "outputs": [],
   "source": [
    "from nltk.tokenize import sent_tokenize"
   ]
  },
  {
   "cell_type": "code",
   "execution_count": 6,
   "id": "e9f64c75",
   "metadata": {},
   "outputs": [],
   "source": [
    "text=\"\"\n",
    "with open(\"/Users/mamatharaj/Desktop/python/story.txt\") as fh:\n",
    "    text = fh.readlines()\n",
    "    data= fh.read().replace('\\n', '')"
   ]
  },
  {
   "cell_type": "code",
   "execution_count": 7,
   "id": "a6707925",
   "metadata": {},
   "outputs": [],
   "source": [
    "text1=[tx.replace('\\n','') for tx in text]"
   ]
  },
  {
   "cell_type": "code",
   "execution_count": 8,
   "id": "adae86b5",
   "metadata": {},
   "outputs": [
    {
     "data": {
      "text/plain": [
       "['Alice’s story is typical of many disadvantaged children, who often feel lonely and vulnerable.',\n",
       " '',\n",
       " 'Through no fault of her own, Alice feels different from the other children. Without the money for proper uniforms, ',\n",
       " 'shoes, school supplies and excursions – or even a bus to school – she feels she doesn’t fit in, and struggles to make ',\n",
       " 'friends.',\n",
       " '',\n",
       " 'She finds it hard to join in with the others in class and doesn’t have the support she needs to catch up. ',\n",
       " 'With every day that passes her confidence erodes, leaving her isolated, feeling lost and empty inside. ',\n",
       " '',\n",
       " 'As her self-esteem plummets, so do her chances for a better future.',\n",
       " '',\n",
       " 'Not all children get an equal start in life. Alice is just one of the one in six1 Australian children living in ',\n",
       " 'disadvantage today.',\n",
       " '',\n",
       " 'Some families have experienced many generations of disadvantage. For others, a more recent change in health, ',\n",
       " 'employment or family relationships has affected them so badly that they are no longer able to meet the daily costs ',\n",
       " 'of living. ',\n",
       " '',\n",
       " 'With limited financial resources, the day to day life of a family changes significantly. If the parents are working,',\n",
       " ' they are more likely to be working irregular hours or travelling long distances for work. ',\n",
       " '',\n",
       " 'This puts pressure on other family members, including children, to keep the household running. ',\n",
       " 'Teenagers may have to work to supplement the family income, leaving them little or no time to study – and no one ',\n",
       " 'there to help them if they’re struggling with school work.',\n",
       " '',\n",
       " 'With so much focus on just ‘getting by’, many of these kids don’t have something as simple as a school bag, a ',\n",
       " 'complete uniform or the schoolbooks they need to make the most of their education. School excursions and activities ',\n",
       " 'are an impossible luxury. They are often teased or left out by other students because they don’t ‘fit in’.',\n",
       " '',\n",
       " 'But your caring support can end the isolation for children like Alice and help them believe in themselves again.',\n",
       " 'Disadvantaged students are on average 2-3 years behind in reading and Maths by the time they are 15 years old. ',\n",
       " 'Without the learning skills and support they need, they struggle to keep up. As the gap between them and their ',\n",
       " 'classmates widens their confidence erodes and their self-esteem crumbles, ',\n",
       " 'leaving them feeling overwhelmed, lonely and isolated, filled with a ‘giant emptiness’ just like Alice. ',\n",
       " '',\n",
       " \"If we don't intervene in the early years, they can fall so far behind at school they give up trying  \",\n",
       " 'shut themselves off from their class mates, stop participating in class, or even give up on going to school ',\n",
       " 'altogether. This can set up a pattern of underachievement that can last the rest of their lives. ',\n",
       " '',\n",
       " 'Research shows Year 12 completion rates are significantly lower (68%) for students from disadvantaged ',\n",
       " 'backgrounds than for students from more advantaged backgrounds (79%). Young people from advantaged ',\n",
       " 'backgrounds are three times more likely to attend university than students from vulnerable backgrounds. ',\n",
       " '',\n",
       " 'Your support can change the lives of children like Alice, by providing them with the extra out of school support they ',\n",
       " 'need to catch up and keep up at school.',\n",
       " '',\n",
       " 'Your gift today will give a child access a range of out of school learning, mentoring programs and financial support',\n",
       " 'that begin in the early years and continue through to high school and tertiary education.',\n",
       " '',\n",
       " 'By sponsoring a child like Alice, you can will be giving them life changing, comprehensive support so they can finally ',\n",
       " 'fit in and get the most out of their schooling.',\n",
       " '',\n",
       " 'You can empower young Australians to lift themselves out of poverty and onto a better path – breaking the cycle of ',\n",
       " 'disadvantage, one child at a time.']"
      ]
     },
     "execution_count": 8,
     "metadata": {},
     "output_type": "execute_result"
    }
   ],
   "source": [
    "text1"
   ]
  },
  {
   "cell_type": "code",
   "execution_count": 9,
   "id": "8b9f72c3",
   "metadata": {},
   "outputs": [],
   "source": [
    "text_all=\"\""
   ]
  },
  {
   "cell_type": "code",
   "execution_count": 10,
   "id": "9c37c268",
   "metadata": {},
   "outputs": [],
   "source": [
    "text_all1=text_all.join(text1)"
   ]
  },
  {
   "cell_type": "code",
   "execution_count": 11,
   "id": "08a826d2",
   "metadata": {},
   "outputs": [
    {
     "data": {
      "text/plain": [
       "\"Alice’s story is typical of many disadvantaged children, who often feel lonely and vulnerable.Through no fault of her own, Alice feels different from the other children. Without the money for proper uniforms, shoes, school supplies and excursions – or even a bus to school – she feels she doesn’t fit in, and struggles to make friends.She finds it hard to join in with the others in class and doesn’t have the support she needs to catch up. With every day that passes her confidence erodes, leaving her isolated, feeling lost and empty inside. As her self-esteem plummets, so do her chances for a better future.Not all children get an equal start in life. Alice is just one of the one in six1 Australian children living in disadvantage today.Some families have experienced many generations of disadvantage. For others, a more recent change in health, employment or family relationships has affected them so badly that they are no longer able to meet the daily costs of living. With limited financial resources, the day to day life of a family changes significantly. If the parents are working, they are more likely to be working irregular hours or travelling long distances for work. This puts pressure on other family members, including children, to keep the household running. Teenagers may have to work to supplement the family income, leaving them little or no time to study – and no one there to help them if they’re struggling with school work.With so much focus on just ‘getting by’, many of these kids don’t have something as simple as a school bag, a complete uniform or the schoolbooks they need to make the most of their education. School excursions and activities are an impossible luxury. They are often teased or left out by other students because they don’t ‘fit in’.But your caring support can end the isolation for children like Alice and help them believe in themselves again.Disadvantaged students are on average 2-3 years behind in reading and Maths by the time they are 15 years old. Without the learning skills and support they need, they struggle to keep up. As the gap between them and their classmates widens their confidence erodes and their self-esteem crumbles, leaving them feeling overwhelmed, lonely and isolated, filled with a ‘giant emptiness’ just like Alice. If we don't intervene in the early years, they can fall so far behind at school they give up trying  shut themselves off from their class mates, stop participating in class, or even give up on going to school altogether. This can set up a pattern of underachievement that can last the rest of their lives. Research shows Year 12 completion rates are significantly lower (68%) for students from disadvantaged backgrounds than for students from more advantaged backgrounds (79%). Young people from advantaged backgrounds are three times more likely to attend university than students from vulnerable backgrounds. Your support can change the lives of children like Alice, by providing them with the extra out of school support they need to catch up and keep up at school.Your gift today will give a child access a range of out of school learning, mentoring programs and financial supportthat begin in the early years and continue through to high school and tertiary education.By sponsoring a child like Alice, you can will be giving them life changing, comprehensive support so they can finally fit in and get the most out of their schooling.You can empower young Australians to lift themselves out of poverty and onto a better path – breaking the cycle of disadvantage, one child at a time.\""
      ]
     },
     "execution_count": 11,
     "metadata": {},
     "output_type": "execute_result"
    }
   ],
   "source": [
    "text_all1"
   ]
  },
  {
   "cell_type": "code",
   "execution_count": 12,
   "id": "51c2bb1c",
   "metadata": {},
   "outputs": [],
   "source": [
    "from nltk.tokenize import sent_tokenize"
   ]
  },
  {
   "cell_type": "code",
   "execution_count": 13,
   "id": "6c189944",
   "metadata": {},
   "outputs": [],
   "source": [
    "sent_tokenize_list = sent_tokenize(text_all1)"
   ]
  },
  {
   "cell_type": "code",
   "execution_count": 14,
   "id": "509f3431",
   "metadata": {},
   "outputs": [
    {
     "data": {
      "text/plain": [
       "['Alice’s story is typical of many disadvantaged children, who often feel lonely and vulnerable.Through no fault of her own, Alice feels different from the other children.',\n",
       " 'Without the money for proper uniforms, shoes, school supplies and excursions – or even a bus to school – she feels she doesn’t fit in, and struggles to make friends.She finds it hard to join in with the others in class and doesn’t have the support she needs to catch up.',\n",
       " 'With every day that passes her confidence erodes, leaving her isolated, feeling lost and empty inside.',\n",
       " 'As her self-esteem plummets, so do her chances for a better future.Not all children get an equal start in life.',\n",
       " 'Alice is just one of the one in six1 Australian children living in disadvantage today.Some families have experienced many generations of disadvantage.',\n",
       " 'For others, a more recent change in health, employment or family relationships has affected them so badly that they are no longer able to meet the daily costs of living.',\n",
       " 'With limited financial resources, the day to day life of a family changes significantly.',\n",
       " 'If the parents are working, they are more likely to be working irregular hours or travelling long distances for work.',\n",
       " 'This puts pressure on other family members, including children, to keep the household running.',\n",
       " 'Teenagers may have to work to supplement the family income, leaving them little or no time to study – and no one there to help them if they’re struggling with school work.With so much focus on just ‘getting by’, many of these kids don’t have something as simple as a school bag, a complete uniform or the schoolbooks they need to make the most of their education.',\n",
       " 'School excursions and activities are an impossible luxury.',\n",
       " 'They are often teased or left out by other students because they don’t ‘fit in’.But your caring support can end the isolation for children like Alice and help them believe in themselves again.Disadvantaged students are on average 2-3 years behind in reading and Maths by the time they are 15 years old.',\n",
       " 'Without the learning skills and support they need, they struggle to keep up.',\n",
       " 'As the gap between them and their classmates widens their confidence erodes and their self-esteem crumbles, leaving them feeling overwhelmed, lonely and isolated, filled with a ‘giant emptiness’ just like Alice.',\n",
       " \"If we don't intervene in the early years, they can fall so far behind at school they give up trying  shut themselves off from their class mates, stop participating in class, or even give up on going to school altogether.\",\n",
       " 'This can set up a pattern of underachievement that can last the rest of their lives.',\n",
       " 'Research shows Year 12 completion rates are significantly lower (68%) for students from disadvantaged backgrounds than for students from more advantaged backgrounds (79%).',\n",
       " 'Young people from advantaged backgrounds are three times more likely to attend university than students from vulnerable backgrounds.',\n",
       " 'Your support can change the lives of children like Alice, by providing them with the extra out of school support they need to catch up and keep up at school.Your gift today will give a child access a range of out of school learning, mentoring programs and financial supportthat begin in the early years and continue through to high school and tertiary education.By sponsoring a child like Alice, you can will be giving them life changing, comprehensive support so they can finally fit in and get the most out of their schooling.You can empower young Australians to lift themselves out of poverty and onto a better path – breaking the cycle of disadvantage, one child at a time.']"
      ]
     },
     "execution_count": 14,
     "metadata": {},
     "output_type": "execute_result"
    }
   ],
   "source": [
    "sent_tokenize_list"
   ]
  },
  {
   "cell_type": "code",
   "execution_count": 15,
   "id": "cb22fdea",
   "metadata": {},
   "outputs": [],
   "source": [
    "from nltk.tokenize import word_tokenize"
   ]
  },
  {
   "cell_type": "code",
   "execution_count": 16,
   "id": "1dfb0140",
   "metadata": {},
   "outputs": [
    {
     "data": {
      "text/plain": [
       "['Alice',\n",
       " '’',\n",
       " 's',\n",
       " 'story',\n",
       " 'is',\n",
       " 'typical',\n",
       " 'of',\n",
       " 'many',\n",
       " 'disadvantaged',\n",
       " 'children',\n",
       " ',',\n",
       " 'who',\n",
       " 'often',\n",
       " 'feel',\n",
       " 'lonely',\n",
       " 'and',\n",
       " 'vulnerable.Through',\n",
       " 'no',\n",
       " 'fault',\n",
       " 'of',\n",
       " 'her',\n",
       " 'own',\n",
       " ',',\n",
       " 'Alice',\n",
       " 'feels',\n",
       " 'different',\n",
       " 'from',\n",
       " 'the',\n",
       " 'other',\n",
       " 'children',\n",
       " '.']"
      ]
     },
     "execution_count": 16,
     "metadata": {},
     "output_type": "execute_result"
    }
   ],
   "source": [
    "word_tokenize(sent_tokenize_list[0])"
   ]
  },
  {
   "cell_type": "code",
   "execution_count": 17,
   "id": "8417f046",
   "metadata": {},
   "outputs": [],
   "source": [
    "from nltk.stem.porter import PorterStemmer"
   ]
  },
  {
   "cell_type": "code",
   "execution_count": 18,
   "id": "8716ba4b",
   "metadata": {},
   "outputs": [],
   "source": [
    "word_tokens=word_tokenize(sent_tokenize_list[0])"
   ]
  },
  {
   "cell_type": "code",
   "execution_count": 19,
   "id": "e56c00e2",
   "metadata": {},
   "outputs": [],
   "source": [
    "porter_stemmer = PorterStemmer()"
   ]
  },
  {
   "cell_type": "code",
   "execution_count": 20,
   "id": "ca0a9a9c",
   "metadata": {},
   "outputs": [
    {
     "data": {
      "text/plain": [
       "['alic',\n",
       " '’',\n",
       " 's',\n",
       " 'stori',\n",
       " 'is',\n",
       " 'typic',\n",
       " 'of',\n",
       " 'mani',\n",
       " 'disadvantag',\n",
       " 'children',\n",
       " ',',\n",
       " 'who',\n",
       " 'often',\n",
       " 'feel',\n",
       " 'lone',\n",
       " 'and',\n",
       " 'vulnerable.through',\n",
       " 'no',\n",
       " 'fault',\n",
       " 'of',\n",
       " 'her',\n",
       " 'own',\n",
       " ',',\n",
       " 'alic',\n",
       " 'feel',\n",
       " 'differ',\n",
       " 'from',\n",
       " 'the',\n",
       " 'other',\n",
       " 'children',\n",
       " '.']"
      ]
     },
     "execution_count": 20,
     "metadata": {},
     "output_type": "execute_result"
    }
   ],
   "source": [
    "[porter_stemmer.stem(test) for test in word_tokens]"
   ]
  },
  {
   "cell_type": "code",
   "execution_count": 21,
   "id": "18637a93",
   "metadata": {},
   "outputs": [],
   "source": [
    "from nltk.stem.lancaster import LancasterStemmer"
   ]
  },
  {
   "cell_type": "code",
   "execution_count": 22,
   "id": "4193c8e0",
   "metadata": {},
   "outputs": [],
   "source": [
    "lancaster_stemmer = LancasterStemmer()"
   ]
  },
  {
   "cell_type": "code",
   "execution_count": 23,
   "id": "e4bdea6b",
   "metadata": {},
   "outputs": [
    {
     "data": {
      "text/plain": [
       "['al',\n",
       " '’',\n",
       " 's',\n",
       " 'story',\n",
       " 'is',\n",
       " 'typ',\n",
       " 'of',\n",
       " 'many',\n",
       " 'disadv',\n",
       " 'childr',\n",
       " ',',\n",
       " 'who',\n",
       " 'oft',\n",
       " 'feel',\n",
       " 'lon',\n",
       " 'and',\n",
       " 'vulnerable.through',\n",
       " 'no',\n",
       " 'fault',\n",
       " 'of',\n",
       " 'her',\n",
       " 'own',\n",
       " ',',\n",
       " 'al',\n",
       " 'feel',\n",
       " 'diff',\n",
       " 'from',\n",
       " 'the',\n",
       " 'oth',\n",
       " 'childr',\n",
       " '.']"
      ]
     },
     "execution_count": 23,
     "metadata": {},
     "output_type": "execute_result"
    }
   ],
   "source": [
    "[lancaster_stemmer.stem(test) for test in word_tokens]"
   ]
  },
  {
   "cell_type": "code",
   "execution_count": 24,
   "id": "c8157038",
   "metadata": {},
   "outputs": [],
   "source": [
    "from nltk.stem import SnowballStemmer"
   ]
  },
  {
   "cell_type": "code",
   "execution_count": 25,
   "id": "77d5f33d",
   "metadata": {},
   "outputs": [],
   "source": [
    "snowball_stemmer = SnowballStemmer(\"english\")"
   ]
  },
  {
   "cell_type": "code",
   "execution_count": 26,
   "id": "0da24c72",
   "metadata": {},
   "outputs": [
    {
     "data": {
      "text/plain": [
       "['alic',\n",
       " '’',\n",
       " 's',\n",
       " 'stori',\n",
       " 'is',\n",
       " 'typic',\n",
       " 'of',\n",
       " 'mani',\n",
       " 'disadvantag',\n",
       " 'children',\n",
       " ',',\n",
       " 'who',\n",
       " 'often',\n",
       " 'feel',\n",
       " 'lone',\n",
       " 'and',\n",
       " 'vulnerable.through',\n",
       " 'no',\n",
       " 'fault',\n",
       " 'of',\n",
       " 'her',\n",
       " 'own',\n",
       " ',',\n",
       " 'alic',\n",
       " 'feel',\n",
       " 'differ',\n",
       " 'from',\n",
       " 'the',\n",
       " 'other',\n",
       " 'children',\n",
       " '.']"
      ]
     },
     "execution_count": 26,
     "metadata": {},
     "output_type": "execute_result"
    }
   ],
   "source": [
    "[snowball_stemmer.stem(test) for test in word_tokens]"
   ]
  },
  {
   "cell_type": "code",
   "execution_count": 27,
   "id": "def7ac5f",
   "metadata": {},
   "outputs": [],
   "source": [
    "from nltk.stem import WordNetLemmatizer"
   ]
  },
  {
   "cell_type": "code",
   "execution_count": 28,
   "id": "3c4ddb9b",
   "metadata": {},
   "outputs": [],
   "source": [
    "wordnet_lemmatizer = WordNetLemmatizer()"
   ]
  },
  {
   "cell_type": "code",
   "execution_count": 29,
   "id": "135753fa",
   "metadata": {},
   "outputs": [
    {
     "data": {
      "text/plain": [
       "['Alice',\n",
       " '’',\n",
       " 's',\n",
       " 'story',\n",
       " 'is',\n",
       " 'typical',\n",
       " 'of',\n",
       " 'many',\n",
       " 'disadvantaged',\n",
       " 'child',\n",
       " ',',\n",
       " 'who',\n",
       " 'often',\n",
       " 'feel',\n",
       " 'lonely',\n",
       " 'and',\n",
       " 'vulnerable.Through',\n",
       " 'no',\n",
       " 'fault',\n",
       " 'of',\n",
       " 'her',\n",
       " 'own',\n",
       " ',',\n",
       " 'Alice',\n",
       " 'feel',\n",
       " 'different',\n",
       " 'from',\n",
       " 'the',\n",
       " 'other',\n",
       " 'child',\n",
       " '.']"
      ]
     },
     "execution_count": 29,
     "metadata": {},
     "output_type": "execute_result"
    }
   ],
   "source": [
    "[wordnet_lemmatizer.lemmatize(test) for test in word_tokens]"
   ]
  },
  {
   "cell_type": "code",
   "execution_count": 32,
   "id": "11b34172",
   "metadata": {},
   "outputs": [
    {
     "name": "stderr",
     "output_type": "stream",
     "text": [
      "Warming up PyWSD (takes ~10 secs)... took 6.327615022659302 secs.\n"
     ]
    }
   ],
   "source": [
    "from pywsd.utils import lemmatize_sentence"
   ]
  },
  {
   "cell_type": "code",
   "execution_count": 33,
   "id": "8f6ca00a",
   "metadata": {},
   "outputs": [
    {
     "data": {
      "text/plain": [
       "['mary', 'leave', 'the', 'room']"
      ]
     },
     "execution_count": 33,
     "metadata": {},
     "output_type": "execute_result"
    }
   ],
   "source": [
    "lemmatize_sentence(\"Mary leaves the room\")"
   ]
  },
  {
   "cell_type": "code",
   "execution_count": 34,
   "id": "a8e2dff3",
   "metadata": {},
   "outputs": [
    {
     "data": {
      "text/plain": [
       "['dew', 'drop', 'fall', 'from', 'the', 'leaf']"
      ]
     },
     "execution_count": 34,
     "metadata": {},
     "output_type": "execute_result"
    }
   ],
   "source": [
    "lemmatize_sentence('Dew drops fall from the leaves')"
   ]
  },
  {
   "cell_type": "code",
   "execution_count": 35,
   "id": "4df7515a",
   "metadata": {},
   "outputs": [
    {
     "data": {
      "text/plain": [
       "['the', 'cat', 'like', 'car']"
      ]
     },
     "execution_count": 35,
     "metadata": {},
     "output_type": "execute_result"
    }
   ],
   "source": [
    "lemmatize_sentence(\"The cat likes cars\")"
   ]
  },
  {
   "cell_type": "code",
   "execution_count": 36,
   "id": "9527bbcb",
   "metadata": {},
   "outputs": [
    {
     "data": {
      "text/plain": [
       "['the',\n",
       " 'lazy',\n",
       " 'brown',\n",
       " 'fox',\n",
       " 'jump',\n",
       " ',',\n",
       " 'and',\n",
       " 'the',\n",
       " 'cat',\n",
       " 'like',\n",
       " 'car']"
      ]
     },
     "execution_count": 36,
     "metadata": {},
     "output_type": "execute_result"
    }
   ],
   "source": [
    "lemmatize_sentence(\"The lazy brown fox jumps, and the cat likes cars\")"
   ]
  },
  {
   "cell_type": "code",
   "execution_count": null,
   "id": "eab45f06",
   "metadata": {},
   "outputs": [],
   "source": []
  }
 ],
 "metadata": {
  "kernelspec": {
   "display_name": "Python 3 (ipykernel)",
   "language": "python",
   "name": "python3"
  },
  "language_info": {
   "codemirror_mode": {
    "name": "ipython",
    "version": 3
   },
   "file_extension": ".py",
   "mimetype": "text/x-python",
   "name": "python",
   "nbconvert_exporter": "python",
   "pygments_lexer": "ipython3",
   "version": "3.11.5"
  }
 },
 "nbformat": 4,
 "nbformat_minor": 5
}
