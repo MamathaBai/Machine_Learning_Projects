{
 "cells": [
  {
   "cell_type": "code",
   "execution_count": 1,
   "id": "3e7240fe",
   "metadata": {},
   "outputs": [],
   "source": [
    "import random\n",
    "import pandas as pd"
   ]
  },
  {
   "cell_type": "code",
   "execution_count": 2,
   "id": "76f40afe",
   "metadata": {},
   "outputs": [],
   "source": [
    "d1=[]\n",
    "d2=[]\n",
    "d3=[]\n",
    "d4=[]\n",
    "for i in range(50000):\n",
    "    x=random.random()\n",
    "    d1.append(x)\n",
    "    y=random.random()\n",
    "    d2.append(y)\n",
    "    z=random.random()\n",
    "    d3.append(z)\n",
    "    d4.append(3*x*x+2*y+3*x*y+4*x+6*y+4*z+99)"
   ]
  },
  {
   "cell_type": "code",
   "execution_count": 3,
   "id": "ffa097cf",
   "metadata": {},
   "outputs": [],
   "source": [
    "df=pd.DataFrame({'x1':d1,'x2':d2,'x3':d3,'x4':d4},index=range(0,50000))"
   ]
  },
  {
   "cell_type": "code",
   "execution_count": 4,
   "id": "97bfa934",
   "metadata": {},
   "outputs": [],
   "source": [
    "X = df.iloc[:,0:3]\n",
    "Y = df.iloc[:,3]"
   ]
  },
  {
   "cell_type": "code",
   "execution_count": 5,
   "id": "ac39a22c",
   "metadata": {},
   "outputs": [
    {
     "name": "stderr",
     "output_type": "stream",
     "text": [
      "2023-11-30 12:52:24.421052: I tensorflow/core/platform/cpu_feature_guard.cc:182] This TensorFlow binary is optimized to use available CPU instructions in performance-critical operations.\n",
      "To enable the following instructions: AVX2 FMA, in other operations, rebuild TensorFlow with the appropriate compiler flags.\n"
     ]
    }
   ],
   "source": [
    "import tensorflow as tf\n",
    "from sklearn.model_selection import train_test_split"
   ]
  },
  {
   "cell_type": "code",
   "execution_count": 6,
   "id": "cce1a997",
   "metadata": {},
   "outputs": [],
   "source": [
    "X_train, X_test, y_train, y_test = train_test_split(X, Y, test_size=0.2)"
   ]
  },
  {
   "cell_type": "code",
   "execution_count": 24,
   "id": "b90b55b3",
   "metadata": {},
   "outputs": [],
   "source": [
    "model = tf.keras.models.Sequential([  \n",
    "  tf.keras.layers.Dense(9,input_dim=3, activation='relu'),\n",
    "  tf.keras.layers.Dense(9, activation='relu'),\n",
    "  tf.keras.layers.Dense(15, activation='relu'),\n",
    "  tf.keras.layers.Dense(9, activation='relu'),\n",
    "  tf.keras.layers.Dense(1, activation='linear')\n",
    "])\n",
    "\n",
    "model.compile(optimizer='adam',\n",
    "              loss='mse',\n",
    "              metrics=['accuracy'])"
   ]
  },
  {
   "cell_type": "code",
   "execution_count": 25,
   "id": "23285a7b",
   "metadata": {},
   "outputs": [
    {
     "name": "stdout",
     "output_type": "stream",
     "text": [
      "Epoch 1/50\n",
      "1250/1250 [==============================] - 2s 1ms/step - loss: 1816.4132 - accuracy: 0.0000e+00\n",
      "Epoch 2/50\n",
      "1250/1250 [==============================] - 2s 1ms/step - loss: 12.8401 - accuracy: 0.0000e+00\n",
      "Epoch 3/50\n",
      "1250/1250 [==============================] - 2s 1ms/step - loss: 0.1197 - accuracy: 0.0000e+00\n",
      "Epoch 4/50\n",
      "1250/1250 [==============================] - 2s 1ms/step - loss: 0.1135 - accuracy: 0.0000e+00\n",
      "Epoch 5/50\n",
      "1250/1250 [==============================] - 2s 2ms/step - loss: 0.1152 - accuracy: 0.0000e+00\n",
      "Epoch 6/50\n",
      "1250/1250 [==============================] - 2s 1ms/step - loss: 0.1177 - accuracy: 0.0000e+00\n",
      "Epoch 7/50\n",
      "1250/1250 [==============================] - 2s 1ms/step - loss: 0.1239 - accuracy: 0.0000e+00\n",
      "Epoch 8/50\n",
      "1250/1250 [==============================] - 2s 1ms/step - loss: 0.1272 - accuracy: 0.0000e+00\n",
      "Epoch 9/50\n",
      "1250/1250 [==============================] - 2s 2ms/step - loss: 0.1257 - accuracy: 0.0000e+00\n",
      "Epoch 10/50\n",
      "1250/1250 [==============================] - 2s 2ms/step - loss: 0.1127 - accuracy: 0.0000e+00\n",
      "Epoch 11/50\n",
      "1250/1250 [==============================] - 2s 2ms/step - loss: 0.1019 - accuracy: 0.0000e+00\n",
      "Epoch 12/50\n",
      "1250/1250 [==============================] - 2s 1ms/step - loss: 0.0701 - accuracy: 0.0000e+00\n",
      "Epoch 13/50\n",
      "1250/1250 [==============================] - 2s 1ms/step - loss: 0.0146 - accuracy: 0.0000e+00\n",
      "Epoch 14/50\n",
      "1250/1250 [==============================] - 2s 2ms/step - loss: 0.0109 - accuracy: 0.0000e+00\n",
      "Epoch 15/50\n",
      "1250/1250 [==============================] - 2s 2ms/step - loss: 0.0113 - accuracy: 0.0000e+00\n",
      "Epoch 16/50\n",
      "1250/1250 [==============================] - 2s 2ms/step - loss: 0.0108 - accuracy: 0.0000e+00\n",
      "Epoch 17/50\n",
      "1250/1250 [==============================] - 2s 2ms/step - loss: 0.0115 - accuracy: 0.0000e+00\n",
      "Epoch 18/50\n",
      "1250/1250 [==============================] - 2s 1ms/step - loss: 0.0115 - accuracy: 0.0000e+00\n",
      "Epoch 19/50\n",
      "1250/1250 [==============================] - 2s 2ms/step - loss: 0.0109 - accuracy: 0.0000e+00\n",
      "Epoch 20/50\n",
      "1250/1250 [==============================] - 2s 1ms/step - loss: 0.0107 - accuracy: 0.0000e+00\n",
      "Epoch 21/50\n",
      "1250/1250 [==============================] - 2s 2ms/step - loss: 0.0119 - accuracy: 0.0000e+00\n",
      "Epoch 22/50\n",
      "1250/1250 [==============================] - 2s 1ms/step - loss: 0.0111 - accuracy: 0.0000e+00\n",
      "Epoch 23/50\n",
      "1250/1250 [==============================] - 2s 2ms/step - loss: 0.0108 - accuracy: 0.0000e+00\n",
      "Epoch 24/50\n",
      "1250/1250 [==============================] - 2s 1ms/step - loss: 0.0112 - accuracy: 0.0000e+00\n",
      "Epoch 25/50\n",
      "1250/1250 [==============================] - 2s 2ms/step - loss: 0.0116 - accuracy: 0.0000e+00\n",
      "Epoch 26/50\n",
      "1250/1250 [==============================] - 2s 1ms/step - loss: 0.0107 - accuracy: 0.0000e+00\n",
      "Epoch 27/50\n",
      "1250/1250 [==============================] - 2s 1ms/step - loss: 0.0120 - accuracy: 0.0000e+00\n",
      "Epoch 28/50\n",
      "1250/1250 [==============================] - 2s 2ms/step - loss: 0.0111 - accuracy: 0.0000e+00\n",
      "Epoch 29/50\n",
      "1250/1250 [==============================] - 2s 2ms/step - loss: 0.0115 - accuracy: 0.0000e+00\n",
      "Epoch 30/50\n",
      "1250/1250 [==============================] - 3s 2ms/step - loss: 0.0121 - accuracy: 0.0000e+00\n",
      "Epoch 31/50\n",
      "1250/1250 [==============================] - 2s 2ms/step - loss: 0.0109 - accuracy: 0.0000e+00\n",
      "Epoch 32/50\n",
      "1250/1250 [==============================] - 2s 1ms/step - loss: 0.0111 - accuracy: 0.0000e+00\n",
      "Epoch 33/50\n",
      "1250/1250 [==============================] - 2s 2ms/step - loss: 0.0110 - accuracy: 0.0000e+00\n",
      "Epoch 34/50\n",
      "1250/1250 [==============================] - 2s 1ms/step - loss: 0.0115 - accuracy: 0.0000e+00\n",
      "Epoch 35/50\n",
      "1250/1250 [==============================] - 2s 2ms/step - loss: 0.0110 - accuracy: 0.0000e+00\n",
      "Epoch 36/50\n",
      "1250/1250 [==============================] - 2s 2ms/step - loss: 0.0109 - accuracy: 0.0000e+00\n",
      "Epoch 37/50\n",
      "1250/1250 [==============================] - 2s 1ms/step - loss: 0.0114 - accuracy: 0.0000e+00\n",
      "Epoch 38/50\n",
      "1250/1250 [==============================] - 2s 1ms/step - loss: 0.0108 - accuracy: 0.0000e+00\n",
      "Epoch 39/50\n",
      "1250/1250 [==============================] - 2s 2ms/step - loss: 0.0110 - accuracy: 0.0000e+00\n",
      "Epoch 40/50\n",
      "1250/1250 [==============================] - 2s 1ms/step - loss: 0.0110 - accuracy: 0.0000e+00\n",
      "Epoch 41/50\n",
      "1250/1250 [==============================] - 2s 1ms/step - loss: 0.0111 - accuracy: 0.0000e+00\n",
      "Epoch 42/50\n",
      "1250/1250 [==============================] - 2s 1ms/step - loss: 0.0118 - accuracy: 0.0000e+00\n",
      "Epoch 43/50\n",
      "1250/1250 [==============================] - 2s 2ms/step - loss: 0.0112 - accuracy: 0.0000e+00\n",
      "Epoch 44/50\n",
      "1250/1250 [==============================] - 2s 1ms/step - loss: 0.0110 - accuracy: 0.0000e+00\n",
      "Epoch 45/50\n",
      "1250/1250 [==============================] - 2s 1ms/step - loss: 0.0107 - accuracy: 0.0000e+00\n",
      "Epoch 46/50\n",
      "1250/1250 [==============================] - 2s 1ms/step - loss: 0.0115 - accuracy: 0.0000e+00\n",
      "Epoch 47/50\n",
      "1250/1250 [==============================] - 2s 2ms/step - loss: 0.0110 - accuracy: 0.0000e+00\n",
      "Epoch 48/50\n",
      "1250/1250 [==============================] - 2s 2ms/step - loss: 0.0112 - accuracy: 0.0000e+00\n",
      "Epoch 49/50\n",
      "1250/1250 [==============================] - 2s 1ms/step - loss: 0.0113 - accuracy: 0.0000e+00\n",
      "Epoch 50/50\n",
      "1250/1250 [==============================] - 2s 1ms/step - loss: 0.0111 - accuracy: 0.0000e+00\n"
     ]
    },
    {
     "data": {
      "text/plain": [
       "<keras.src.callbacks.History at 0x1660bbf50>"
      ]
     },
     "execution_count": 25,
     "metadata": {},
     "output_type": "execute_result"
    }
   ],
   "source": [
    "model.fit(X_train, y_train, epochs=50)"
   ]
  },
  {
   "cell_type": "code",
   "execution_count": 11,
   "id": "ae12d294",
   "metadata": {},
   "outputs": [
    {
     "name": "stdout",
     "output_type": "stream",
     "text": [
      "313/313 [==============================] - 0s 870us/step\n"
     ]
    }
   ],
   "source": [
    "y_pred=model.predict(X_test)"
   ]
  },
  {
   "cell_type": "code",
   "execution_count": 12,
   "id": "a5a34f38",
   "metadata": {},
   "outputs": [],
   "source": [
    "from sklearn.metrics import r2_score"
   ]
  },
  {
   "cell_type": "code",
   "execution_count": 13,
   "id": "c27acd70",
   "metadata": {},
   "outputs": [
    {
     "data": {
      "text/plain": [
       "0.9940121245579387"
      ]
     },
     "execution_count": 13,
     "metadata": {},
     "output_type": "execute_result"
    }
   ],
   "source": [
    "r2_score(y_pred, y_test)"
   ]
  },
  {
   "cell_type": "code",
   "execution_count": 27,
   "id": "21a4b910",
   "metadata": {},
   "outputs": [],
   "source": [
    "import matplotlib.pyplot as plt\n",
    "from matplotlib import style\n",
    "%matplotlib inline\n",
    "import seaborn as sns"
   ]
  },
  {
   "cell_type": "code",
   "execution_count": 30,
   "id": "686827ee",
   "metadata": {},
   "outputs": [
    {
     "data": {
      "text/plain": [
       "<Axes: >"
      ]
     },
     "execution_count": 30,
     "metadata": {},
     "output_type": "execute_result"
    },
    {
     "data": {
      "image/png": "[encoded data removed]",
      "text/plain": [
       "<Figure size 640x480 with 1 Axes>"
      ]
     },
     "metadata": {},
     "output_type": "display_data"
    }
   ],
   "source": [
    "metrics_df = pd.DataFrame(model.history.history)\n",
    "metrics_df.plot()"
   ]
  },
  {
   "cell_type": "code",
   "execution_count": 20,
   "id": "d72fa87c",
   "metadata": {},
   "outputs": [
    {
     "data": {
      "text/html": [
       "<div>\n",
       "<style scoped>\n",
       "    .dataframe tbody tr th:only-of-type {\n",
       "        vertical-align: middle;\n",
       "    }\n",
       "\n",
       "    .dataframe tbody tr th {\n",
       "        vertical-align: top;\n",
       "    }\n",
       "\n",
       "    .dataframe thead th {\n",
       "        text-align: right;\n",
       "    }\n",
       "</style>\n",
       "<table border=\"1\" class=\"dataframe\">\n",
       "  <thead>\n",
       "    <tr style=\"text-align: right;\">\n",
       "      <th></th>\n",
       "      <th>loss</th>\n",
       "      <th>accuracy</th>\n",
       "    </tr>\n",
       "  </thead>\n",
       "  <tbody>\n",
       "    <tr>\n",
       "      <th>0</th>\n",
       "      <td>0.094703</td>\n",
       "      <td>0.0</td>\n",
       "    </tr>\n",
       "    <tr>\n",
       "      <th>1</th>\n",
       "      <td>0.095365</td>\n",
       "      <td>0.0</td>\n",
       "    </tr>\n",
       "    <tr>\n",
       "      <th>2</th>\n",
       "      <td>0.095130</td>\n",
       "      <td>0.0</td>\n",
       "    </tr>\n",
       "    <tr>\n",
       "      <th>3</th>\n",
       "      <td>0.094510</td>\n",
       "      <td>0.0</td>\n",
       "    </tr>\n",
       "    <tr>\n",
       "      <th>4</th>\n",
       "      <td>0.093883</td>\n",
       "      <td>0.0</td>\n",
       "    </tr>\n",
       "  </tbody>\n",
       "</table>\n",
       "</div>"
      ],
      "text/plain": [
       "       loss  accuracy\n",
       "0  0.094703       0.0\n",
       "1  0.095365       0.0\n",
       "2  0.095130       0.0\n",
       "3  0.094510       0.0\n",
       "4  0.093883       0.0"
      ]
     },
     "execution_count": 20,
     "metadata": {},
     "output_type": "execute_result"
    }
   ],
   "source": [
    "metrics_df.head()"
   ]
  },
  {
   "cell_type": "code",
   "execution_count": null,
   "id": "646018b2",
   "metadata": {},
   "outputs": [],
   "source": []
  }
 ],
 "metadata": {
  "kernelspec": {
   "display_name": "Python 3 (ipykernel)",
   "language": "python",
   "name": "python3"
  },
  "language_info": {
   "codemirror_mode": {
    "name": "ipython",
    "version": 3
   },
   "file_extension": ".py",
   "mimetype": "text/x-python",
   "name": "python",
   "nbconvert_exporter": "python",
   "pygments_lexer": "ipython3",
   "version": "3.11.5"
  }
 },
 "nbformat": 4,
 "nbformat_minor": 5
}
