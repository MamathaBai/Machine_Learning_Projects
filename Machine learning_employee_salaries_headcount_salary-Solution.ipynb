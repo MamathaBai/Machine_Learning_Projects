{
 "cells": [
  {
   "cell_type": "code",
   "execution_count": 1,
   "id": "2fbd81a2",
   "metadata": {},
   "outputs": [],
   "source": [
    "import pandas as pd"
   ]
  },
  {
   "cell_type": "code",
   "execution_count": 2,
   "id": "5fab746a",
   "metadata": {},
   "outputs": [],
   "source": [
    "import numpy as np"
   ]
  },
  {
   "cell_type": "code",
   "execution_count": 3,
   "id": "abfa38d4",
   "metadata": {},
   "outputs": [],
   "source": [
    "df = pd.read_csv(\"revised-2_employee_salaries_2021_12_headcount_salary.csv\")"
   ]
  },
  {
   "cell_type": "code",
   "execution_count": 4,
   "id": "caa82a80",
   "metadata": {},
   "outputs": [
    {
     "data": {
      "text/plain": [
       "FIRST_NAME           object\n",
       "LAST_NAME            object\n",
       "DEPARTMENT           object\n",
       "JOB_TITLE            object\n",
       "ELECTED_OFFICIAL      int64\n",
       "DATE_STARTED         object\n",
       "SEX                  object\n",
       "ETHNICITY            object\n",
       "ORIG_START           object\n",
       "DATE_TERM            object\n",
       "PAY_STATUS           object\n",
       "ANNUAL_SALARY       float64\n",
       "REGULAR_PAY         float64\n",
       "OVERTIME_PAY        float64\n",
       "INCENTIVE_PAY       float64\n",
       "GROSS_PAY           float64\n",
       "dtype: object"
      ]
     },
     "execution_count": 4,
     "metadata": {},
     "output_type": "execute_result"
    }
   ],
   "source": [
    "df.dtypes"
   ]
  },
  {
   "cell_type": "code",
   "execution_count": 5,
   "id": "74d0fbd0",
   "metadata": {},
   "outputs": [
    {
     "data": {
      "text/plain": [
       "(6373, 16)"
      ]
     },
     "execution_count": 5,
     "metadata": {},
     "output_type": "execute_result"
    }
   ],
   "source": [
    "df.shape"
   ]
  },
  {
   "cell_type": "markdown",
   "id": "8387bf14",
   "metadata": {},
   "source": [
    "# values outside interquartile range(25% to 75%) is called outlier"
   ]
  },
  {
   "cell_type": "code",
   "execution_count": 6,
   "id": "abd56e4e",
   "metadata": {},
   "outputs": [
    {
     "data": {
      "text/html": [
       "<div>\n",
       "<style scoped>\n",
       "    .dataframe tbody tr th:only-of-type {\n",
       "        vertical-align: middle;\n",
       "    }\n",
       "\n",
       "    .dataframe tbody tr th {\n",
       "        vertical-align: top;\n",
       "    }\n",
       "\n",
       "    .dataframe thead th {\n",
       "        text-align: right;\n",
       "    }\n",
       "</style>\n",
       "<table border=\"1\" class=\"dataframe\">\n",
       "  <thead>\n",
       "    <tr style=\"text-align: right;\">\n",
       "      <th></th>\n",
       "      <th>ELECTED_OFFICIAL</th>\n",
       "      <th>ANNUAL_SALARY</th>\n",
       "      <th>REGULAR_PAY</th>\n",
       "      <th>OVERTIME_PAY</th>\n",
       "      <th>INCENTIVE_PAY</th>\n",
       "      <th>GROSS_PAY</th>\n",
       "    </tr>\n",
       "  </thead>\n",
       "  <tbody>\n",
       "    <tr>\n",
       "      <th>count</th>\n",
       "      <td>6373.000000</td>\n",
       "      <td>6373.000000</td>\n",
       "      <td>6373.000000</td>\n",
       "      <td>6373.000000</td>\n",
       "      <td>6373.000000</td>\n",
       "      <td>6373.000000</td>\n",
       "    </tr>\n",
       "    <tr>\n",
       "      <th>mean</th>\n",
       "      <td>0.000785</td>\n",
       "      <td>53613.230441</td>\n",
       "      <td>46496.806430</td>\n",
       "      <td>4708.267389</td>\n",
       "      <td>270.639950</td>\n",
       "      <td>51475.713769</td>\n",
       "    </tr>\n",
       "    <tr>\n",
       "      <th>std</th>\n",
       "      <td>0.028001</td>\n",
       "      <td>21924.660786</td>\n",
       "      <td>27653.269006</td>\n",
       "      <td>9438.036990</td>\n",
       "      <td>731.420016</td>\n",
       "      <td>31737.295120</td>\n",
       "    </tr>\n",
       "    <tr>\n",
       "      <th>min</th>\n",
       "      <td>0.000000</td>\n",
       "      <td>5666.960000</td>\n",
       "      <td>0.000000</td>\n",
       "      <td>-44.190000</td>\n",
       "      <td>-1000.000000</td>\n",
       "      <td>45.620000</td>\n",
       "    </tr>\n",
       "    <tr>\n",
       "      <th>25%</th>\n",
       "      <td>0.000000</td>\n",
       "      <td>39800.380000</td>\n",
       "      <td>31661.210000</td>\n",
       "      <td>0.000000</td>\n",
       "      <td>100.000000</td>\n",
       "      <td>33289.020000</td>\n",
       "    </tr>\n",
       "    <tr>\n",
       "      <th>50%</th>\n",
       "      <td>0.000000</td>\n",
       "      <td>47259.470000</td>\n",
       "      <td>44025.570000</td>\n",
       "      <td>536.360000</td>\n",
       "      <td>100.000000</td>\n",
       "      <td>47705.500000</td>\n",
       "    </tr>\n",
       "    <tr>\n",
       "      <th>75%</th>\n",
       "      <td>0.000000</td>\n",
       "      <td>64116.000000</td>\n",
       "      <td>59740.160000</td>\n",
       "      <td>4657.290000</td>\n",
       "      <td>225.000000</td>\n",
       "      <td>68159.600000</td>\n",
       "    </tr>\n",
       "    <tr>\n",
       "      <th>max</th>\n",
       "      <td>1.000000</td>\n",
       "      <td>254999.470000</td>\n",
       "      <td>255000.170000</td>\n",
       "      <td>106858.060000</td>\n",
       "      <td>9395.270000</td>\n",
       "      <td>255225.170000</td>\n",
       "    </tr>\n",
       "  </tbody>\n",
       "</table>\n",
       "</div>"
      ],
      "text/plain": [
       "       ELECTED_OFFICIAL  ANNUAL_SALARY    REGULAR_PAY   OVERTIME_PAY  \\\n",
       "count       6373.000000    6373.000000    6373.000000    6373.000000   \n",
       "mean           0.000785   53613.230441   46496.806430    4708.267389   \n",
       "std            0.028001   21924.660786   27653.269006    9438.036990   \n",
       "min            0.000000    5666.960000       0.000000     -44.190000   \n",
       "25%            0.000000   39800.380000   31661.210000       0.000000   \n",
       "50%            0.000000   47259.470000   44025.570000     536.360000   \n",
       "75%            0.000000   64116.000000   59740.160000    4657.290000   \n",
       "max            1.000000  254999.470000  255000.170000  106858.060000   \n",
       "\n",
       "       INCENTIVE_PAY      GROSS_PAY  \n",
       "count    6373.000000    6373.000000  \n",
       "mean      270.639950   51475.713769  \n",
       "std       731.420016   31737.295120  \n",
       "min     -1000.000000      45.620000  \n",
       "25%       100.000000   33289.020000  \n",
       "50%       100.000000   47705.500000  \n",
       "75%       225.000000   68159.600000  \n",
       "max      9395.270000  255225.170000  "
      ]
     },
     "execution_count": 6,
     "metadata": {},
     "output_type": "execute_result"
    }
   ],
   "source": [
    "df.describe()"
   ]
  },
  {
   "cell_type": "code",
   "execution_count": 7,
   "id": "cc141a73",
   "metadata": {},
   "outputs": [],
   "source": [
    "from matplotlib import pyplot as plt\n",
    "from matplotlib import style\n",
    "import seaborn as sns\n",
    "%matplotlib inline"
   ]
  },
  {
   "cell_type": "markdown",
   "id": "416c9785",
   "metadata": {},
   "source": [
    "# Splitting numerical columns"
   ]
  },
  {
   "cell_type": "code",
   "execution_count": 8,
   "id": "6a11d706",
   "metadata": {},
   "outputs": [],
   "source": [
    "df_num=df.select_dtypes(include=[np.number])"
   ]
  },
  {
   "cell_type": "code",
   "execution_count": 9,
   "id": "3e60c85d",
   "metadata": {},
   "outputs": [
    {
     "data": {
      "text/plain": [
       "Index(['ELECTED_OFFICIAL', 'ANNUAL_SALARY', 'REGULAR_PAY', 'OVERTIME_PAY',\n",
       "       'INCENTIVE_PAY', 'GROSS_PAY'],\n",
       "      dtype='object')"
      ]
     },
     "execution_count": 9,
     "metadata": {},
     "output_type": "execute_result"
    }
   ],
   "source": [
    "df_num.columns"
   ]
  },
  {
   "cell_type": "code",
   "execution_count": 10,
   "id": "283435ed",
   "metadata": {},
   "outputs": [
    {
     "data": {
      "text/plain": [
       "ELECTED_OFFICIAL    0\n",
       "ANNUAL_SALARY       0\n",
       "REGULAR_PAY         0\n",
       "OVERTIME_PAY        0\n",
       "INCENTIVE_PAY       0\n",
       "GROSS_PAY           0\n",
       "dtype: int64"
      ]
     },
     "execution_count": 10,
     "metadata": {},
     "output_type": "execute_result"
    }
   ],
   "source": [
    "df_num.isnull().sum()"
   ]
  },
  {
   "cell_type": "markdown",
   "id": "15d85a71",
   "metadata": {},
   "source": [
    "# splitting categorical columns"
   ]
  },
  {
   "cell_type": "code",
   "execution_count": 11,
   "id": "849e733c",
   "metadata": {},
   "outputs": [],
   "source": [
    "df_cat=df.select_dtypes(include=['object']) "
   ]
  },
  {
   "cell_type": "code",
   "execution_count": 12,
   "id": "5652e9f7",
   "metadata": {},
   "outputs": [
    {
     "data": {
      "text/plain": [
       "Index(['FIRST_NAME', 'LAST_NAME', 'DEPARTMENT', 'JOB_TITLE', 'DATE_STARTED',\n",
       "       'SEX', 'ETHNICITY', 'ORIG_START', 'DATE_TERM', 'PAY_STATUS'],\n",
       "      dtype='object')"
      ]
     },
     "execution_count": 12,
     "metadata": {},
     "output_type": "execute_result"
    }
   ],
   "source": [
    "df_cat.columns"
   ]
  },
  {
   "cell_type": "code",
   "execution_count": 53,
   "id": "7c8a1daa",
   "metadata": {},
   "outputs": [
    {
     "data": {
      "text/plain": [
       "array(['CATHERINE', 'JOY M', 'KEVIN J', ..., 'STANLEY J', 'ILAN',\n",
       "       'JEFFREY M.'], dtype=object)"
      ]
     },
     "execution_count": 53,
     "metadata": {},
     "output_type": "execute_result"
    }
   ],
   "source": [
    "df_cat[\"FIRST_NAME\"].unique()"
   ]
  },
  {
   "cell_type": "markdown",
   "id": "c3451f6b",
   "metadata": {},
   "source": [
    "# Outlier for numerical columns"
   ]
  },
  {
   "cell_type": "code",
   "execution_count": 13,
   "id": "719e3272",
   "metadata": {},
   "outputs": [
    {
     "data": {
      "text/plain": [
       "{'whiskers': [<matplotlib.lines.Line2D at 0x125922710>,\n",
       "  <matplotlib.lines.Line2D at 0x125921890>],\n",
       " 'caps': [<matplotlib.lines.Line2D at 0x125b8f390>,\n",
       "  <matplotlib.lines.Line2D at 0x125b9c5d0>],\n",
       " 'boxes': [<matplotlib.lines.Line2D at 0x1259235d0>],\n",
       " 'medians': [<matplotlib.lines.Line2D at 0x125b9f010>],\n",
       " 'fliers': [<matplotlib.lines.Line2D at 0x125b9f990>],\n",
       " 'means': []}"
      ]
     },
     "execution_count": 13,
     "metadata": {},
     "output_type": "execute_result"
    },
    {
     "data": {
      "image/png": "[encoded data removed]",
      "text/plain": [
       "<Figure size 640x480 with 1 Axes>"
      ]
     },
     "metadata": {},
     "output_type": "display_data"
    }
   ],
   "source": [
    "plt.boxplot(df_num[\"ANNUAL_SALARY\"])"
   ]
  },
  {
   "cell_type": "code",
   "execution_count": 14,
   "id": "818f9e31",
   "metadata": {},
   "outputs": [
    {
     "data": {
      "text/plain": [
       "0.10     32619.60\n",
       "0.25     39800.38\n",
       "0.50     47259.47\n",
       "0.75     64116.00\n",
       "1.00    254999.47\n",
       "Name: ANNUAL_SALARY, dtype: float64"
      ]
     },
     "execution_count": 14,
     "metadata": {},
     "output_type": "execute_result"
    }
   ],
   "source": [
    "df_num[\"ANNUAL_SALARY\"].quantile([0.1,0.25,0.5,0.75,1.0])"
   ]
  },
  {
   "cell_type": "code",
   "execution_count": 79,
   "id": "ef592a64",
   "metadata": {},
   "outputs": [
    {
     "data": {
      "text/plain": [
       "(6373, 6)"
      ]
     },
     "execution_count": 79,
     "metadata": {},
     "output_type": "execute_result"
    }
   ],
   "source": [
    "df_num.shape"
   ]
  },
  {
   "cell_type": "code",
   "execution_count": 15,
   "id": "816a9cb8",
   "metadata": {},
   "outputs": [],
   "source": [
    "df_1=df_num[(df_num[\"ANNUAL_SALARY\"] >=39800.38) & (df_num[\"ANNUAL_SALARY\"] <=64116.00)]"
   ]
  },
  {
   "cell_type": "code",
   "execution_count": 16,
   "id": "2f75d7ba",
   "metadata": {},
   "outputs": [
    {
     "data": {
      "text/plain": [
       "(3193, 6)"
      ]
     },
     "execution_count": 16,
     "metadata": {},
     "output_type": "execute_result"
    }
   ],
   "source": [
    "df_1.shape"
   ]
  },
  {
   "cell_type": "code",
   "execution_count": 17,
   "id": "094cb001",
   "metadata": {},
   "outputs": [
    {
     "data": {
      "text/plain": [
       "{'whiskers': [<matplotlib.lines.Line2D at 0x125c8fed0>,\n",
       "  <matplotlib.lines.Line2D at 0x125c9cad0>],\n",
       " 'caps': [<matplotlib.lines.Line2D at 0x125c9d710>,\n",
       "  <matplotlib.lines.Line2D at 0x125c9e190>],\n",
       " 'boxes': [<matplotlib.lines.Line2D at 0x125c8f310>],\n",
       " 'medians': [<matplotlib.lines.Line2D at 0x125c9eb90>],\n",
       " 'fliers': [<matplotlib.lines.Line2D at 0x125c9f110>],\n",
       " 'means': []}"
      ]
     },
     "execution_count": 17,
     "metadata": {},
     "output_type": "execute_result"
    },
    {
     "data": {
      "image/png": "[encoded data removed]",
      "text/plain": [
       "<Figure size 640x480 with 1 Axes>"
      ]
     },
     "metadata": {},
     "output_type": "display_data"
    }
   ],
   "source": [
    "plt.boxplot(df_1[\"ANNUAL_SALARY\"])"
   ]
  },
  {
   "cell_type": "code",
   "execution_count": 18,
   "id": "9ae6e134",
   "metadata": {},
   "outputs": [
    {
     "data": {
      "text/plain": [
       "{'whiskers': [<matplotlib.lines.Line2D at 0x125d111d0>,\n",
       "  <matplotlib.lines.Line2D at 0x125d11d90>],\n",
       " 'caps': [<matplotlib.lines.Line2D at 0x125d12890>,\n",
       "  <matplotlib.lines.Line2D at 0x125d134d0>],\n",
       " 'boxes': [<matplotlib.lines.Line2D at 0x125d10650>],\n",
       " 'medians': [<matplotlib.lines.Line2D at 0x125d13fd0>],\n",
       " 'fliers': [<matplotlib.lines.Line2D at 0x125d20ad0>],\n",
       " 'means': []}"
      ]
     },
     "execution_count": 18,
     "metadata": {},
     "output_type": "execute_result"
    },
    {
     "data": {
      "image/png": "[encoded data removed]",
      "text/plain": [
       "<Figure size 640x480 with 1 Axes>"
      ]
     },
     "metadata": {},
     "output_type": "display_data"
    }
   ],
   "source": [
    "plt.boxplot(df_1[\"REGULAR_PAY\"])"
   ]
  },
  {
   "cell_type": "code",
   "execution_count": 19,
   "id": "475084b8",
   "metadata": {},
   "outputs": [
    {
     "data": {
      "text/plain": [
       "0.10     19096.35\n",
       "0.25     38938.50\n",
       "0.50     44975.90\n",
       "0.75     52244.46\n",
       "1.00    134909.02\n",
       "Name: REGULAR_PAY, dtype: float64"
      ]
     },
     "execution_count": 19,
     "metadata": {},
     "output_type": "execute_result"
    }
   ],
   "source": [
    "df_1[\"REGULAR_PAY\"].quantile([0.1,0.25,0.5,0.75,1.0])"
   ]
  },
  {
   "cell_type": "code",
   "execution_count": 20,
   "id": "7990a089",
   "metadata": {},
   "outputs": [],
   "source": [
    "df_2=df_1[(df_1[\"REGULAR_PAY\"] >=38938.50) & (df_1[\"REGULAR_PAY\"] <=52244.46)]"
   ]
  },
  {
   "cell_type": "code",
   "execution_count": 21,
   "id": "fa6aa051",
   "metadata": {},
   "outputs": [
    {
     "data": {
      "text/plain": [
       "(1600, 6)"
      ]
     },
     "execution_count": 21,
     "metadata": {},
     "output_type": "execute_result"
    }
   ],
   "source": [
    "df_2.shape"
   ]
  },
  {
   "cell_type": "code",
   "execution_count": 22,
   "id": "744d3266",
   "metadata": {},
   "outputs": [
    {
     "data": {
      "text/plain": [
       "{'whiskers': [<matplotlib.lines.Line2D at 0x125d79950>,\n",
       "  <matplotlib.lines.Line2D at 0x125d7a550>],\n",
       " 'caps': [<matplotlib.lines.Line2D at 0x125d7b110>,\n",
       "  <matplotlib.lines.Line2D at 0x125d7ba50>],\n",
       " 'boxes': [<matplotlib.lines.Line2D at 0x125d78d90>],\n",
       " 'medians': [<matplotlib.lines.Line2D at 0x125d88510>],\n",
       " 'fliers': [<matplotlib.lines.Line2D at 0x125d58ed0>],\n",
       " 'means': []}"
      ]
     },
     "execution_count": 22,
     "metadata": {},
     "output_type": "execute_result"
    },
    {
     "data": {
      "image/png": "[encoded data removed]",
      "text/plain": [
       "<Figure size 640x480 with 1 Axes>"
      ]
     },
     "metadata": {},
     "output_type": "display_data"
    }
   ],
   "source": [
    "plt.boxplot(df_2[\"REGULAR_PAY\"])"
   ]
  },
  {
   "cell_type": "code",
   "execution_count": 23,
   "id": "69d91c95",
   "metadata": {},
   "outputs": [
    {
     "data": {
      "text/plain": [
       "{'whiskers': [<matplotlib.lines.Line2D at 0x125d94dd0>,\n",
       "  <matplotlib.lines.Line2D at 0x125ddffd0>],\n",
       " 'caps': [<matplotlib.lines.Line2D at 0x125df0b50>,\n",
       "  <matplotlib.lines.Line2D at 0x125df1610>],\n",
       " 'boxes': [<matplotlib.lines.Line2D at 0x125ddf510>],\n",
       " 'medians': [<matplotlib.lines.Line2D at 0x125df21d0>],\n",
       " 'fliers': [<matplotlib.lines.Line2D at 0x125df2bd0>],\n",
       " 'means': []}"
      ]
     },
     "execution_count": 23,
     "metadata": {},
     "output_type": "execute_result"
    },
    {
     "data": {
      "image/png": "[encoded data removed]",
      "text/plain": [
       "<Figure size 640x480 with 1 Axes>"
      ]
     },
     "metadata": {},
     "output_type": "display_data"
    }
   ],
   "source": [
    "plt.boxplot(df_2[\"OVERTIME_PAY\"])"
   ]
  },
  {
   "cell_type": "code",
   "execution_count": 24,
   "id": "1a90876b",
   "metadata": {},
   "outputs": [
    {
     "data": {
      "text/plain": [
       "0.10        0.0000\n",
       "0.25        0.0000\n",
       "0.50     1861.4150\n",
       "0.75     6303.4575\n",
       "1.00    84905.7900\n",
       "Name: OVERTIME_PAY, dtype: float64"
      ]
     },
     "execution_count": 24,
     "metadata": {},
     "output_type": "execute_result"
    }
   ],
   "source": [
    "df_2[\"OVERTIME_PAY\"].quantile([0.1,0.25,0.5,0.75,1.0])"
   ]
  },
  {
   "cell_type": "code",
   "execution_count": 25,
   "id": "6ea3387f",
   "metadata": {},
   "outputs": [],
   "source": [
    "df_3=df_2[(df_2[\"OVERTIME_PAY\"] >=0.0000) & (df_2[\"OVERTIME_PAY\"] <=6303.4575)]"
   ]
  },
  {
   "cell_type": "code",
   "execution_count": 26,
   "id": "d3b9b835",
   "metadata": {},
   "outputs": [
    {
     "data": {
      "text/plain": [
       "(1199, 6)"
      ]
     },
     "execution_count": 26,
     "metadata": {},
     "output_type": "execute_result"
    }
   ],
   "source": [
    "df_3.shape"
   ]
  },
  {
   "cell_type": "code",
   "execution_count": 27,
   "id": "44e4883d",
   "metadata": {},
   "outputs": [
    {
     "data": {
      "text/plain": [
       "{'whiskers': [<matplotlib.lines.Line2D at 0x125e51190>,\n",
       "  <matplotlib.lines.Line2D at 0x125e51d90>],\n",
       " 'caps': [<matplotlib.lines.Line2D at 0x125e52890>,\n",
       "  <matplotlib.lines.Line2D at 0x125e533d0>],\n",
       " 'boxes': [<matplotlib.lines.Line2D at 0x125e50650>],\n",
       " 'medians': [<matplotlib.lines.Line2D at 0x125e53f90>],\n",
       " 'fliers': [<matplotlib.lines.Line2D at 0x125bc9d50>],\n",
       " 'means': []}"
      ]
     },
     "execution_count": 27,
     "metadata": {},
     "output_type": "execute_result"
    },
    {
     "data": {
      "image/png": "[encoded data removed]",
      "text/plain": [
       "<Figure size 640x480 with 1 Axes>"
      ]
     },
     "metadata": {},
     "output_type": "display_data"
    }
   ],
   "source": [
    "plt.boxplot(df_3[\"OVERTIME_PAY\"])"
   ]
  },
  {
   "cell_type": "code",
   "execution_count": 28,
   "id": "f80a8c8b",
   "metadata": {},
   "outputs": [
    {
     "data": {
      "text/plain": [
       "{'whiskers': [<matplotlib.lines.Line2D at 0x125cc7350>,\n",
       "  <matplotlib.lines.Line2D at 0x125eb7f50>],\n",
       " 'caps': [<matplotlib.lines.Line2D at 0x125ec0b10>,\n",
       "  <matplotlib.lines.Line2D at 0x125ec1650>],\n",
       " 'boxes': [<matplotlib.lines.Line2D at 0x125eb6850>],\n",
       " 'medians': [<matplotlib.lines.Line2D at 0x125ec21d0>],\n",
       " 'fliers': [<matplotlib.lines.Line2D at 0x125eb7e10>],\n",
       " 'means': []}"
      ]
     },
     "execution_count": 28,
     "metadata": {},
     "output_type": "execute_result"
    },
    {
     "data": {
      "image/png": "[encoded data removed]",
      "text/plain": [
       "<Figure size 640x480 with 1 Axes>"
      ]
     },
     "metadata": {},
     "output_type": "display_data"
    }
   ],
   "source": [
    "plt.boxplot(df_3[\"GROSS_PAY\"])"
   ]
  },
  {
   "cell_type": "code",
   "execution_count": 29,
   "id": "c31ee990",
   "metadata": {},
   "outputs": [
    {
     "data": {
      "text/plain": [
       "{'whiskers': [<matplotlib.lines.Line2D at 0x125f2a150>,\n",
       "  <matplotlib.lines.Line2D at 0x125f2acd0>],\n",
       " 'caps': [<matplotlib.lines.Line2D at 0x125f2b790>,\n",
       "  <matplotlib.lines.Line2D at 0x125f38210>],\n",
       " 'boxes': [<matplotlib.lines.Line2D at 0x125f29690>],\n",
       " 'medians': [<matplotlib.lines.Line2D at 0x125f38c90>],\n",
       " 'fliers': [<matplotlib.lines.Line2D at 0x125f39610>],\n",
       " 'means': []}"
      ]
     },
     "execution_count": 29,
     "metadata": {},
     "output_type": "execute_result"
    },
    {
     "data": {
      "image/png": "[encoded data removed]",
      "text/plain": [
       "<Figure size 640x480 with 1 Axes>"
      ]
     },
     "metadata": {},
     "output_type": "display_data"
    }
   ],
   "source": [
    "plt.boxplot(df_3[\"INCENTIVE_PAY\"])"
   ]
  },
  {
   "cell_type": "code",
   "execution_count": 30,
   "id": "75298500",
   "metadata": {},
   "outputs": [
    {
     "data": {
      "text/plain": [
       "0.10     100.00\n",
       "0.25     100.00\n",
       "0.50     100.00\n",
       "0.75     225.00\n",
       "1.00    2321.77\n",
       "Name: INCENTIVE_PAY, dtype: float64"
      ]
     },
     "execution_count": 30,
     "metadata": {},
     "output_type": "execute_result"
    }
   ],
   "source": [
    "df_3[\"INCENTIVE_PAY\"].quantile([0.1,0.25,0.5,0.75,1.0])"
   ]
  },
  {
   "cell_type": "code",
   "execution_count": 31,
   "id": "998336a3",
   "metadata": {},
   "outputs": [],
   "source": [
    "df_4=df_3[(df_3[\"INCENTIVE_PAY\"] >=100.00) & (df_3[\"INCENTIVE_PAY\"] <=225.00)]"
   ]
  },
  {
   "cell_type": "code",
   "execution_count": 32,
   "id": "5d5cae8a",
   "metadata": {},
   "outputs": [
    {
     "data": {
      "text/plain": [
       "(1099, 6)"
      ]
     },
     "execution_count": 32,
     "metadata": {},
     "output_type": "execute_result"
    }
   ],
   "source": [
    "df_4.shape"
   ]
  },
  {
   "cell_type": "code",
   "execution_count": 33,
   "id": "8f6b3725",
   "metadata": {},
   "outputs": [
    {
     "data": {
      "text/plain": [
       "{'whiskers': [<matplotlib.lines.Line2D at 0x125f879d0>,\n",
       "  <matplotlib.lines.Line2D at 0x125f98690>],\n",
       " 'caps': [<matplotlib.lines.Line2D at 0x125f99350>,\n",
       "  <matplotlib.lines.Line2D at 0x125f99e90>],\n",
       " 'boxes': [<matplotlib.lines.Line2D at 0x125f86dd0>],\n",
       " 'medians': [<matplotlib.lines.Line2D at 0x125f9a510>],\n",
       " 'fliers': [<matplotlib.lines.Line2D at 0x125f98d10>],\n",
       " 'means': []}"
      ]
     },
     "execution_count": 33,
     "metadata": {},
     "output_type": "execute_result"
    },
    {
     "data": {
      "image/png": "[encoded data removed]",
      "text/plain": [
       "<Figure size 640x480 with 1 Axes>"
      ]
     },
     "metadata": {},
     "output_type": "display_data"
    }
   ],
   "source": [
    "plt.boxplot(df_4[\"INCENTIVE_PAY\"])"
   ]
  },
  {
   "cell_type": "code",
   "execution_count": 34,
   "id": "c0bd919d",
   "metadata": {},
   "outputs": [
    {
     "data": {
      "text/plain": [
       "{'whiskers': [<matplotlib.lines.Line2D at 0x125fbbe50>,\n",
       "  <matplotlib.lines.Line2D at 0x126005410>],\n",
       " 'caps': [<matplotlib.lines.Line2D at 0x126005e10>,\n",
       "  <matplotlib.lines.Line2D at 0x126006890>],\n",
       " 'boxes': [<matplotlib.lines.Line2D at 0x125ff4210>],\n",
       " 'medians': [<matplotlib.lines.Line2D at 0x126007250>],\n",
       " 'fliers': [<matplotlib.lines.Line2D at 0x126007d90>],\n",
       " 'means': []}"
      ]
     },
     "execution_count": 34,
     "metadata": {},
     "output_type": "execute_result"
    },
    {
     "data": {
      "image/png": "[encoded data removed]",
      "text/plain": [
       "<Figure size 640x480 with 1 Axes>"
      ]
     },
     "metadata": {},
     "output_type": "display_data"
    }
   ],
   "source": [
    "plt.boxplot(df_4[\"GROSS_PAY\"])"
   ]
  },
  {
   "cell_type": "code",
   "execution_count": 35,
   "id": "4e5d4073",
   "metadata": {},
   "outputs": [
    {
     "data": {
      "text/plain": [
       "ELECTED_OFFICIAL    0\n",
       "ANNUAL_SALARY       0\n",
       "REGULAR_PAY         0\n",
       "OVERTIME_PAY        0\n",
       "INCENTIVE_PAY       0\n",
       "GROSS_PAY           0\n",
       "dtype: int64"
      ]
     },
     "execution_count": 35,
     "metadata": {},
     "output_type": "execute_result"
    }
   ],
   "source": [
    "df_4.isnull().sum()"
   ]
  },
  {
   "cell_type": "code",
   "execution_count": 36,
   "id": "5c510ff5",
   "metadata": {},
   "outputs": [
    {
     "data": {
      "text/html": [
       "<div>\n",
       "<style scoped>\n",
       "    .dataframe tbody tr th:only-of-type {\n",
       "        vertical-align: middle;\n",
       "    }\n",
       "\n",
       "    .dataframe tbody tr th {\n",
       "        vertical-align: top;\n",
       "    }\n",
       "\n",
       "    .dataframe thead th {\n",
       "        text-align: right;\n",
       "    }\n",
       "</style>\n",
       "<table border=\"1\" class=\"dataframe\">\n",
       "  <thead>\n",
       "    <tr style=\"text-align: right;\">\n",
       "      <th></th>\n",
       "      <th>ELECTED_OFFICIAL</th>\n",
       "      <th>ANNUAL_SALARY</th>\n",
       "      <th>REGULAR_PAY</th>\n",
       "      <th>OVERTIME_PAY</th>\n",
       "      <th>INCENTIVE_PAY</th>\n",
       "      <th>GROSS_PAY</th>\n",
       "    </tr>\n",
       "  </thead>\n",
       "  <tbody>\n",
       "    <tr>\n",
       "      <th>1</th>\n",
       "      <td>0</td>\n",
       "      <td>40761.76</td>\n",
       "      <td>44546.71</td>\n",
       "      <td>2959.17</td>\n",
       "      <td>125.0</td>\n",
       "      <td>47630.88</td>\n",
       "    </tr>\n",
       "    <tr>\n",
       "      <th>4</th>\n",
       "      <td>0</td>\n",
       "      <td>49844.50</td>\n",
       "      <td>49844.52</td>\n",
       "      <td>527.20</td>\n",
       "      <td>225.0</td>\n",
       "      <td>50596.72</td>\n",
       "    </tr>\n",
       "    <tr>\n",
       "      <th>9</th>\n",
       "      <td>0</td>\n",
       "      <td>42005.18</td>\n",
       "      <td>46757.40</td>\n",
       "      <td>4735.48</td>\n",
       "      <td>100.0</td>\n",
       "      <td>51592.88</td>\n",
       "    </tr>\n",
       "    <tr>\n",
       "      <th>14</th>\n",
       "      <td>0</td>\n",
       "      <td>42005.18</td>\n",
       "      <td>46628.42</td>\n",
       "      <td>4450.44</td>\n",
       "      <td>225.0</td>\n",
       "      <td>51303.86</td>\n",
       "    </tr>\n",
       "    <tr>\n",
       "      <th>16</th>\n",
       "      <td>0</td>\n",
       "      <td>42864.43</td>\n",
       "      <td>42752.10</td>\n",
       "      <td>0.00</td>\n",
       "      <td>100.0</td>\n",
       "      <td>42852.10</td>\n",
       "    </tr>\n",
       "  </tbody>\n",
       "</table>\n",
       "</div>"
      ],
      "text/plain": [
       "    ELECTED_OFFICIAL  ANNUAL_SALARY  REGULAR_PAY  OVERTIME_PAY  INCENTIVE_PAY  \\\n",
       "1                  0       40761.76     44546.71       2959.17          125.0   \n",
       "4                  0       49844.50     49844.52        527.20          225.0   \n",
       "9                  0       42005.18     46757.40       4735.48          100.0   \n",
       "14                 0       42005.18     46628.42       4450.44          225.0   \n",
       "16                 0       42864.43     42752.10          0.00          100.0   \n",
       "\n",
       "    GROSS_PAY  \n",
       "1    47630.88  \n",
       "4    50596.72  \n",
       "9    51592.88  \n",
       "14   51303.86  \n",
       "16   42852.10  "
      ]
     },
     "execution_count": 36,
     "metadata": {},
     "output_type": "execute_result"
    }
   ],
   "source": [
    "df_4.head()"
   ]
  },
  {
   "cell_type": "code",
   "execution_count": 105,
   "id": "c03a4a56",
   "metadata": {},
   "outputs": [
    {
     "data": {
      "text/html": [
       "<div>\n",
       "<style scoped>\n",
       "    .dataframe tbody tr th:only-of-type {\n",
       "        vertical-align: middle;\n",
       "    }\n",
       "\n",
       "    .dataframe tbody tr th {\n",
       "        vertical-align: top;\n",
       "    }\n",
       "\n",
       "    .dataframe thead th {\n",
       "        text-align: right;\n",
       "    }\n",
       "</style>\n",
       "<table border=\"1\" class=\"dataframe\">\n",
       "  <thead>\n",
       "    <tr style=\"text-align: right;\">\n",
       "      <th></th>\n",
       "      <th>ELECTED_OFFICIAL</th>\n",
       "      <th>ANNUAL_SALARY</th>\n",
       "      <th>REGULAR_PAY</th>\n",
       "      <th>OVERTIME_PAY</th>\n",
       "      <th>INCENTIVE_PAY</th>\n",
       "      <th>GROSS_PAY</th>\n",
       "    </tr>\n",
       "  </thead>\n",
       "  <tbody>\n",
       "    <tr>\n",
       "      <th>ELECTED_OFFICIAL</th>\n",
       "      <td>NaN</td>\n",
       "      <td>NaN</td>\n",
       "      <td>NaN</td>\n",
       "      <td>NaN</td>\n",
       "      <td>NaN</td>\n",
       "      <td>NaN</td>\n",
       "    </tr>\n",
       "    <tr>\n",
       "      <th>ANNUAL_SALARY</th>\n",
       "      <td>NaN</td>\n",
       "      <td>1.000000</td>\n",
       "      <td>0.649211</td>\n",
       "      <td>-0.207913</td>\n",
       "      <td>-0.062359</td>\n",
       "      <td>0.515088</td>\n",
       "    </tr>\n",
       "    <tr>\n",
       "      <th>REGULAR_PAY</th>\n",
       "      <td>NaN</td>\n",
       "      <td>0.649211</td>\n",
       "      <td>1.000000</td>\n",
       "      <td>-0.139169</td>\n",
       "      <td>-0.083443</td>\n",
       "      <td>0.879987</td>\n",
       "    </tr>\n",
       "    <tr>\n",
       "      <th>OVERTIME_PAY</th>\n",
       "      <td>NaN</td>\n",
       "      <td>-0.207913</td>\n",
       "      <td>-0.139169</td>\n",
       "      <td>1.000000</td>\n",
       "      <td>0.158631</td>\n",
       "      <td>0.347652</td>\n",
       "    </tr>\n",
       "    <tr>\n",
       "      <th>INCENTIVE_PAY</th>\n",
       "      <td>NaN</td>\n",
       "      <td>-0.062359</td>\n",
       "      <td>-0.083443</td>\n",
       "      <td>0.158631</td>\n",
       "      <td>1.000000</td>\n",
       "      <td>0.012503</td>\n",
       "    </tr>\n",
       "    <tr>\n",
       "      <th>GROSS_PAY</th>\n",
       "      <td>NaN</td>\n",
       "      <td>0.515088</td>\n",
       "      <td>0.879987</td>\n",
       "      <td>0.347652</td>\n",
       "      <td>0.012503</td>\n",
       "      <td>1.000000</td>\n",
       "    </tr>\n",
       "  </tbody>\n",
       "</table>\n",
       "</div>"
      ],
      "text/plain": [
       "                  ELECTED_OFFICIAL  ANNUAL_SALARY  REGULAR_PAY  OVERTIME_PAY  \\\n",
       "ELECTED_OFFICIAL               NaN            NaN          NaN           NaN   \n",
       "ANNUAL_SALARY                  NaN       1.000000     0.649211     -0.207913   \n",
       "REGULAR_PAY                    NaN       0.649211     1.000000     -0.139169   \n",
       "OVERTIME_PAY                   NaN      -0.207913    -0.139169      1.000000   \n",
       "INCENTIVE_PAY                  NaN      -0.062359    -0.083443      0.158631   \n",
       "GROSS_PAY                      NaN       0.515088     0.879987      0.347652   \n",
       "\n",
       "                  INCENTIVE_PAY  GROSS_PAY  \n",
       "ELECTED_OFFICIAL            NaN        NaN  \n",
       "ANNUAL_SALARY         -0.062359   0.515088  \n",
       "REGULAR_PAY           -0.083443   0.879987  \n",
       "OVERTIME_PAY           0.158631   0.347652  \n",
       "INCENTIVE_PAY          1.000000   0.012503  \n",
       "GROSS_PAY              0.012503   1.000000  "
      ]
     },
     "execution_count": 105,
     "metadata": {},
     "output_type": "execute_result"
    }
   ],
   "source": [
    "df_4.corr()"
   ]
  },
  {
   "cell_type": "markdown",
   "id": "22350649",
   "metadata": {},
   "source": [
    "# Scaling for numerical columns"
   ]
  },
  {
   "cell_type": "code",
   "execution_count": 37,
   "id": "640f1b45",
   "metadata": {},
   "outputs": [],
   "source": [
    "from sklearn import preprocessing"
   ]
  },
  {
   "cell_type": "code",
   "execution_count": 38,
   "id": "963ab4e7",
   "metadata": {},
   "outputs": [],
   "source": [
    "mm_scaler = preprocessing.MinMaxScaler()"
   ]
  },
  {
   "cell_type": "code",
   "execution_count": 39,
   "id": "df19848c",
   "metadata": {},
   "outputs": [],
   "source": [
    "df4_num_mm =mm_scaler.fit_transform(df_4)"
   ]
  },
  {
   "cell_type": "code",
   "execution_count": 40,
   "id": "e1430802",
   "metadata": {},
   "outputs": [
    {
     "data": {
      "text/plain": [
       "array([[0.        , 0.03953755, 0.42148105, 0.4697304 , 0.2       ,\n",
       "        0.44474311],\n",
       "       [0.        , 0.41307275, 0.81963421, 0.08368626, 1.        ,\n",
       "        0.59870347],\n",
       "       [0.        , 0.09067423, 0.58762389, 0.7516969 , 0.        ,\n",
       "        0.65041534],\n",
       "       ...,\n",
       "       [0.        , 0.26251932, 0.55274103, 0.26301963, 0.        ,\n",
       "        0.46651052],\n",
       "       [0.        , 0.1392792 , 0.3170241 , 0.        , 0.        ,\n",
       "        0.21767982],\n",
       "       [0.        , 0.09067423, 0.53259742, 0.57197304, 0.        ,\n",
       "        0.55363259]])"
      ]
     },
     "execution_count": 40,
     "metadata": {},
     "output_type": "execute_result"
    }
   ],
   "source": [
    "df4_num_mm"
   ]
  },
  {
   "cell_type": "markdown",
   "id": "86ea0a8f",
   "metadata": {},
   "source": [
    "# imputations using mode for categorical column"
   ]
  },
  {
   "cell_type": "code",
   "execution_count": 41,
   "id": "bf347ffd",
   "metadata": {},
   "outputs": [
    {
     "data": {
      "text/plain": [
       "FIRST_NAME         1\n",
       "LAST_NAME          0\n",
       "DEPARTMENT         0\n",
       "JOB_TITLE          0\n",
       "DATE_STARTED       0\n",
       "SEX                0\n",
       "ETHNICITY          0\n",
       "ORIG_START         0\n",
       "DATE_TERM       5095\n",
       "PAY_STATUS         0\n",
       "dtype: int64"
      ]
     },
     "execution_count": 41,
     "metadata": {},
     "output_type": "execute_result"
    }
   ],
   "source": [
    "df_cat.isnull().sum()"
   ]
  },
  {
   "cell_type": "code",
   "execution_count": 42,
   "id": "effdc9a1",
   "metadata": {},
   "outputs": [],
   "source": [
    "df_cat.drop([\"DATE_TERM\"],axis=1,inplace=True)"
   ]
  },
  {
   "cell_type": "code",
   "execution_count": 43,
   "id": "479d4955",
   "metadata": {},
   "outputs": [],
   "source": [
    "df_cat['FIRST_NAME'].fillna(df_cat['FIRST_NAME'].value_counts().idxmax(),inplace=True)"
   ]
  },
  {
   "cell_type": "code",
   "execution_count": 44,
   "id": "1d951582",
   "metadata": {},
   "outputs": [
    {
     "data": {
      "text/plain": [
       "FIRST_NAME      0\n",
       "LAST_NAME       0\n",
       "DEPARTMENT      0\n",
       "JOB_TITLE       0\n",
       "DATE_STARTED    0\n",
       "SEX             0\n",
       "ETHNICITY       0\n",
       "ORIG_START      0\n",
       "PAY_STATUS      0\n",
       "dtype: int64"
      ]
     },
     "execution_count": 44,
     "metadata": {},
     "output_type": "execute_result"
    }
   ],
   "source": [
    "df_cat.isnull().sum()"
   ]
  },
  {
   "cell_type": "markdown",
   "id": "ab9059ff",
   "metadata": {},
   "source": [
    "# Label Encoding for categorical columns"
   ]
  },
  {
   "cell_type": "code",
   "execution_count": 45,
   "id": "a8fe8706",
   "metadata": {},
   "outputs": [],
   "source": [
    "le=preprocessing.LabelEncoder()"
   ]
  },
  {
   "cell_type": "code",
   "execution_count": 46,
   "id": "40169011",
   "metadata": {},
   "outputs": [],
   "source": [
    "df2_cat_e =df_cat.apply(le.fit_transform)"
   ]
  },
  {
   "cell_type": "code",
   "execution_count": 47,
   "id": "481f9c80",
   "metadata": {},
   "outputs": [
    {
     "data": {
      "text/html": [
       "<div>\n",
       "<style scoped>\n",
       "    .dataframe tbody tr th:only-of-type {\n",
       "        vertical-align: middle;\n",
       "    }\n",
       "\n",
       "    .dataframe tbody tr th {\n",
       "        vertical-align: top;\n",
       "    }\n",
       "\n",
       "    .dataframe thead th {\n",
       "        text-align: right;\n",
       "    }\n",
       "</style>\n",
       "<table border=\"1\" class=\"dataframe\">\n",
       "  <thead>\n",
       "    <tr style=\"text-align: right;\">\n",
       "      <th></th>\n",
       "      <th>FIRST_NAME</th>\n",
       "      <th>LAST_NAME</th>\n",
       "      <th>DEPARTMENT</th>\n",
       "      <th>JOB_TITLE</th>\n",
       "      <th>DATE_STARTED</th>\n",
       "      <th>SEX</th>\n",
       "      <th>ETHNICITY</th>\n",
       "      <th>ORIG_START</th>\n",
       "      <th>PAY_STATUS</th>\n",
       "    </tr>\n",
       "  </thead>\n",
       "  <tbody>\n",
       "    <tr>\n",
       "      <th>0</th>\n",
       "      <td>631</td>\n",
       "      <td>0</td>\n",
       "      <td>19</td>\n",
       "      <td>718</td>\n",
       "      <td>1095</td>\n",
       "      <td>0</td>\n",
       "      <td>2</td>\n",
       "      <td>1509</td>\n",
       "      <td>0</td>\n",
       "    </tr>\n",
       "    <tr>\n",
       "      <th>1</th>\n",
       "      <td>1914</td>\n",
       "      <td>1</td>\n",
       "      <td>19</td>\n",
       "      <td>300</td>\n",
       "      <td>671</td>\n",
       "      <td>0</td>\n",
       "      <td>5</td>\n",
       "      <td>635</td>\n",
       "      <td>0</td>\n",
       "    </tr>\n",
       "    <tr>\n",
       "      <th>2</th>\n",
       "      <td>2134</td>\n",
       "      <td>1</td>\n",
       "      <td>11</td>\n",
       "      <td>487</td>\n",
       "      <td>1278</td>\n",
       "      <td>1</td>\n",
       "      <td>5</td>\n",
       "      <td>1177</td>\n",
       "      <td>0</td>\n",
       "    </tr>\n",
       "    <tr>\n",
       "      <th>3</th>\n",
       "      <td>1638</td>\n",
       "      <td>2</td>\n",
       "      <td>27</td>\n",
       "      <td>243</td>\n",
       "      <td>1230</td>\n",
       "      <td>0</td>\n",
       "      <td>2</td>\n",
       "      <td>1121</td>\n",
       "      <td>1</td>\n",
       "    </tr>\n",
       "    <tr>\n",
       "      <th>4</th>\n",
       "      <td>1422</td>\n",
       "      <td>3</td>\n",
       "      <td>0</td>\n",
       "      <td>663</td>\n",
       "      <td>607</td>\n",
       "      <td>0</td>\n",
       "      <td>2</td>\n",
       "      <td>1148</td>\n",
       "      <td>0</td>\n",
       "    </tr>\n",
       "    <tr>\n",
       "      <th>...</th>\n",
       "      <td>...</td>\n",
       "      <td>...</td>\n",
       "      <td>...</td>\n",
       "      <td>...</td>\n",
       "      <td>...</td>\n",
       "      <td>...</td>\n",
       "      <td>...</td>\n",
       "      <td>...</td>\n",
       "      <td>...</td>\n",
       "    </tr>\n",
       "    <tr>\n",
       "      <th>6368</th>\n",
       "      <td>3510</td>\n",
       "      <td>4203</td>\n",
       "      <td>19</td>\n",
       "      <td>593</td>\n",
       "      <td>783</td>\n",
       "      <td>1</td>\n",
       "      <td>5</td>\n",
       "      <td>474</td>\n",
       "      <td>0</td>\n",
       "    </tr>\n",
       "    <tr>\n",
       "      <th>6369</th>\n",
       "      <td>1490</td>\n",
       "      <td>4204</td>\n",
       "      <td>9</td>\n",
       "      <td>376</td>\n",
       "      <td>299</td>\n",
       "      <td>1</td>\n",
       "      <td>5</td>\n",
       "      <td>270</td>\n",
       "      <td>0</td>\n",
       "    </tr>\n",
       "    <tr>\n",
       "      <th>6370</th>\n",
       "      <td>1704</td>\n",
       "      <td>4205</td>\n",
       "      <td>9</td>\n",
       "      <td>152</td>\n",
       "      <td>385</td>\n",
       "      <td>1</td>\n",
       "      <td>5</td>\n",
       "      <td>351</td>\n",
       "      <td>0</td>\n",
       "    </tr>\n",
       "    <tr>\n",
       "      <th>6371</th>\n",
       "      <td>2602</td>\n",
       "      <td>4206</td>\n",
       "      <td>24</td>\n",
       "      <td>40</td>\n",
       "      <td>1170</td>\n",
       "      <td>0</td>\n",
       "      <td>5</td>\n",
       "      <td>1049</td>\n",
       "      <td>0</td>\n",
       "    </tr>\n",
       "    <tr>\n",
       "      <th>6372</th>\n",
       "      <td>3530</td>\n",
       "      <td>4207</td>\n",
       "      <td>21</td>\n",
       "      <td>864</td>\n",
       "      <td>1125</td>\n",
       "      <td>1</td>\n",
       "      <td>5</td>\n",
       "      <td>178</td>\n",
       "      <td>0</td>\n",
       "    </tr>\n",
       "  </tbody>\n",
       "</table>\n",
       "<p>6373 rows × 9 columns</p>\n",
       "</div>"
      ],
      "text/plain": [
       "      FIRST_NAME  LAST_NAME  DEPARTMENT  JOB_TITLE  DATE_STARTED  SEX  \\\n",
       "0            631          0          19        718          1095    0   \n",
       "1           1914          1          19        300           671    0   \n",
       "2           2134          1          11        487          1278    1   \n",
       "3           1638          2          27        243          1230    0   \n",
       "4           1422          3           0        663           607    0   \n",
       "...          ...        ...         ...        ...           ...  ...   \n",
       "6368        3510       4203          19        593           783    1   \n",
       "6369        1490       4204           9        376           299    1   \n",
       "6370        1704       4205           9        152           385    1   \n",
       "6371        2602       4206          24         40          1170    0   \n",
       "6372        3530       4207          21        864          1125    1   \n",
       "\n",
       "      ETHNICITY  ORIG_START  PAY_STATUS  \n",
       "0             2        1509           0  \n",
       "1             5         635           0  \n",
       "2             5        1177           0  \n",
       "3             2        1121           1  \n",
       "4             2        1148           0  \n",
       "...         ...         ...         ...  \n",
       "6368          5         474           0  \n",
       "6369          5         270           0  \n",
       "6370          5         351           0  \n",
       "6371          5        1049           0  \n",
       "6372          5         178           0  \n",
       "\n",
       "[6373 rows x 9 columns]"
      ]
     },
     "execution_count": 47,
     "metadata": {},
     "output_type": "execute_result"
    }
   ],
   "source": [
    "df2_cat_e"
   ]
  },
  {
   "cell_type": "code",
   "execution_count": 48,
   "id": "f1c09865",
   "metadata": {},
   "outputs": [],
   "source": [
    "df = pd.DataFrame(df4_num_mm, columns = ['ELECTED_OFFICIAL','ANNUAL_SALARY', 'REGULAR_PAY', 'OVERTIME_PAY',\n",
    "       'INCENTIVE_PAY', 'GROSS_PAY'])"
   ]
  },
  {
   "cell_type": "code",
   "execution_count": 58,
   "id": "cbcb0ed9",
   "metadata": {},
   "outputs": [],
   "source": [
    "df_cat_filter = df2_cat_e.loc[df.index.values,:]"
   ]
  },
  {
   "cell_type": "markdown",
   "id": "bd2667b7",
   "metadata": {},
   "source": [
    "# concatenate those numerical and categorical columns"
   ]
  },
  {
   "cell_type": "code",
   "execution_count": 59,
   "id": "508cdff8",
   "metadata": {},
   "outputs": [],
   "source": [
    "df_m = pd.concat([df,df_cat_filter],axis=1)"
   ]
  },
  {
   "cell_type": "code",
   "execution_count": 63,
   "id": "c052440f",
   "metadata": {},
   "outputs": [
    {
     "data": {
      "text/html": [
       "<div>\n",
       "<style scoped>\n",
       "    .dataframe tbody tr th:only-of-type {\n",
       "        vertical-align: middle;\n",
       "    }\n",
       "\n",
       "    .dataframe tbody tr th {\n",
       "        vertical-align: top;\n",
       "    }\n",
       "\n",
       "    .dataframe thead th {\n",
       "        text-align: right;\n",
       "    }\n",
       "</style>\n",
       "<table border=\"1\" class=\"dataframe\">\n",
       "  <thead>\n",
       "    <tr style=\"text-align: right;\">\n",
       "      <th></th>\n",
       "      <th>ELECTED_OFFICIAL</th>\n",
       "      <th>ANNUAL_SALARY</th>\n",
       "      <th>REGULAR_PAY</th>\n",
       "      <th>OVERTIME_PAY</th>\n",
       "      <th>INCENTIVE_PAY</th>\n",
       "      <th>GROSS_PAY</th>\n",
       "      <th>FIRST_NAME</th>\n",
       "      <th>LAST_NAME</th>\n",
       "      <th>DEPARTMENT</th>\n",
       "      <th>JOB_TITLE</th>\n",
       "      <th>DATE_STARTED</th>\n",
       "      <th>SEX</th>\n",
       "      <th>ETHNICITY</th>\n",
       "      <th>ORIG_START</th>\n",
       "      <th>PAY_STATUS</th>\n",
       "    </tr>\n",
       "  </thead>\n",
       "  <tbody>\n",
       "    <tr>\n",
       "      <th>0</th>\n",
       "      <td>0.0</td>\n",
       "      <td>0.039538</td>\n",
       "      <td>0.421481</td>\n",
       "      <td>0.469730</td>\n",
       "      <td>0.2</td>\n",
       "      <td>0.444743</td>\n",
       "      <td>631</td>\n",
       "      <td>0</td>\n",
       "      <td>19</td>\n",
       "      <td>718</td>\n",
       "      <td>1095</td>\n",
       "      <td>0</td>\n",
       "      <td>2</td>\n",
       "      <td>1509</td>\n",
       "      <td>0</td>\n",
       "    </tr>\n",
       "    <tr>\n",
       "      <th>1</th>\n",
       "      <td>0.0</td>\n",
       "      <td>0.413073</td>\n",
       "      <td>0.819634</td>\n",
       "      <td>0.083686</td>\n",
       "      <td>1.0</td>\n",
       "      <td>0.598703</td>\n",
       "      <td>1914</td>\n",
       "      <td>1</td>\n",
       "      <td>19</td>\n",
       "      <td>300</td>\n",
       "      <td>671</td>\n",
       "      <td>0</td>\n",
       "      <td>5</td>\n",
       "      <td>635</td>\n",
       "      <td>0</td>\n",
       "    </tr>\n",
       "    <tr>\n",
       "      <th>2</th>\n",
       "      <td>0.0</td>\n",
       "      <td>0.090674</td>\n",
       "      <td>0.587624</td>\n",
       "      <td>0.751697</td>\n",
       "      <td>0.0</td>\n",
       "      <td>0.650415</td>\n",
       "      <td>2134</td>\n",
       "      <td>1</td>\n",
       "      <td>11</td>\n",
       "      <td>487</td>\n",
       "      <td>1278</td>\n",
       "      <td>1</td>\n",
       "      <td>5</td>\n",
       "      <td>1177</td>\n",
       "      <td>0</td>\n",
       "    </tr>\n",
       "    <tr>\n",
       "      <th>3</th>\n",
       "      <td>0.0</td>\n",
       "      <td>0.090674</td>\n",
       "      <td>0.577930</td>\n",
       "      <td>0.706450</td>\n",
       "      <td>1.0</td>\n",
       "      <td>0.635412</td>\n",
       "      <td>1638</td>\n",
       "      <td>2</td>\n",
       "      <td>27</td>\n",
       "      <td>243</td>\n",
       "      <td>1230</td>\n",
       "      <td>0</td>\n",
       "      <td>2</td>\n",
       "      <td>1121</td>\n",
       "      <td>1</td>\n",
       "    </tr>\n",
       "    <tr>\n",
       "      <th>4</th>\n",
       "      <td>0.0</td>\n",
       "      <td>0.126012</td>\n",
       "      <td>0.286608</td>\n",
       "      <td>0.000000</td>\n",
       "      <td>0.0</td>\n",
       "      <td>0.196671</td>\n",
       "      <td>1422</td>\n",
       "      <td>3</td>\n",
       "      <td>0</td>\n",
       "      <td>663</td>\n",
       "      <td>607</td>\n",
       "      <td>0</td>\n",
       "      <td>2</td>\n",
       "      <td>1148</td>\n",
       "      <td>0</td>\n",
       "    </tr>\n",
       "  </tbody>\n",
       "</table>\n",
       "</div>"
      ],
      "text/plain": [
       "   ELECTED_OFFICIAL  ANNUAL_SALARY  REGULAR_PAY  OVERTIME_PAY  INCENTIVE_PAY  \\\n",
       "0               0.0       0.039538     0.421481      0.469730            0.2   \n",
       "1               0.0       0.413073     0.819634      0.083686            1.0   \n",
       "2               0.0       0.090674     0.587624      0.751697            0.0   \n",
       "3               0.0       0.090674     0.577930      0.706450            1.0   \n",
       "4               0.0       0.126012     0.286608      0.000000            0.0   \n",
       "\n",
       "   GROSS_PAY  FIRST_NAME  LAST_NAME  DEPARTMENT  JOB_TITLE  DATE_STARTED  SEX  \\\n",
       "0   0.444743         631          0          19        718          1095    0   \n",
       "1   0.598703        1914          1          19        300           671    0   \n",
       "2   0.650415        2134          1          11        487          1278    1   \n",
       "3   0.635412        1638          2          27        243          1230    0   \n",
       "4   0.196671        1422          3           0        663           607    0   \n",
       "\n",
       "   ETHNICITY  ORIG_START  PAY_STATUS  \n",
       "0          2        1509           0  \n",
       "1          5         635           0  \n",
       "2          5        1177           0  \n",
       "3          2        1121           1  \n",
       "4          2        1148           0  "
      ]
     },
     "execution_count": 63,
     "metadata": {},
     "output_type": "execute_result"
    }
   ],
   "source": [
    "df_m.head()"
   ]
  },
  {
   "cell_type": "code",
   "execution_count": 64,
   "id": "7657cc95",
   "metadata": {},
   "outputs": [
    {
     "data": {
      "text/plain": [
       "ELECTED_OFFICIAL    0\n",
       "ANNUAL_SALARY       0\n",
       "REGULAR_PAY         0\n",
       "OVERTIME_PAY        0\n",
       "INCENTIVE_PAY       0\n",
       "GROSS_PAY           0\n",
       "FIRST_NAME          0\n",
       "LAST_NAME           0\n",
       "DEPARTMENT          0\n",
       "JOB_TITLE           0\n",
       "DATE_STARTED        0\n",
       "SEX                 0\n",
       "ETHNICITY           0\n",
       "ORIG_START          0\n",
       "PAY_STATUS          0\n",
       "dtype: int64"
      ]
     },
     "execution_count": 64,
     "metadata": {},
     "output_type": "execute_result"
    }
   ],
   "source": [
    "df_m.isnull().sum()"
   ]
  },
  {
   "cell_type": "markdown",
   "id": "adbeec8f",
   "metadata": {},
   "source": [
    "# Modeling"
   ]
  },
  {
   "cell_type": "code",
   "execution_count": 65,
   "id": "03ee41a3",
   "metadata": {},
   "outputs": [],
   "source": [
    "from sklearn.linear_model import LinearRegression"
   ]
  },
  {
   "cell_type": "code",
   "execution_count": 66,
   "id": "59e4d3f7",
   "metadata": {},
   "outputs": [],
   "source": [
    "Linreg=LinearRegression()"
   ]
  },
  {
   "cell_type": "code",
   "execution_count": 69,
   "id": "cfcc4380",
   "metadata": {},
   "outputs": [],
   "source": [
    "X1=df_m.drop([\"ANNUAL_SALARY\"],axis=1)"
   ]
  },
  {
   "cell_type": "code",
   "execution_count": 70,
   "id": "b660dcc5",
   "metadata": {},
   "outputs": [],
   "source": [
    "y=df_m[\"ANNUAL_SALARY\"]"
   ]
  },
  {
   "cell_type": "code",
   "execution_count": 71,
   "id": "4425b98a",
   "metadata": {},
   "outputs": [],
   "source": [
    "from sklearn.model_selection import train_test_split"
   ]
  },
  {
   "cell_type": "code",
   "execution_count": 72,
   "id": "55b58027",
   "metadata": {},
   "outputs": [],
   "source": [
    "X_train, X_test, y_train, y_test = train_test_split(X1, y, test_size=0.3)"
   ]
  },
  {
   "cell_type": "code",
   "execution_count": 73,
   "id": "8f95b35c",
   "metadata": {},
   "outputs": [],
   "source": [
    "LM=Linreg.fit(X_train,y_train)"
   ]
  },
  {
   "cell_type": "code",
   "execution_count": 74,
   "id": "33c248bc",
   "metadata": {},
   "outputs": [
    {
     "data": {
      "text/plain": [
       "0.4548945036254559"
      ]
     },
     "execution_count": 74,
     "metadata": {},
     "output_type": "execute_result"
    }
   ],
   "source": [
    "LM.score(X_train,y_train)"
   ]
  },
  {
   "cell_type": "code",
   "execution_count": 75,
   "id": "ccb1a9df",
   "metadata": {},
   "outputs": [],
   "source": [
    "from sklearn.tree import DecisionTreeRegressor"
   ]
  },
  {
   "cell_type": "code",
   "execution_count": 76,
   "id": "0952734b",
   "metadata": {},
   "outputs": [],
   "source": [
    "DecTree=DecisionTreeRegressor()"
   ]
  },
  {
   "cell_type": "code",
   "execution_count": 77,
   "id": "7c54ed6d",
   "metadata": {},
   "outputs": [],
   "source": [
    "dt_M=DecTree.fit(X_train,y_train)"
   ]
  },
  {
   "cell_type": "code",
   "execution_count": 78,
   "id": "3d2715a9",
   "metadata": {},
   "outputs": [
    {
     "data": {
      "text/plain": [
       "1.0"
      ]
     },
     "execution_count": 78,
     "metadata": {},
     "output_type": "execute_result"
    }
   ],
   "source": [
    "dt_M.score(X_train,y_train)"
   ]
  },
  {
   "cell_type": "code",
   "execution_count": 79,
   "id": "745b26f3",
   "metadata": {},
   "outputs": [],
   "source": [
    "from sklearn.ensemble import RandomForestRegressor"
   ]
  },
  {
   "cell_type": "code",
   "execution_count": 80,
   "id": "1337f4d5",
   "metadata": {},
   "outputs": [],
   "source": [
    "RandFor=RandomForestRegressor(n_estimators=5000)"
   ]
  },
  {
   "cell_type": "code",
   "execution_count": 81,
   "id": "6c84f274",
   "metadata": {},
   "outputs": [],
   "source": [
    "rf_M=RandFor.fit(X_train,y_train)"
   ]
  },
  {
   "cell_type": "code",
   "execution_count": 82,
   "id": "08d0ff5a",
   "metadata": {},
   "outputs": [
    {
     "data": {
      "text/plain": [
       "0.92300344141345"
      ]
     },
     "execution_count": 82,
     "metadata": {},
     "output_type": "execute_result"
    }
   ],
   "source": [
    "rf_M.score(X_train,y_train)"
   ]
  },
  {
   "cell_type": "code",
   "execution_count": 83,
   "id": "ce79c6de",
   "metadata": {},
   "outputs": [],
   "source": [
    "from sklearn.ensemble import GradientBoostingRegressor"
   ]
  },
  {
   "cell_type": "code",
   "execution_count": 84,
   "id": "24d6e0ce",
   "metadata": {},
   "outputs": [],
   "source": [
    "GBM=GradientBoostingRegressor(n_estimators=3000)"
   ]
  },
  {
   "cell_type": "code",
   "execution_count": 85,
   "id": "0215c5df",
   "metadata": {},
   "outputs": [],
   "source": [
    "gb_M=GBM.fit(X_train,y_train)"
   ]
  },
  {
   "cell_type": "code",
   "execution_count": 86,
   "id": "5018cecb",
   "metadata": {},
   "outputs": [
    {
     "data": {
      "text/plain": [
       "0.999992730059914"
      ]
     },
     "execution_count": 86,
     "metadata": {},
     "output_type": "execute_result"
    }
   ],
   "source": [
    "gb_M.score(X_train,y_train)"
   ]
  },
  {
   "cell_type": "code",
   "execution_count": 88,
   "id": "a2358f7c",
   "metadata": {},
   "outputs": [],
   "source": [
    "from sklearn.metrics import accuracy_score, r2_score"
   ]
  },
  {
   "cell_type": "code",
   "execution_count": 89,
   "id": "187e317b",
   "metadata": {},
   "outputs": [],
   "source": [
    "ytest_gbm = gb_M.predict(X_test)"
   ]
  },
  {
   "cell_type": "code",
   "execution_count": 90,
   "id": "b73a3d56",
   "metadata": {},
   "outputs": [
    {
     "data": {
      "text/plain": [
       "0.18361270050891676"
      ]
     },
     "execution_count": 90,
     "metadata": {},
     "output_type": "execute_result"
    }
   ],
   "source": [
    "r2_score(y_test.values,ytest_gbm)"
   ]
  },
  {
   "cell_type": "code",
   "execution_count": 91,
   "id": "8fca36f6",
   "metadata": {},
   "outputs": [],
   "source": [
    "ytest_rf_M = rf_M.predict(X_test)"
   ]
  },
  {
   "cell_type": "code",
   "execution_count": 92,
   "id": "cee1a28e",
   "metadata": {},
   "outputs": [
    {
     "data": {
      "text/plain": [
       "0.3607899745666622"
      ]
     },
     "execution_count": 92,
     "metadata": {},
     "output_type": "execute_result"
    }
   ],
   "source": [
    "r2_score(y_test.values,ytest_rf_M)"
   ]
  },
  {
   "cell_type": "code",
   "execution_count": 93,
   "id": "d869891f",
   "metadata": {},
   "outputs": [],
   "source": [
    "ytest_dt_M = dt_M.predict(X_test)"
   ]
  },
  {
   "cell_type": "code",
   "execution_count": 94,
   "id": "28565180",
   "metadata": {},
   "outputs": [
    {
     "data": {
      "text/plain": [
       "-0.18328601231483144"
      ]
     },
     "execution_count": 94,
     "metadata": {},
     "output_type": "execute_result"
    }
   ],
   "source": [
    "r2_score(y_test.values,ytest_dt_M)"
   ]
  },
  {
   "cell_type": "code",
   "execution_count": 95,
   "id": "737a23ab",
   "metadata": {},
   "outputs": [],
   "source": [
    "ytest_LM = LM.predict(X_test)"
   ]
  },
  {
   "cell_type": "code",
   "execution_count": 96,
   "id": "416babda",
   "metadata": {},
   "outputs": [
    {
     "data": {
      "text/plain": [
       "0.3876542411130063"
      ]
     },
     "execution_count": 96,
     "metadata": {},
     "output_type": "execute_result"
    }
   ],
   "source": [
    "r2_score(y_test.values,ytest_LM)"
   ]
  },
  {
   "cell_type": "code",
   "execution_count": null,
   "id": "7343369e",
   "metadata": {},
   "outputs": [],
   "source": [
    "Revised employee salaries Data problem:\n",
    "Model         Training score              Testing score\n",
    "LR                0.88                          0.79                                                  \n",
    "RF                0.98                          0.85           \n",
    "GBM               0.99                          0.83\n",
    "DT                1.0                           0.83 \n",
    "         "
   ]
  }
 ],
 "metadata": {
  "kernelspec": {
   "display_name": "Python 3 (ipykernel)",
   "language": "python",
   "name": "python3"
  },
  "language_info": {
   "codemirror_mode": {
    "name": "ipython",
    "version": 3
   },
   "file_extension": ".py",
   "mimetype": "text/x-python",
   "name": "python",
   "nbconvert_exporter": "python",
   "pygments_lexer": "ipython3",
   "version": "3.11.5"
  }
 },
 "nbformat": 4,
 "nbformat_minor": 5
}
