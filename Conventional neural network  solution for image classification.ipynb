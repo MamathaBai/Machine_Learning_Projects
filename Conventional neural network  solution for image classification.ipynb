{
 "cells": [
  {
   "cell_type": "code",
   "execution_count": null,
   "id": "08e14706",
   "metadata": {},
   "outputs": [],
   "source": [
    "#https://data.caltech.edu/records/mzrjq-6wc02"
   ]
  },
  {
   "cell_type": "code",
   "execution_count": 2,
   "id": "9343d26a",
   "metadata": {},
   "outputs": [
    {
     "name": "stderr",
     "output_type": "stream",
     "text": [
      "2023-12-08 08:36:50.534914: I tensorflow/core/platform/cpu_feature_guard.cc:182] This TensorFlow binary is optimized to use available CPU instructions in performance-critical operations.\n",
      "To enable the following instructions: AVX2 FMA, in other operations, rebuild TensorFlow with the appropriate compiler flags.\n"
     ]
    }
   ],
   "source": [
    "from tensorflow.keras.models import Sequential\n",
    "from tensorflow.keras.layers import Dense\n",
    "from tensorflow.keras.layers import Dropout\n",
    "from tensorflow.keras.layers import Flatten\n",
    "from tensorflow.keras.constraints import MaxNorm\n",
    "from tensorflow.keras.optimizers import SGD\n",
    "from tensorflow.keras.layers import Conv2D\n",
    "from tensorflow.keras.layers import MaxPooling2D\n",
    "from tensorflow.keras.utils import to_categorical"
   ]
  },
  {
   "cell_type": "code",
   "execution_count": 3,
   "id": "18418d8e",
   "metadata": {},
   "outputs": [],
   "source": [
    "from tensorflow.keras.preprocessing.image import ImageDataGenerator\n",
    "\n",
    "train_datagen = ImageDataGenerator(rescale = 1./255,\n",
    "                                   shear_range = 0.2,\n",
    "                                   zoom_range = 0.2,\n",
    "                                   horizontal_flip = True)\n",
    "\n",
    "test_datagen = ImageDataGenerator(rescale = 1./255)"
   ]
  },
  {
   "cell_type": "markdown",
   "id": "8008f7de",
   "metadata": {},
   "source": [
    "# Image resizing"
   ]
  },
  {
   "cell_type": "code",
   "execution_count": 4,
   "id": "6c4a3cab",
   "metadata": {},
   "outputs": [
    {
     "name": "stdout",
     "output_type": "stream",
     "text": [
      "Found 997 images belonging to 4 classes.\n"
     ]
    }
   ],
   "source": [
    "training_set = train_datagen.flow_from_directory('/Users/mamatharaj/Documents/caltech-101/CNN_dataset2/Train',\n",
    "                                                 target_size = (64, 64),\n",
    "                                                 batch_size = 32,\n",
    "                                                 class_mode = 'categorical')"
   ]
  },
  {
   "cell_type": "code",
   "execution_count": 5,
   "id": "f081214e",
   "metadata": {},
   "outputs": [
    {
     "name": "stdout",
     "output_type": "stream",
     "text": [
      "Found 635 images belonging to 4 classes.\n"
     ]
    }
   ],
   "source": [
    "test_set = test_datagen.flow_from_directory('/Users/mamatharaj/Documents/caltech-101/CNN_dataset2/Test',\n",
    "                                            target_size = (64, 64),\n",
    "                                            batch_size = 32,\n",
    "                                            class_mode = 'categorical')"
   ]
  },
  {
   "cell_type": "markdown",
   "id": "b4b4bb01",
   "metadata": {},
   "source": [
    "# Defining Neural Network Configuration"
   ]
  },
  {
   "cell_type": "code",
   "execution_count": 6,
   "id": "136fd9e7",
   "metadata": {},
   "outputs": [],
   "source": [
    "# Initialising the CNN\n",
    "classifier = Sequential()\n",
    "\n",
    "# Step 1 - Convolution\n",
    "classifier.add(Conv2D(32, (3, 3), input_shape = (64, 64, 3), activation = 'relu'))\n",
    "\n",
    "# Step 2 - Pooling\n",
    "classifier.add(MaxPooling2D(pool_size = (2, 2)))\n",
    "\n",
    "# Adding a second convolutional layer\n",
    "classifier.add(Conv2D(32, (3, 3), activation = 'relu'))\n",
    "classifier.add(MaxPooling2D(pool_size = (2, 2)))\n",
    "\n",
    "# Step 3 - Flattening\n",
    "classifier.add(Flatten())\n",
    "\n",
    "# Step 4 - Full connection\n",
    "classifier.add(Dense(units = 128, activation = 'relu'))\n",
    "classifier.add(Dense(units = 4, activation = 'sigmoid'))\n",
    "\n",
    "# Compiling the CNN\n",
    "classifier.compile(optimizer = 'adam', loss = 'categorical_crossentropy', metrics = ['accuracy'])"
   ]
  },
  {
   "cell_type": "markdown",
   "id": "10c054bb",
   "metadata": {},
   "source": [
    "# Neural Network Training"
   ]
  },
  {
   "cell_type": "code",
   "execution_count": 7,
   "id": "c803408c",
   "metadata": {},
   "outputs": [
    {
     "name": "stdout",
     "output_type": "stream",
     "text": [
      "Epoch 1/60\n"
     ]
    },
    {
     "name": "stderr",
     "output_type": "stream",
     "text": [
      "/var/folders/_8/gygsnz5n09n9kvs6h09qf02m0000gn/T/ipykernel_41506/2493897652.py:1: UserWarning: `Model.fit_generator` is deprecated and will be removed in a future version. Please use `Model.fit`, which supports generators.\n",
      "  classifier.fit_generator(training_set,\n"
     ]
    },
    {
     "name": "stdout",
     "output_type": "stream",
     "text": [
      "10/10 [==============================] - ETA: 0s - loss: 0.9432 - accuracy: 0.8031WARNING:tensorflow:Your input ran out of data; interrupting training. Make sure that your dataset or generator can generate at least `steps_per_epoch * epochs` batches (in this case, 80 batches). You may need to use the repeat() function when building your dataset.\n",
      "10/10 [==============================] - 3s 260ms/step - loss: 0.9432 - accuracy: 0.8031 - val_loss: 0.5975 - val_accuracy: 0.8661\n",
      "Epoch 2/60\n",
      "10/10 [==============================] - 1s 120ms/step - loss: 0.7357 - accuracy: 0.8031\n",
      "Epoch 3/60\n",
      "10/10 [==============================] - 1s 104ms/step - loss: 0.6284 - accuracy: 0.8055\n",
      "Epoch 4/60\n",
      "10/10 [==============================] - 1s 117ms/step - loss: 0.5767 - accuracy: 0.7812\n",
      "Epoch 5/60\n",
      "10/10 [==============================] - 1s 101ms/step - loss: 0.4684 - accuracy: 0.8396\n",
      "Epoch 6/60\n",
      "10/10 [==============================] - 1s 118ms/step - loss: 0.4293 - accuracy: 0.8188\n",
      "Epoch 7/60\n",
      "10/10 [==============================] - 1s 101ms/step - loss: 0.3232 - accuracy: 0.9078\n",
      "Epoch 8/60\n",
      "10/10 [==============================] - 1s 111ms/step - loss: 0.3028 - accuracy: 0.8969\n",
      "Epoch 9/60\n",
      "10/10 [==============================] - 1s 110ms/step - loss: 0.3353 - accuracy: 0.8781\n",
      "Epoch 10/60\n",
      "10/10 [==============================] - 1s 106ms/step - loss: 0.2494 - accuracy: 0.9147\n",
      "Epoch 11/60\n",
      "10/10 [==============================] - 2s 148ms/step - loss: 0.2379 - accuracy: 0.9187\n",
      "Epoch 12/60\n",
      "10/10 [==============================] - 1s 122ms/step - loss: 0.2561 - accuracy: 0.9062\n",
      "Epoch 13/60\n",
      "10/10 [==============================] - 1s 114ms/step - loss: 0.2328 - accuracy: 0.9281\n",
      "Epoch 14/60\n",
      "10/10 [==============================] - 1s 110ms/step - loss: 0.2122 - accuracy: 0.9281\n",
      "Epoch 15/60\n",
      "10/10 [==============================] - 1s 112ms/step - loss: 0.2022 - accuracy: 0.9281\n",
      "Epoch 16/60\n",
      "10/10 [==============================] - 1s 113ms/step - loss: 0.2586 - accuracy: 0.9113\n",
      "Epoch 17/60\n",
      "10/10 [==============================] - 1s 122ms/step - loss: 0.1902 - accuracy: 0.9250\n",
      "Epoch 18/60\n",
      "10/10 [==============================] - 1s 134ms/step - loss: 0.1639 - accuracy: 0.9406\n",
      "Epoch 19/60\n",
      "10/10 [==============================] - 1s 110ms/step - loss: 0.2006 - accuracy: 0.9386\n",
      "Epoch 20/60\n",
      "10/10 [==============================] - 1s 107ms/step - loss: 0.1912 - accuracy: 0.9352\n",
      "Epoch 21/60\n",
      "10/10 [==============================] - 1s 115ms/step - loss: 0.1777 - accuracy: 0.9469\n",
      "Epoch 22/60\n",
      "10/10 [==============================] - 1s 112ms/step - loss: 0.1660 - accuracy: 0.9500\n",
      "Epoch 23/60\n",
      "10/10 [==============================] - 1s 112ms/step - loss: 0.1961 - accuracy: 0.9438\n",
      "Epoch 24/60\n",
      "10/10 [==============================] - 1s 113ms/step - loss: 0.2265 - accuracy: 0.9250\n",
      "Epoch 25/60\n",
      "10/10 [==============================] - 1s 109ms/step - loss: 0.1821 - accuracy: 0.9469\n",
      "Epoch 26/60\n",
      "10/10 [==============================] - 1s 123ms/step - loss: 0.1528 - accuracy: 0.9469\n",
      "Epoch 27/60\n",
      "10/10 [==============================] - 2s 158ms/step - loss: 0.1713 - accuracy: 0.9406\n",
      "Epoch 28/60\n",
      "10/10 [==============================] - 1s 123ms/step - loss: 0.0684 - accuracy: 0.9781\n",
      "Epoch 29/60\n",
      "10/10 [==============================] - 1s 113ms/step - loss: 0.0727 - accuracy: 0.9719\n",
      "Epoch 30/60\n",
      "10/10 [==============================] - 1s 116ms/step - loss: 0.1190 - accuracy: 0.9625\n",
      "Epoch 31/60\n",
      "10/10 [==============================] - 1s 112ms/step - loss: 0.1439 - accuracy: 0.9500\n",
      "Epoch 32/60\n",
      "10/10 [==============================] - 1s 108ms/step - loss: 0.1720 - accuracy: 0.9352\n",
      "Epoch 33/60\n",
      "10/10 [==============================] - 1s 110ms/step - loss: 0.2040 - accuracy: 0.9156\n",
      "Epoch 34/60\n",
      "10/10 [==============================] - 1s 107ms/step - loss: 0.1602 - accuracy: 0.9469\n",
      "Epoch 35/60\n",
      "10/10 [==============================] - 1s 121ms/step - loss: 0.1225 - accuracy: 0.9693\n",
      "Epoch 36/60\n",
      "10/10 [==============================] - 1s 114ms/step - loss: 0.1224 - accuracy: 0.9659\n",
      "Epoch 37/60\n",
      "10/10 [==============================] - 1s 98ms/step - loss: 0.1059 - accuracy: 0.9625\n",
      "Epoch 38/60\n",
      "10/10 [==============================] - 1s 101ms/step - loss: 0.1574 - accuracy: 0.9522\n",
      "Epoch 39/60\n",
      "10/10 [==============================] - 2s 175ms/step - loss: 0.1528 - accuracy: 0.9438\n",
      "Epoch 40/60\n",
      "10/10 [==============================] - 1s 125ms/step - loss: 0.1137 - accuracy: 0.9693\n",
      "Epoch 41/60\n",
      "10/10 [==============================] - 1s 119ms/step - loss: 0.0826 - accuracy: 0.9750\n",
      "Epoch 42/60\n",
      "10/10 [==============================] - 1s 137ms/step - loss: 0.0946 - accuracy: 0.9625\n",
      "Epoch 43/60\n",
      "10/10 [==============================] - 2s 136ms/step - loss: 0.0844 - accuracy: 0.9688\n",
      "Epoch 44/60\n",
      "10/10 [==============================] - 1s 140ms/step - loss: 0.0868 - accuracy: 0.9750\n",
      "Epoch 45/60\n",
      "10/10 [==============================] - 2s 216ms/step - loss: 0.0558 - accuracy: 0.9829\n",
      "Epoch 46/60\n",
      "10/10 [==============================] - 2s 146ms/step - loss: 0.0900 - accuracy: 0.9563\n",
      "Epoch 47/60\n",
      "10/10 [==============================] - 2s 228ms/step - loss: 0.0891 - accuracy: 0.9688\n",
      "Epoch 48/60\n",
      "10/10 [==============================] - 2s 213ms/step - loss: 0.0705 - accuracy: 0.9829\n",
      "Epoch 49/60\n",
      "10/10 [==============================] - 2s 153ms/step - loss: 0.0738 - accuracy: 0.9750\n",
      "Epoch 50/60\n",
      "10/10 [==============================] - 1s 143ms/step - loss: 0.0414 - accuracy: 0.9932\n",
      "Epoch 51/60\n",
      "10/10 [==============================] - 1s 134ms/step - loss: 0.0607 - accuracy: 0.9812\n",
      "Epoch 52/60\n",
      "10/10 [==============================] - 1s 101ms/step - loss: 0.0336 - accuracy: 0.9937\n",
      "Epoch 53/60\n",
      "10/10 [==============================] - 1s 113ms/step - loss: 0.0439 - accuracy: 0.9898\n",
      "Epoch 54/60\n",
      "10/10 [==============================] - 2s 151ms/step - loss: 0.0459 - accuracy: 0.9812\n",
      "Epoch 55/60\n",
      "10/10 [==============================] - 1s 139ms/step - loss: 0.0663 - accuracy: 0.9844\n",
      "Epoch 56/60\n",
      "10/10 [==============================] - 2s 182ms/step - loss: 0.0369 - accuracy: 0.9906\n",
      "Epoch 57/60\n",
      "10/10 [==============================] - 1s 109ms/step - loss: 0.0559 - accuracy: 0.9844\n",
      "Epoch 58/60\n",
      "10/10 [==============================] - 1s 101ms/step - loss: 0.0711 - accuracy: 0.9781\n",
      "Epoch 59/60\n",
      "10/10 [==============================] - 1s 104ms/step - loss: 0.0851 - accuracy: 0.9829\n",
      "Epoch 60/60\n",
      "10/10 [==============================] - 1s 98ms/step - loss: 0.0475 - accuracy: 0.9906\n"
     ]
    },
    {
     "data": {
      "text/plain": [
       "<keras.src.callbacks.History at 0x15a725ad0>"
      ]
     },
     "execution_count": 7,
     "metadata": {},
     "output_type": "execute_result"
    }
   ],
   "source": [
    "classifier.fit_generator(training_set,\n",
    "                         steps_per_epoch = 10,\n",
    "                         epochs = 60,\n",
    "                         validation_data = test_set,\n",
    "                         validation_steps = 80)"
   ]
  },
  {
   "cell_type": "markdown",
   "id": "740cccb5",
   "metadata": {},
   "source": [
    "# Validating the Trained Neural Network"
   ]
  },
  {
   "cell_type": "code",
   "execution_count": 8,
   "id": "9953df8c",
   "metadata": {},
   "outputs": [
    {
     "name": "stdout",
     "output_type": "stream",
     "text": [
      "1/1 [==============================] - 0s 94ms/step\n"
     ]
    }
   ],
   "source": [
    "import numpy as np\n",
    "from tensorflow.keras.preprocessing import image\n",
    "test_image = \\\n",
    "    image.load_img('/Users/mamatharaj/Documents/caltech-101/CNN_dataset2/Test/airplanes/image_0508.jpg'\n",
    "                   , target_size=(64, 64))\n",
    "test_image = image.img_to_array(test_image)\n",
    "test_image = np.expand_dims(test_image, axis=0)\n",
    "result = classifier.predict(test_image)"
   ]
  },
  {
   "cell_type": "code",
   "execution_count": 9,
   "id": "d810fab3",
   "metadata": {},
   "outputs": [
    {
     "name": "stdout",
     "output_type": "stream",
     "text": [
      "[[1. 0. 0. 0.]]\n"
     ]
    }
   ],
   "source": [
    "print(result)"
   ]
  },
  {
   "cell_type": "code",
   "execution_count": 10,
   "id": "0b2763f6",
   "metadata": {},
   "outputs": [
    {
     "name": "stdout",
     "output_type": "stream",
     "text": [
      "1/1 [==============================] - 0s 22ms/step\n"
     ]
    }
   ],
   "source": [
    "import numpy as np\n",
    "from tensorflow.keras.preprocessing import image\n",
    "test_image = \\\n",
    "    image.load_img('/Users/mamatharaj/Documents/caltech-101/CNN_dataset/Test/airplanes/image_0078.jpg'\n",
    "                   , target_size=(64, 64))\n",
    "test_image = image.img_to_array(test_image)\n",
    "test_image = np.expand_dims(test_image, axis=0)\n",
    "result = classifier.predict(test_image)"
   ]
  },
  {
   "cell_type": "code",
   "execution_count": 11,
   "id": "ac9fc9b4",
   "metadata": {},
   "outputs": [
    {
     "name": "stdout",
     "output_type": "stream",
     "text": [
      "[[1. 0. 0. 0.]]\n"
     ]
    }
   ],
   "source": [
    "print(result)"
   ]
  },
  {
   "cell_type": "code",
   "execution_count": null,
   "id": "a315feac",
   "metadata": {},
   "outputs": [],
   "source": []
  }
 ],
 "metadata": {
  "kernelspec": {
   "display_name": "Python 3 (ipykernel)",
   "language": "python",
   "name": "python3"
  },
  "language_info": {
   "codemirror_mode": {
    "name": "ipython",
    "version": 3
   },
   "file_extension": ".py",
   "mimetype": "text/x-python",
   "name": "python",
   "nbconvert_exporter": "python",
   "pygments_lexer": "ipython3",
   "version": "3.11.5"
  }
 },
 "nbformat": 4,
 "nbformat_minor": 5
}
