{
 "cells": [
  {
   "cell_type": "code",
   "execution_count": 1,
   "id": "e4f99bb9",
   "metadata": {},
   "outputs": [],
   "source": [
    "import pandas as pd"
   ]
  },
  {
   "cell_type": "code",
   "execution_count": 2,
   "id": "b231b749",
   "metadata": {},
   "outputs": [],
   "source": [
    "df = pd.read_excel(\"Global Superstore.xls\",\"Orders\")"
   ]
  },
  {
   "cell_type": "code",
   "execution_count": 3,
   "id": "212934cf",
   "metadata": {},
   "outputs": [
    {
     "data": {
      "text/plain": [
       "Row ID                     int64\n",
       "Order ID                  object\n",
       "Order Date        datetime64[ns]\n",
       "Ship Date         datetime64[ns]\n",
       "Ship Mode                 object\n",
       "Customer ID               object\n",
       "Customer Name             object\n",
       "Segment                   object\n",
       "City                      object\n",
       "State                     object\n",
       "Country                   object\n",
       "Postal Code              float64\n",
       "Market                    object\n",
       "Region                    object\n",
       "Product ID                object\n",
       "Category                  object\n",
       "Sub-Category              object\n",
       "Product Name              object\n",
       "Sales                    float64\n",
       "Quantity                   int64\n",
       "Discount                 float64\n",
       "Profit                   float64\n",
       "Shipping Cost            float64\n",
       "Order Priority            object\n",
       "dtype: object"
      ]
     },
     "execution_count": 3,
     "metadata": {},
     "output_type": "execute_result"
    }
   ],
   "source": [
    "df.dtypes"
   ]
  },
  {
   "cell_type": "code",
   "execution_count": 4,
   "id": "636bd06b",
   "metadata": {},
   "outputs": [
    {
     "data": {
      "text/plain": [
       "(51290, 24)"
      ]
     },
     "execution_count": 4,
     "metadata": {},
     "output_type": "execute_result"
    }
   ],
   "source": [
    "df.shape"
   ]
  },
  {
   "cell_type": "code",
   "execution_count": 5,
   "id": "88678ac4",
   "metadata": {},
   "outputs": [
    {
     "data": {
      "text/plain": [
       "Index(['Row ID', 'Order ID', 'Order Date', 'Ship Date', 'Ship Mode',\n",
       "       'Customer ID', 'Customer Name', 'Segment', 'City', 'State', 'Country',\n",
       "       'Postal Code', 'Market', 'Region', 'Product ID', 'Category',\n",
       "       'Sub-Category', 'Product Name', 'Sales', 'Quantity', 'Discount',\n",
       "       'Profit', 'Shipping Cost', 'Order Priority'],\n",
       "      dtype='object')"
      ]
     },
     "execution_count": 5,
     "metadata": {},
     "output_type": "execute_result"
    }
   ],
   "source": [
    "df.columns"
   ]
  },
  {
   "cell_type": "markdown",
   "id": "b8128aef",
   "metadata": {},
   "source": [
    "# average sales of category Furniture"
   ]
  },
  {
   "cell_type": "code",
   "execution_count": 6,
   "id": "4851708b",
   "metadata": {},
   "outputs": [
    {
     "data": {
      "text/plain": [
       "416.24890505265296"
      ]
     },
     "execution_count": 6,
     "metadata": {},
     "output_type": "execute_result"
    }
   ],
   "source": [
    "df[df[\"Category\"]==\"Furniture\"][\"Sales\"].mean()"
   ]
  },
  {
   "cell_type": "markdown",
   "id": "0df13cfd",
   "metadata": {},
   "source": [
    "# which Furniture, tecnology, office supplies is having maximum sales"
   ]
  },
  {
   "cell_type": "code",
   "execution_count": 7,
   "id": "08c58451",
   "metadata": {},
   "outputs": [
    {
     "name": "stdout",
     "output_type": "stream",
     "text": [
      "The category with the maximum sales is Technology with total sales of $4744557.49808\n"
     ]
    }
   ],
   "source": [
    "category_sales = df.groupby('Category')['Sales'].sum()\n",
    "max_sales_category = category_sales.idxmax()\n",
    "max_sales_value = category_sales.max()\n",
    "print(f\"The category with the maximum sales is {max_sales_category} with total sales of ${max_sales_value}\")"
   ]
  },
  {
   "cell_type": "markdown",
   "id": "665aecd0",
   "metadata": {},
   "source": [
    "# which Furniture, tecnology, office supplies is having maximum Profit where discount is between 30% and 50%"
   ]
  },
  {
   "cell_type": "code",
   "execution_count": 8,
   "id": "cd038a75",
   "metadata": {},
   "outputs": [
    {
     "name": "stdout",
     "output_type": "stream",
     "text": [
      "The category with the maximum profit in the 30%-50% discount range is Office Supplies with a total profit of $-105373.20550000001\n"
     ]
    }
   ],
   "source": [
    "filtered_df = df[(df['Discount'] >= 0.30) & (df['Discount'] <= 0.50)]\n",
    "category_profit = filtered_df.groupby('Category')['Profit'].sum()\n",
    "max_profit_category = category_profit.idxmax()\n",
    "max_profit_value = category_profit.max()\n",
    "print(f\"The category with the maximum profit in the 30%-50% discount range is {max_profit_category} with a total profit of ${max_profit_value}\")\n"
   ]
  },
  {
   "cell_type": "markdown",
   "id": "1317ef6b",
   "metadata": {},
   "source": [
    "# which Furniture, tecnology, office supplies is having maximum sales where discount is between 30% and 50%"
   ]
  },
  {
   "cell_type": "code",
   "execution_count": 9,
   "id": "b49e509d",
   "metadata": {},
   "outputs": [
    {
     "name": "stdout",
     "output_type": "stream",
     "text": [
      "The category with the maximum sales in the 30%-50% discount range is Furniture with a total sales of $624517.6363\n"
     ]
    }
   ],
   "source": [
    "filtered_df = df[(df['Discount'] >= 0.30) & (df['Discount'] <= 0.50)]\n",
    "category_sales = filtered_df.groupby('Category')['Sales'].sum()\n",
    "max_sales_value = category_sales.max()\n",
    "max_sales_category = category_sales.idxmax()\n",
    "print(f\"The category with the maximum sales in the 30%-50% discount range is {max_sales_category} with a total sales of ${max_sales_value}\")\n"
   ]
  },
  {
   "cell_type": "markdown",
   "id": "51fd9559",
   "metadata": {},
   "source": [
    "# which Furniture, tecnology, office supplies is having maximum Profit"
   ]
  },
  {
   "cell_type": "code",
   "execution_count": 10,
   "id": "2960acb3",
   "metadata": {},
   "outputs": [
    {
     "name": "stdout",
     "output_type": "stream",
     "text": [
      "The category with the maximum profit is Technology with total profit of $663778.73318\n"
     ]
    }
   ],
   "source": [
    "category_profit = df.groupby('Category')['Profit'].sum()\n",
    "max_profit_category = category_profit.idxmax()\n",
    "max_profit_value = category_profit.max()\n",
    "print(f\"The category with the maximum profit is {max_profit_category} with total profit of ${max_profit_value}\")"
   ]
  },
  {
   "cell_type": "markdown",
   "id": "96a28362",
   "metadata": {},
   "source": [
    "# which Furniture, tecnology, office supplies is having minimum Profit where discount is > 70%"
   ]
  },
  {
   "cell_type": "code",
   "execution_count": 11,
   "id": "8e6215bc",
   "metadata": {},
   "outputs": [
    {
     "name": "stdout",
     "output_type": "stream",
     "text": [
      "The category with the minimum profit in the 30%-50% discount range is Office Supplies with a total profit of $-86286.8426\n"
     ]
    }
   ],
   "source": [
    "filtered_df = df[(df['Discount'] >= 0.70)] \n",
    "category_profit = filtered_df.groupby('Category')['Profit'].sum()\n",
    "min_profit_category = category_profit.idxmin()\n",
    "min_profit_value = category_profit.min()\n",
    "print(f\"The category with the minimum profit in the 30%-50% discount range is {min_profit_category} with a total profit of ${min_profit_value}\")\n"
   ]
  },
  {
   "cell_type": "markdown",
   "id": "e097b73b",
   "metadata": {},
   "source": [
    "# which state in US is having maximum sales"
   ]
  },
  {
   "cell_type": "code",
   "execution_count": 12,
   "id": "25047dd8",
   "metadata": {},
   "outputs": [
    {
     "name": "stdout",
     "output_type": "stream",
     "text": [
      "The category with the maximum sales is California with a total sales of $457687.6315\n"
     ]
    }
   ],
   "source": [
    "filtered_df = df[df['Country'] == 'United States']\n",
    "category_sales = filtered_df.groupby('State')['Sales'].sum()\n",
    "max_sales_category = category_sales.idxmax()\n",
    "max_sales_value = category_sales.max()\n",
    "print(f\"The category with the maximum sales is {max_sales_category} with a total sales of ${max_sales_value}\")\n"
   ]
  },
  {
   "cell_type": "markdown",
   "id": "368efd80",
   "metadata": {},
   "source": [
    "# which state is US having minimum shipping cost"
   ]
  },
  {
   "cell_type": "code",
   "execution_count": 13,
   "id": "489c07ec",
   "metadata": {},
   "outputs": [
    {
     "name": "stdout",
     "output_type": "stream",
     "text": [
      "The category with the minimum shipping is West Virginia with a total shippin of $97.49\n"
     ]
    }
   ],
   "source": [
    "filtered_df = df[df['Country'] == 'United States']\n",
    "category_shipping = filtered_df.groupby('State')['Shipping Cost'].sum()\n",
    "min_shipping_category = category_shipping.idxmin()\n",
    "min_shipping_value = category_shipping.min()\n",
    "print(f\"The category with the minimum shipping is {min_shipping_category} with a total shippin of ${min_shipping_value}\")\n"
   ]
  },
  {
   "cell_type": "code",
   "execution_count": 14,
   "id": "27256c48",
   "metadata": {},
   "outputs": [
    {
     "data": {
      "text/html": [
       "<div>\n",
       "<style scoped>\n",
       "    .dataframe tbody tr th:only-of-type {\n",
       "        vertical-align: middle;\n",
       "    }\n",
       "\n",
       "    .dataframe tbody tr th {\n",
       "        vertical-align: top;\n",
       "    }\n",
       "\n",
       "    .dataframe thead th {\n",
       "        text-align: right;\n",
       "    }\n",
       "</style>\n",
       "<table border=\"1\" class=\"dataframe\">\n",
       "  <thead>\n",
       "    <tr style=\"text-align: right;\">\n",
       "      <th></th>\n",
       "      <th>Row ID</th>\n",
       "      <th>Order ID</th>\n",
       "      <th>Order Date</th>\n",
       "      <th>Ship Date</th>\n",
       "      <th>Ship Mode</th>\n",
       "      <th>Customer ID</th>\n",
       "      <th>Customer Name</th>\n",
       "      <th>Segment</th>\n",
       "      <th>City</th>\n",
       "      <th>State</th>\n",
       "      <th>...</th>\n",
       "      <th>Product ID</th>\n",
       "      <th>Category</th>\n",
       "      <th>Sub-Category</th>\n",
       "      <th>Product Name</th>\n",
       "      <th>Sales</th>\n",
       "      <th>Quantity</th>\n",
       "      <th>Discount</th>\n",
       "      <th>Profit</th>\n",
       "      <th>Shipping Cost</th>\n",
       "      <th>Order Priority</th>\n",
       "    </tr>\n",
       "  </thead>\n",
       "  <tbody>\n",
       "    <tr>\n",
       "      <th>0</th>\n",
       "      <td>32298</td>\n",
       "      <td>CA-2012-124891</td>\n",
       "      <td>2012-07-31</td>\n",
       "      <td>2012-07-31</td>\n",
       "      <td>Same Day</td>\n",
       "      <td>RH-19495</td>\n",
       "      <td>Rick Hansen</td>\n",
       "      <td>Consumer</td>\n",
       "      <td>New York City</td>\n",
       "      <td>New York</td>\n",
       "      <td>...</td>\n",
       "      <td>TEC-AC-10003033</td>\n",
       "      <td>Technology</td>\n",
       "      <td>Accessories</td>\n",
       "      <td>Plantronics CS510 - Over-the-Head monaural Wir...</td>\n",
       "      <td>2309.650</td>\n",
       "      <td>7</td>\n",
       "      <td>0.0</td>\n",
       "      <td>762.1845</td>\n",
       "      <td>933.57</td>\n",
       "      <td>Critical</td>\n",
       "    </tr>\n",
       "    <tr>\n",
       "      <th>1</th>\n",
       "      <td>26341</td>\n",
       "      <td>IN-2013-77878</td>\n",
       "      <td>2013-02-05</td>\n",
       "      <td>2013-02-07</td>\n",
       "      <td>Second Class</td>\n",
       "      <td>JR-16210</td>\n",
       "      <td>Justin Ritter</td>\n",
       "      <td>Corporate</td>\n",
       "      <td>Wollongong</td>\n",
       "      <td>New South Wales</td>\n",
       "      <td>...</td>\n",
       "      <td>FUR-CH-10003950</td>\n",
       "      <td>Furniture</td>\n",
       "      <td>Chairs</td>\n",
       "      <td>Novimex Executive Leather Armchair, Black</td>\n",
       "      <td>3709.395</td>\n",
       "      <td>9</td>\n",
       "      <td>0.1</td>\n",
       "      <td>-288.7650</td>\n",
       "      <td>923.63</td>\n",
       "      <td>Critical</td>\n",
       "    </tr>\n",
       "    <tr>\n",
       "      <th>2</th>\n",
       "      <td>25330</td>\n",
       "      <td>IN-2013-71249</td>\n",
       "      <td>2013-10-17</td>\n",
       "      <td>2013-10-18</td>\n",
       "      <td>First Class</td>\n",
       "      <td>CR-12730</td>\n",
       "      <td>Craig Reiter</td>\n",
       "      <td>Consumer</td>\n",
       "      <td>Brisbane</td>\n",
       "      <td>Queensland</td>\n",
       "      <td>...</td>\n",
       "      <td>TEC-PH-10004664</td>\n",
       "      <td>Technology</td>\n",
       "      <td>Phones</td>\n",
       "      <td>Nokia Smart Phone, with Caller ID</td>\n",
       "      <td>5175.171</td>\n",
       "      <td>9</td>\n",
       "      <td>0.1</td>\n",
       "      <td>919.9710</td>\n",
       "      <td>915.49</td>\n",
       "      <td>Medium</td>\n",
       "    </tr>\n",
       "    <tr>\n",
       "      <th>3</th>\n",
       "      <td>13524</td>\n",
       "      <td>ES-2013-1579342</td>\n",
       "      <td>2013-01-28</td>\n",
       "      <td>2013-01-30</td>\n",
       "      <td>First Class</td>\n",
       "      <td>KM-16375</td>\n",
       "      <td>Katherine Murray</td>\n",
       "      <td>Home Office</td>\n",
       "      <td>Berlin</td>\n",
       "      <td>Berlin</td>\n",
       "      <td>...</td>\n",
       "      <td>TEC-PH-10004583</td>\n",
       "      <td>Technology</td>\n",
       "      <td>Phones</td>\n",
       "      <td>Motorola Smart Phone, Cordless</td>\n",
       "      <td>2892.510</td>\n",
       "      <td>5</td>\n",
       "      <td>0.1</td>\n",
       "      <td>-96.5400</td>\n",
       "      <td>910.16</td>\n",
       "      <td>Medium</td>\n",
       "    </tr>\n",
       "    <tr>\n",
       "      <th>4</th>\n",
       "      <td>47221</td>\n",
       "      <td>SG-2013-4320</td>\n",
       "      <td>2013-11-05</td>\n",
       "      <td>2013-11-06</td>\n",
       "      <td>Same Day</td>\n",
       "      <td>RH-9495</td>\n",
       "      <td>Rick Hansen</td>\n",
       "      <td>Consumer</td>\n",
       "      <td>Dakar</td>\n",
       "      <td>Dakar</td>\n",
       "      <td>...</td>\n",
       "      <td>TEC-SHA-10000501</td>\n",
       "      <td>Technology</td>\n",
       "      <td>Copiers</td>\n",
       "      <td>Sharp Wireless Fax, High-Speed</td>\n",
       "      <td>2832.960</td>\n",
       "      <td>8</td>\n",
       "      <td>0.0</td>\n",
       "      <td>311.5200</td>\n",
       "      <td>903.04</td>\n",
       "      <td>Critical</td>\n",
       "    </tr>\n",
       "  </tbody>\n",
       "</table>\n",
       "<p>5 rows × 24 columns</p>\n",
       "</div>"
      ],
      "text/plain": [
       "   Row ID         Order ID Order Date  Ship Date     Ship Mode Customer ID  \\\n",
       "0   32298   CA-2012-124891 2012-07-31 2012-07-31      Same Day    RH-19495   \n",
       "1   26341    IN-2013-77878 2013-02-05 2013-02-07  Second Class    JR-16210   \n",
       "2   25330    IN-2013-71249 2013-10-17 2013-10-18   First Class    CR-12730   \n",
       "3   13524  ES-2013-1579342 2013-01-28 2013-01-30   First Class    KM-16375   \n",
       "4   47221     SG-2013-4320 2013-11-05 2013-11-06      Same Day     RH-9495   \n",
       "\n",
       "      Customer Name      Segment           City            State  ...  \\\n",
       "0       Rick Hansen     Consumer  New York City         New York  ...   \n",
       "1     Justin Ritter    Corporate     Wollongong  New South Wales  ...   \n",
       "2      Craig Reiter     Consumer       Brisbane       Queensland  ...   \n",
       "3  Katherine Murray  Home Office         Berlin           Berlin  ...   \n",
       "4       Rick Hansen     Consumer          Dakar            Dakar  ...   \n",
       "\n",
       "         Product ID    Category Sub-Category  \\\n",
       "0   TEC-AC-10003033  Technology  Accessories   \n",
       "1   FUR-CH-10003950   Furniture       Chairs   \n",
       "2   TEC-PH-10004664  Technology       Phones   \n",
       "3   TEC-PH-10004583  Technology       Phones   \n",
       "4  TEC-SHA-10000501  Technology      Copiers   \n",
       "\n",
       "                                        Product Name     Sales Quantity  \\\n",
       "0  Plantronics CS510 - Over-the-Head monaural Wir...  2309.650        7   \n",
       "1          Novimex Executive Leather Armchair, Black  3709.395        9   \n",
       "2                  Nokia Smart Phone, with Caller ID  5175.171        9   \n",
       "3                     Motorola Smart Phone, Cordless  2892.510        5   \n",
       "4                     Sharp Wireless Fax, High-Speed  2832.960        8   \n",
       "\n",
       "  Discount    Profit  Shipping Cost  Order Priority  \n",
       "0      0.0  762.1845         933.57        Critical  \n",
       "1      0.1 -288.7650         923.63        Critical  \n",
       "2      0.1  919.9710         915.49          Medium  \n",
       "3      0.1  -96.5400         910.16          Medium  \n",
       "4      0.0  311.5200         903.04        Critical  \n",
       "\n",
       "[5 rows x 24 columns]"
      ]
     },
     "execution_count": 14,
     "metadata": {},
     "output_type": "execute_result"
    }
   ],
   "source": [
    "df.head()"
   ]
  },
  {
   "cell_type": "code",
   "execution_count": 15,
   "id": "a3dd824b",
   "metadata": {},
   "outputs": [
    {
     "data": {
      "text/html": [
       "<div>\n",
       "<style scoped>\n",
       "    .dataframe tbody tr th:only-of-type {\n",
       "        vertical-align: middle;\n",
       "    }\n",
       "\n",
       "    .dataframe tbody tr th {\n",
       "        vertical-align: top;\n",
       "    }\n",
       "\n",
       "    .dataframe thead th {\n",
       "        text-align: right;\n",
       "    }\n",
       "</style>\n",
       "<table border=\"1\" class=\"dataframe\">\n",
       "  <thead>\n",
       "    <tr style=\"text-align: right;\">\n",
       "      <th></th>\n",
       "      <th>Row ID</th>\n",
       "      <th>Order Date</th>\n",
       "      <th>Ship Date</th>\n",
       "      <th>Postal Code</th>\n",
       "      <th>Sales</th>\n",
       "      <th>Quantity</th>\n",
       "      <th>Discount</th>\n",
       "      <th>Profit</th>\n",
       "      <th>Shipping Cost</th>\n",
       "    </tr>\n",
       "  </thead>\n",
       "  <tbody>\n",
       "    <tr>\n",
       "      <th>count</th>\n",
       "      <td>51290.00000</td>\n",
       "      <td>51290</td>\n",
       "      <td>51290</td>\n",
       "      <td>9994.000000</td>\n",
       "      <td>51290.000000</td>\n",
       "      <td>51290.000000</td>\n",
       "      <td>51290.000000</td>\n",
       "      <td>51290.000000</td>\n",
       "      <td>51290.000000</td>\n",
       "    </tr>\n",
       "    <tr>\n",
       "      <th>mean</th>\n",
       "      <td>25645.50000</td>\n",
       "      <td>2013-05-11 21:26:49.155781120</td>\n",
       "      <td>2013-05-15 20:42:42.745174528</td>\n",
       "      <td>55190.379428</td>\n",
       "      <td>246.490581</td>\n",
       "      <td>3.476545</td>\n",
       "      <td>0.142908</td>\n",
       "      <td>28.610982</td>\n",
       "      <td>26.375818</td>\n",
       "    </tr>\n",
       "    <tr>\n",
       "      <th>min</th>\n",
       "      <td>1.00000</td>\n",
       "      <td>2011-01-01 00:00:00</td>\n",
       "      <td>2011-01-03 00:00:00</td>\n",
       "      <td>1040.000000</td>\n",
       "      <td>0.444000</td>\n",
       "      <td>1.000000</td>\n",
       "      <td>0.000000</td>\n",
       "      <td>-6599.978000</td>\n",
       "      <td>0.002000</td>\n",
       "    </tr>\n",
       "    <tr>\n",
       "      <th>25%</th>\n",
       "      <td>12823.25000</td>\n",
       "      <td>2012-06-19 00:00:00</td>\n",
       "      <td>2012-06-23 00:00:00</td>\n",
       "      <td>23223.000000</td>\n",
       "      <td>30.758625</td>\n",
       "      <td>2.000000</td>\n",
       "      <td>0.000000</td>\n",
       "      <td>0.000000</td>\n",
       "      <td>2.610000</td>\n",
       "    </tr>\n",
       "    <tr>\n",
       "      <th>50%</th>\n",
       "      <td>25645.50000</td>\n",
       "      <td>2013-07-08 00:00:00</td>\n",
       "      <td>2013-07-12 00:00:00</td>\n",
       "      <td>56430.500000</td>\n",
       "      <td>85.053000</td>\n",
       "      <td>3.000000</td>\n",
       "      <td>0.000000</td>\n",
       "      <td>9.240000</td>\n",
       "      <td>7.790000</td>\n",
       "    </tr>\n",
       "    <tr>\n",
       "      <th>75%</th>\n",
       "      <td>38467.75000</td>\n",
       "      <td>2014-05-22 00:00:00</td>\n",
       "      <td>2014-05-26 00:00:00</td>\n",
       "      <td>90008.000000</td>\n",
       "      <td>251.053200</td>\n",
       "      <td>5.000000</td>\n",
       "      <td>0.200000</td>\n",
       "      <td>36.810000</td>\n",
       "      <td>24.450000</td>\n",
       "    </tr>\n",
       "    <tr>\n",
       "      <th>max</th>\n",
       "      <td>51290.00000</td>\n",
       "      <td>2014-12-31 00:00:00</td>\n",
       "      <td>2015-01-07 00:00:00</td>\n",
       "      <td>99301.000000</td>\n",
       "      <td>22638.480000</td>\n",
       "      <td>14.000000</td>\n",
       "      <td>0.850000</td>\n",
       "      <td>8399.976000</td>\n",
       "      <td>933.570000</td>\n",
       "    </tr>\n",
       "    <tr>\n",
       "      <th>std</th>\n",
       "      <td>14806.29199</td>\n",
       "      <td>NaN</td>\n",
       "      <td>NaN</td>\n",
       "      <td>32063.693350</td>\n",
       "      <td>487.565361</td>\n",
       "      <td>2.278766</td>\n",
       "      <td>0.212280</td>\n",
       "      <td>174.340972</td>\n",
       "      <td>57.296810</td>\n",
       "    </tr>\n",
       "  </tbody>\n",
       "</table>\n",
       "</div>"
      ],
      "text/plain": [
       "            Row ID                     Order Date  \\\n",
       "count  51290.00000                          51290   \n",
       "mean   25645.50000  2013-05-11 21:26:49.155781120   \n",
       "min        1.00000            2011-01-01 00:00:00   \n",
       "25%    12823.25000            2012-06-19 00:00:00   \n",
       "50%    25645.50000            2013-07-08 00:00:00   \n",
       "75%    38467.75000            2014-05-22 00:00:00   \n",
       "max    51290.00000            2014-12-31 00:00:00   \n",
       "std    14806.29199                            NaN   \n",
       "\n",
       "                           Ship Date   Postal Code         Sales  \\\n",
       "count                          51290   9994.000000  51290.000000   \n",
       "mean   2013-05-15 20:42:42.745174528  55190.379428    246.490581   \n",
       "min              2011-01-03 00:00:00   1040.000000      0.444000   \n",
       "25%              2012-06-23 00:00:00  23223.000000     30.758625   \n",
       "50%              2013-07-12 00:00:00  56430.500000     85.053000   \n",
       "75%              2014-05-26 00:00:00  90008.000000    251.053200   \n",
       "max              2015-01-07 00:00:00  99301.000000  22638.480000   \n",
       "std                              NaN  32063.693350    487.565361   \n",
       "\n",
       "           Quantity      Discount        Profit  Shipping Cost  \n",
       "count  51290.000000  51290.000000  51290.000000   51290.000000  \n",
       "mean       3.476545      0.142908     28.610982      26.375818  \n",
       "min        1.000000      0.000000  -6599.978000       0.002000  \n",
       "25%        2.000000      0.000000      0.000000       2.610000  \n",
       "50%        3.000000      0.000000      9.240000       7.790000  \n",
       "75%        5.000000      0.200000     36.810000      24.450000  \n",
       "max       14.000000      0.850000   8399.976000     933.570000  \n",
       "std        2.278766      0.212280    174.340972      57.296810  "
      ]
     },
     "execution_count": 15,
     "metadata": {},
     "output_type": "execute_result"
    }
   ],
   "source": [
    "df.describe()"
   ]
  },
  {
   "cell_type": "code",
   "execution_count": 16,
   "id": "4879f09a",
   "metadata": {},
   "outputs": [
    {
     "data": {
      "text/plain": [
       "array(['Technology', 'Furniture', 'Office Supplies'], dtype=object)"
      ]
     },
     "execution_count": 16,
     "metadata": {},
     "output_type": "execute_result"
    }
   ],
   "source": [
    "df[\"Category\"].unique()"
   ]
  },
  {
   "cell_type": "code",
   "execution_count": 17,
   "id": "8a7ab9f9",
   "metadata": {},
   "outputs": [
    {
     "data": {
      "text/html": [
       "<div>\n",
       "<style scoped>\n",
       "    .dataframe tbody tr th:only-of-type {\n",
       "        vertical-align: middle;\n",
       "    }\n",
       "\n",
       "    .dataframe tbody tr th {\n",
       "        vertical-align: top;\n",
       "    }\n",
       "\n",
       "    .dataframe thead th {\n",
       "        text-align: right;\n",
       "    }\n",
       "</style>\n",
       "<table border=\"1\" class=\"dataframe\">\n",
       "  <thead>\n",
       "    <tr style=\"text-align: right;\">\n",
       "      <th></th>\n",
       "      <th>Row ID</th>\n",
       "      <th>Order ID</th>\n",
       "      <th>Order Date</th>\n",
       "      <th>Ship Date</th>\n",
       "      <th>Ship Mode</th>\n",
       "      <th>Customer ID</th>\n",
       "      <th>Customer Name</th>\n",
       "      <th>Segment</th>\n",
       "      <th>City</th>\n",
       "      <th>State</th>\n",
       "      <th>...</th>\n",
       "      <th>Product ID</th>\n",
       "      <th>Category</th>\n",
       "      <th>Sub-Category</th>\n",
       "      <th>Product Name</th>\n",
       "      <th>Sales</th>\n",
       "      <th>Quantity</th>\n",
       "      <th>Discount</th>\n",
       "      <th>Profit</th>\n",
       "      <th>Shipping Cost</th>\n",
       "      <th>Order Priority</th>\n",
       "    </tr>\n",
       "  </thead>\n",
       "  <tbody>\n",
       "    <tr>\n",
       "      <th>51285</th>\n",
       "      <td>29002</td>\n",
       "      <td>IN-2014-62366</td>\n",
       "      <td>2014-06-19</td>\n",
       "      <td>2014-06-19</td>\n",
       "      <td>Same Day</td>\n",
       "      <td>KE-16420</td>\n",
       "      <td>Katrina Edelman</td>\n",
       "      <td>Corporate</td>\n",
       "      <td>Kure</td>\n",
       "      <td>Hiroshima</td>\n",
       "      <td>...</td>\n",
       "      <td>OFF-FA-10000746</td>\n",
       "      <td>Office Supplies</td>\n",
       "      <td>Fasteners</td>\n",
       "      <td>Advantus Thumb Tacks, 12 Pack</td>\n",
       "      <td>65.100</td>\n",
       "      <td>5</td>\n",
       "      <td>0.0</td>\n",
       "      <td>4.5000</td>\n",
       "      <td>0.010</td>\n",
       "      <td>Medium</td>\n",
       "    </tr>\n",
       "    <tr>\n",
       "      <th>51286</th>\n",
       "      <td>35398</td>\n",
       "      <td>US-2014-102288</td>\n",
       "      <td>2014-06-20</td>\n",
       "      <td>2014-06-24</td>\n",
       "      <td>Standard Class</td>\n",
       "      <td>ZC-21910</td>\n",
       "      <td>Zuschuss Carroll</td>\n",
       "      <td>Consumer</td>\n",
       "      <td>Houston</td>\n",
       "      <td>Texas</td>\n",
       "      <td>...</td>\n",
       "      <td>OFF-AP-10002906</td>\n",
       "      <td>Office Supplies</td>\n",
       "      <td>Appliances</td>\n",
       "      <td>Hoover Replacement Belt for Commercial Guardsm...</td>\n",
       "      <td>0.444</td>\n",
       "      <td>1</td>\n",
       "      <td>0.8</td>\n",
       "      <td>-1.1100</td>\n",
       "      <td>0.010</td>\n",
       "      <td>Medium</td>\n",
       "    </tr>\n",
       "    <tr>\n",
       "      <th>51287</th>\n",
       "      <td>40470</td>\n",
       "      <td>US-2013-155768</td>\n",
       "      <td>2013-12-02</td>\n",
       "      <td>2013-12-02</td>\n",
       "      <td>Same Day</td>\n",
       "      <td>LB-16795</td>\n",
       "      <td>Laurel Beltran</td>\n",
       "      <td>Home Office</td>\n",
       "      <td>Oxnard</td>\n",
       "      <td>California</td>\n",
       "      <td>...</td>\n",
       "      <td>OFF-EN-10001219</td>\n",
       "      <td>Office Supplies</td>\n",
       "      <td>Envelopes</td>\n",
       "      <td>#10- 4 1/8\" x 9 1/2\" Security-Tint Envelopes</td>\n",
       "      <td>22.920</td>\n",
       "      <td>3</td>\n",
       "      <td>0.0</td>\n",
       "      <td>11.2308</td>\n",
       "      <td>0.010</td>\n",
       "      <td>High</td>\n",
       "    </tr>\n",
       "    <tr>\n",
       "      <th>51288</th>\n",
       "      <td>9596</td>\n",
       "      <td>MX-2012-140767</td>\n",
       "      <td>2012-02-18</td>\n",
       "      <td>2012-02-22</td>\n",
       "      <td>Standard Class</td>\n",
       "      <td>RB-19795</td>\n",
       "      <td>Ross Baird</td>\n",
       "      <td>Home Office</td>\n",
       "      <td>Valinhos</td>\n",
       "      <td>São Paulo</td>\n",
       "      <td>...</td>\n",
       "      <td>OFF-BI-10000806</td>\n",
       "      <td>Office Supplies</td>\n",
       "      <td>Binders</td>\n",
       "      <td>Acco Index Tab, Economy</td>\n",
       "      <td>13.440</td>\n",
       "      <td>2</td>\n",
       "      <td>0.0</td>\n",
       "      <td>2.4000</td>\n",
       "      <td>0.003</td>\n",
       "      <td>Medium</td>\n",
       "    </tr>\n",
       "    <tr>\n",
       "      <th>51289</th>\n",
       "      <td>6147</td>\n",
       "      <td>MX-2012-134460</td>\n",
       "      <td>2012-05-22</td>\n",
       "      <td>2012-05-26</td>\n",
       "      <td>Second Class</td>\n",
       "      <td>MC-18100</td>\n",
       "      <td>Mick Crebagga</td>\n",
       "      <td>Consumer</td>\n",
       "      <td>Tipitapa</td>\n",
       "      <td>Managua</td>\n",
       "      <td>...</td>\n",
       "      <td>OFF-PA-10004155</td>\n",
       "      <td>Office Supplies</td>\n",
       "      <td>Paper</td>\n",
       "      <td>Eaton Computer Printout Paper, 8.5 x 11</td>\n",
       "      <td>61.380</td>\n",
       "      <td>3</td>\n",
       "      <td>0.0</td>\n",
       "      <td>1.8000</td>\n",
       "      <td>0.002</td>\n",
       "      <td>High</td>\n",
       "    </tr>\n",
       "  </tbody>\n",
       "</table>\n",
       "<p>5 rows × 24 columns</p>\n",
       "</div>"
      ],
      "text/plain": [
       "       Row ID        Order ID Order Date  Ship Date       Ship Mode  \\\n",
       "51285   29002   IN-2014-62366 2014-06-19 2014-06-19        Same Day   \n",
       "51286   35398  US-2014-102288 2014-06-20 2014-06-24  Standard Class   \n",
       "51287   40470  US-2013-155768 2013-12-02 2013-12-02        Same Day   \n",
       "51288    9596  MX-2012-140767 2012-02-18 2012-02-22  Standard Class   \n",
       "51289    6147  MX-2012-134460 2012-05-22 2012-05-26    Second Class   \n",
       "\n",
       "      Customer ID     Customer Name      Segment      City       State  ...  \\\n",
       "51285    KE-16420   Katrina Edelman    Corporate      Kure   Hiroshima  ...   \n",
       "51286    ZC-21910  Zuschuss Carroll     Consumer   Houston       Texas  ...   \n",
       "51287    LB-16795    Laurel Beltran  Home Office    Oxnard  California  ...   \n",
       "51288    RB-19795        Ross Baird  Home Office  Valinhos   São Paulo  ...   \n",
       "51289    MC-18100     Mick Crebagga     Consumer  Tipitapa     Managua  ...   \n",
       "\n",
       "            Product ID         Category Sub-Category  \\\n",
       "51285  OFF-FA-10000746  Office Supplies    Fasteners   \n",
       "51286  OFF-AP-10002906  Office Supplies   Appliances   \n",
       "51287  OFF-EN-10001219  Office Supplies    Envelopes   \n",
       "51288  OFF-BI-10000806  Office Supplies      Binders   \n",
       "51289  OFF-PA-10004155  Office Supplies        Paper   \n",
       "\n",
       "                                            Product Name   Sales Quantity  \\\n",
       "51285                      Advantus Thumb Tacks, 12 Pack  65.100        5   \n",
       "51286  Hoover Replacement Belt for Commercial Guardsm...   0.444        1   \n",
       "51287       #10- 4 1/8\" x 9 1/2\" Security-Tint Envelopes  22.920        3   \n",
       "51288                            Acco Index Tab, Economy  13.440        2   \n",
       "51289            Eaton Computer Printout Paper, 8.5 x 11  61.380        3   \n",
       "\n",
       "      Discount   Profit  Shipping Cost  Order Priority  \n",
       "51285      0.0   4.5000          0.010          Medium  \n",
       "51286      0.8  -1.1100          0.010          Medium  \n",
       "51287      0.0  11.2308          0.010            High  \n",
       "51288      0.0   2.4000          0.003          Medium  \n",
       "51289      0.0   1.8000          0.002            High  \n",
       "\n",
       "[5 rows x 24 columns]"
      ]
     },
     "execution_count": 17,
     "metadata": {},
     "output_type": "execute_result"
    }
   ],
   "source": [
    "df.tail()"
   ]
  },
  {
   "cell_type": "code",
   "execution_count": 18,
   "id": "21869534",
   "metadata": {},
   "outputs": [
    {
     "data": {
      "text/plain": [
       "0        United States\n",
       "1            Australia\n",
       "2            Australia\n",
       "3              Germany\n",
       "4              Senegal\n",
       "             ...      \n",
       "51285            Japan\n",
       "51286    United States\n",
       "51287    United States\n",
       "51288           Brazil\n",
       "51289        Nicaragua\n",
       "Name: Country, Length: 51290, dtype: object"
      ]
     },
     "execution_count": 18,
     "metadata": {},
     "output_type": "execute_result"
    }
   ],
   "source": [
    "df[\"Country\"]"
   ]
  },
  {
   "cell_type": "markdown",
   "id": "401de3bd",
   "metadata": {},
   "source": [
    "# Splitting the numerical and categorical columns"
   ]
  },
  {
   "cell_type": "code",
   "execution_count": 21,
   "id": "8d9b39bb",
   "metadata": {},
   "outputs": [],
   "source": [
    "df_num=df.select_dtypes(include=[np.number])"
   ]
  },
  {
   "cell_type": "code",
   "execution_count": 20,
   "id": "dafa6485",
   "metadata": {},
   "outputs": [],
   "source": [
    "import numpy as np"
   ]
  },
  {
   "cell_type": "code",
   "execution_count": 22,
   "id": "902af33c",
   "metadata": {},
   "outputs": [
    {
     "data": {
      "text/plain": [
       "Index(['Row ID', 'Postal Code', 'Sales', 'Quantity', 'Discount', 'Profit',\n",
       "       'Shipping Cost'],\n",
       "      dtype='object')"
      ]
     },
     "execution_count": 22,
     "metadata": {},
     "output_type": "execute_result"
    }
   ],
   "source": [
    "df_num.columns"
   ]
  },
  {
   "cell_type": "code",
   "execution_count": 23,
   "id": "b724ea2e",
   "metadata": {},
   "outputs": [],
   "source": [
    "df_num.drop([\"Row ID\"],axis=1,inplace=True)"
   ]
  },
  {
   "cell_type": "code",
   "execution_count": 24,
   "id": "2fdfd5bb",
   "metadata": {},
   "outputs": [],
   "source": [
    "df_num.drop([\"Postal Code\"],axis=1,inplace=True)"
   ]
  },
  {
   "cell_type": "code",
   "execution_count": 25,
   "id": "5b22feea",
   "metadata": {},
   "outputs": [
    {
     "data": {
      "text/plain": [
       "Index(['Sales', 'Quantity', 'Discount', 'Profit', 'Shipping Cost'], dtype='object')"
      ]
     },
     "execution_count": 25,
     "metadata": {},
     "output_type": "execute_result"
    }
   ],
   "source": [
    "df_num.columns"
   ]
  },
  {
   "cell_type": "markdown",
   "id": "55f61829",
   "metadata": {},
   "source": [
    "# Correlation for numerical columns"
   ]
  },
  {
   "cell_type": "code",
   "execution_count": 26,
   "id": "060b5dc4",
   "metadata": {},
   "outputs": [
    {
     "data": {
      "text/plain": [
       "Sales            0.484918\n",
       "Quantity         0.104365\n",
       "Discount        -0.316490\n",
       "Profit           1.000000\n",
       "Shipping Cost    0.354441\n",
       "Name: Profit, dtype: float64"
      ]
     },
     "execution_count": 26,
     "metadata": {},
     "output_type": "execute_result"
    }
   ],
   "source": [
    "df_num.corr()['Profit']"
   ]
  },
  {
   "cell_type": "code",
   "execution_count": 27,
   "id": "a9c39c3d",
   "metadata": {},
   "outputs": [
    {
     "data": {
      "text/html": [
       "<div>\n",
       "<style scoped>\n",
       "    .dataframe tbody tr th:only-of-type {\n",
       "        vertical-align: middle;\n",
       "    }\n",
       "\n",
       "    .dataframe tbody tr th {\n",
       "        vertical-align: top;\n",
       "    }\n",
       "\n",
       "    .dataframe thead th {\n",
       "        text-align: right;\n",
       "    }\n",
       "</style>\n",
       "<table border=\"1\" class=\"dataframe\">\n",
       "  <thead>\n",
       "    <tr style=\"text-align: right;\">\n",
       "      <th></th>\n",
       "      <th>Sales</th>\n",
       "      <th>Quantity</th>\n",
       "      <th>Discount</th>\n",
       "      <th>Profit</th>\n",
       "      <th>Shipping Cost</th>\n",
       "    </tr>\n",
       "  </thead>\n",
       "  <tbody>\n",
       "    <tr>\n",
       "      <th>Sales</th>\n",
       "      <td>1.000000</td>\n",
       "      <td>0.313577</td>\n",
       "      <td>-0.086722</td>\n",
       "      <td>0.484918</td>\n",
       "      <td>0.768073</td>\n",
       "    </tr>\n",
       "    <tr>\n",
       "      <th>Quantity</th>\n",
       "      <td>0.313577</td>\n",
       "      <td>1.000000</td>\n",
       "      <td>-0.019875</td>\n",
       "      <td>0.104365</td>\n",
       "      <td>0.272649</td>\n",
       "    </tr>\n",
       "    <tr>\n",
       "      <th>Discount</th>\n",
       "      <td>-0.086722</td>\n",
       "      <td>-0.019875</td>\n",
       "      <td>1.000000</td>\n",
       "      <td>-0.316490</td>\n",
       "      <td>-0.079055</td>\n",
       "    </tr>\n",
       "    <tr>\n",
       "      <th>Profit</th>\n",
       "      <td>0.484918</td>\n",
       "      <td>0.104365</td>\n",
       "      <td>-0.316490</td>\n",
       "      <td>1.000000</td>\n",
       "      <td>0.354441</td>\n",
       "    </tr>\n",
       "    <tr>\n",
       "      <th>Shipping Cost</th>\n",
       "      <td>0.768073</td>\n",
       "      <td>0.272649</td>\n",
       "      <td>-0.079055</td>\n",
       "      <td>0.354441</td>\n",
       "      <td>1.000000</td>\n",
       "    </tr>\n",
       "  </tbody>\n",
       "</table>\n",
       "</div>"
      ],
      "text/plain": [
       "                  Sales  Quantity  Discount    Profit  Shipping Cost\n",
       "Sales          1.000000  0.313577 -0.086722  0.484918       0.768073\n",
       "Quantity       0.313577  1.000000 -0.019875  0.104365       0.272649\n",
       "Discount      -0.086722 -0.019875  1.000000 -0.316490      -0.079055\n",
       "Profit         0.484918  0.104365 -0.316490  1.000000       0.354441\n",
       "Shipping Cost  0.768073  0.272649 -0.079055  0.354441       1.000000"
      ]
     },
     "execution_count": 27,
     "metadata": {},
     "output_type": "execute_result"
    }
   ],
   "source": [
    "df_num.corr()"
   ]
  },
  {
   "cell_type": "markdown",
   "id": "7c33e4d1",
   "metadata": {},
   "source": [
    "# Splitting the categorical columns"
   ]
  },
  {
   "cell_type": "code",
   "execution_count": 28,
   "id": "02f4badf",
   "metadata": {},
   "outputs": [],
   "source": [
    "df_cat=df.select_dtypes(include=['object']) "
   ]
  },
  {
   "cell_type": "code",
   "execution_count": 29,
   "id": "92ccbe86",
   "metadata": {},
   "outputs": [
    {
     "data": {
      "text/plain": [
       "Index(['Order ID', 'Ship Mode', 'Customer ID', 'Customer Name', 'Segment',\n",
       "       'City', 'State', 'Country', 'Market', 'Region', 'Product ID',\n",
       "       'Category', 'Sub-Category', 'Product Name', 'Order Priority'],\n",
       "      dtype='object')"
      ]
     },
     "execution_count": 29,
     "metadata": {},
     "output_type": "execute_result"
    }
   ],
   "source": [
    "df_cat.columns"
   ]
  },
  {
   "cell_type": "code",
   "execution_count": 30,
   "id": "9b693f2f",
   "metadata": {},
   "outputs": [
    {
     "data": {
      "text/plain": [
       "Sales            0\n",
       "Quantity         0\n",
       "Discount         0\n",
       "Profit           0\n",
       "Shipping Cost    0\n",
       "dtype: int64"
      ]
     },
     "execution_count": 30,
     "metadata": {},
     "output_type": "execute_result"
    }
   ],
   "source": [
    "df_num.isnull().sum()"
   ]
  },
  {
   "cell_type": "code",
   "execution_count": 31,
   "id": "3e4bbbb5",
   "metadata": {},
   "outputs": [
    {
     "data": {
      "text/plain": [
       "Order ID          0\n",
       "Ship Mode         0\n",
       "Customer ID       0\n",
       "Customer Name     0\n",
       "Segment           0\n",
       "City              0\n",
       "State             0\n",
       "Country           0\n",
       "Market            0\n",
       "Region            0\n",
       "Product ID        0\n",
       "Category          0\n",
       "Sub-Category      0\n",
       "Product Name      0\n",
       "Order Priority    0\n",
       "dtype: int64"
      ]
     },
     "execution_count": 31,
     "metadata": {},
     "output_type": "execute_result"
    }
   ],
   "source": [
    "df_cat.isnull().sum()"
   ]
  },
  {
   "cell_type": "code",
   "execution_count": 32,
   "id": "b8d70d3b",
   "metadata": {},
   "outputs": [],
   "source": [
    "from matplotlib import pyplot as plt\n",
    "from matplotlib import style\n",
    "import seaborn as sns\n",
    "%matplotlib inline"
   ]
  },
  {
   "cell_type": "code",
   "execution_count": 33,
   "id": "6609d946",
   "metadata": {},
   "outputs": [
    {
     "data": {
      "text/plain": [
       "{'whiskers': [<matplotlib.lines.Line2D at 0x12d1b5610>,\n",
       "  <matplotlib.lines.Line2D at 0x12d1b6490>],\n",
       " 'caps': [<matplotlib.lines.Line2D at 0x12d1a71d0>,\n",
       "  <matplotlib.lines.Line2D at 0x12d1b7a90>],\n",
       " 'boxes': [<matplotlib.lines.Line2D at 0x12d174790>],\n",
       " 'medians': [<matplotlib.lines.Line2D at 0x12d1c4710>],\n",
       " 'fliers': [<matplotlib.lines.Line2D at 0x12d1c5090>],\n",
       " 'means': []}"
      ]
     },
     "execution_count": 33,
     "metadata": {},
     "output_type": "execute_result"
    },
    {
     "data": {
      "image/png": "[encoded data removed]",
      "text/plain": [
       "<Figure size 640x480 with 1 Axes>"
      ]
     },
     "metadata": {},
     "output_type": "display_data"
    }
   ],
   "source": [
    "plt.boxplot(df_num[\"Sales\"])"
   ]
  },
  {
   "cell_type": "code",
   "execution_count": 34,
   "id": "67de0d24",
   "metadata": {},
   "outputs": [
    {
     "data": {
      "text/plain": [
       "0.10       13.680000\n",
       "0.25       30.758625\n",
       "0.50       85.053000\n",
       "0.75      251.053200\n",
       "1.00    22638.480000\n",
       "Name: Sales, dtype: float64"
      ]
     },
     "execution_count": 34,
     "metadata": {},
     "output_type": "execute_result"
    }
   ],
   "source": [
    "df_num[\"Sales\"].quantile([0.1,0.25,0.5,0.75,1.0])"
   ]
  },
  {
   "cell_type": "code",
   "execution_count": 35,
   "id": "393b22a9",
   "metadata": {},
   "outputs": [],
   "source": [
    "df_1=df_num[(df_num[\"Sales\"] >=30.758625) & (df_num[\"Sales\"] <=251.053200)]"
   ]
  },
  {
   "cell_type": "code",
   "execution_count": 36,
   "id": "40636380",
   "metadata": {},
   "outputs": [
    {
     "data": {
      "text/plain": [
       "(25644, 5)"
      ]
     },
     "execution_count": 36,
     "metadata": {},
     "output_type": "execute_result"
    }
   ],
   "source": [
    "df_1.shape"
   ]
  },
  {
   "cell_type": "code",
   "execution_count": 37,
   "id": "15513f8d",
   "metadata": {},
   "outputs": [
    {
     "data": {
      "text/plain": [
       "{'whiskers': [<matplotlib.lines.Line2D at 0x12d2b25d0>,\n",
       "  <matplotlib.lines.Line2D at 0x12d2b3350>],\n",
       " 'caps': [<matplotlib.lines.Line2D at 0x12d2b3f50>,\n",
       "  <matplotlib.lines.Line2D at 0x12d2b8ad0>],\n",
       " 'boxes': [<matplotlib.lines.Line2D at 0x12d2b1950>],\n",
       " 'medians': [<matplotlib.lines.Line2D at 0x12d2b9650>],\n",
       " 'fliers': [<matplotlib.lines.Line2D at 0x12d2ba090>],\n",
       " 'means': []}"
      ]
     },
     "execution_count": 37,
     "metadata": {},
     "output_type": "execute_result"
    },
    {
     "data": {
      "image/png": "[encoded data removed]",
      "text/plain": [
       "<Figure size 640x480 with 1 Axes>"
      ]
     },
     "metadata": {},
     "output_type": "display_data"
    }
   ],
   "source": [
    "plt.boxplot(df_1[\"Sales\"])"
   ]
  },
  {
   "cell_type": "code",
   "execution_count": 38,
   "id": "431bf032",
   "metadata": {},
   "outputs": [
    {
     "data": {
      "text/plain": [
       "{'whiskers': [<matplotlib.lines.Line2D at 0x12d312250>,\n",
       "  <matplotlib.lines.Line2D at 0x12d312e50>],\n",
       " 'caps': [<matplotlib.lines.Line2D at 0x12d313810>,\n",
       "  <matplotlib.lines.Line2D at 0x12d31c2d0>],\n",
       " 'boxes': [<matplotlib.lines.Line2D at 0x12d311590>],\n",
       " 'medians': [<matplotlib.lines.Line2D at 0x12d31ce10>],\n",
       " 'fliers': [<matplotlib.lines.Line2D at 0x12d31d7d0>],\n",
       " 'means': []}"
      ]
     },
     "execution_count": 38,
     "metadata": {},
     "output_type": "execute_result"
    },
    {
     "data": {
      "image/png": "[encoded data removed]",
      "text/plain": [
       "<Figure size 640x480 with 1 Axes>"
      ]
     },
     "metadata": {},
     "output_type": "display_data"
    }
   ],
   "source": [
    "plt.boxplot(df_1[\"Quantity\"])"
   ]
  },
  {
   "cell_type": "code",
   "execution_count": 39,
   "id": "1bb9ac2b",
   "metadata": {},
   "outputs": [
    {
     "data": {
      "text/plain": [
       "0.10     1.0\n",
       "0.25     2.0\n",
       "0.50     3.0\n",
       "0.75     5.0\n",
       "1.00    14.0\n",
       "Name: Quantity, dtype: float64"
      ]
     },
     "execution_count": 39,
     "metadata": {},
     "output_type": "execute_result"
    }
   ],
   "source": [
    "df_1[\"Quantity\"].quantile([0.1,0.25,0.5,0.75,1.0])"
   ]
  },
  {
   "cell_type": "code",
   "execution_count": 40,
   "id": "75877c20",
   "metadata": {},
   "outputs": [],
   "source": [
    "df_2=df_1[(df_1[\"Quantity\"] >=2.0) & (df_1[\"Quantity\"] <=5.0)]"
   ]
  },
  {
   "cell_type": "code",
   "execution_count": 41,
   "id": "a90f7908",
   "metadata": {},
   "outputs": [
    {
     "data": {
      "text/plain": [
       "(17780, 5)"
      ]
     },
     "execution_count": 41,
     "metadata": {},
     "output_type": "execute_result"
    }
   ],
   "source": [
    "df_2.shape"
   ]
  },
  {
   "cell_type": "code",
   "execution_count": 42,
   "id": "1639a2f7",
   "metadata": {},
   "outputs": [
    {
     "data": {
      "text/plain": [
       "{'whiskers': [<matplotlib.lines.Line2D at 0x12d388f10>,\n",
       "  <matplotlib.lines.Line2D at 0x12d389b90>],\n",
       " 'caps': [<matplotlib.lines.Line2D at 0x12d38a710>,\n",
       "  <matplotlib.lines.Line2D at 0x12d38b190>],\n",
       " 'boxes': [<matplotlib.lines.Line2D at 0x12d388250>],\n",
       " 'medians': [<matplotlib.lines.Line2D at 0x12d38bc90>],\n",
       " 'fliers': [<matplotlib.lines.Line2D at 0x12d39c790>],\n",
       " 'means': []}"
      ]
     },
     "execution_count": 42,
     "metadata": {},
     "output_type": "execute_result"
    },
    {
     "data": {
      "image/png": "[encoded data removed]",
      "text/plain": [
       "<Figure size 640x480 with 1 Axes>"
      ]
     },
     "metadata": {},
     "output_type": "display_data"
    }
   ],
   "source": [
    "plt.boxplot(df_2[\"Quantity\"])"
   ]
  },
  {
   "cell_type": "code",
   "execution_count": 43,
   "id": "df274aef",
   "metadata": {},
   "outputs": [
    {
     "data": {
      "text/plain": [
       "{'whiskers': [<matplotlib.lines.Line2D at 0x12d3ed590>,\n",
       "  <matplotlib.lines.Line2D at 0x12d3fee10>],\n",
       " 'caps': [<matplotlib.lines.Line2D at 0x12d3fed50>,\n",
       "  <matplotlib.lines.Line2D at 0x12d4042d0>],\n",
       " 'boxes': [<matplotlib.lines.Line2D at 0x12d3ba250>],\n",
       " 'medians': [<matplotlib.lines.Line2D at 0x12d404dd0>],\n",
       " 'fliers': [<matplotlib.lines.Line2D at 0x12d4058d0>],\n",
       " 'means': []}"
      ]
     },
     "execution_count": 43,
     "metadata": {},
     "output_type": "execute_result"
    },
    {
     "data": {
      "image/png": "[encoded data removed]",
      "text/plain": [
       "<Figure size 640x480 with 1 Axes>"
      ]
     },
     "metadata": {},
     "output_type": "display_data"
    }
   ],
   "source": [
    "plt.boxplot(df_2[\"Discount\"])"
   ]
  },
  {
   "cell_type": "code",
   "execution_count": 44,
   "id": "c52aeb67",
   "metadata": {},
   "outputs": [
    {
     "data": {
      "text/plain": [
       "0.10    0.0\n",
       "0.25    0.0\n",
       "0.50    0.0\n",
       "0.75    0.2\n",
       "1.00    0.8\n",
       "Name: Discount, dtype: float64"
      ]
     },
     "execution_count": 44,
     "metadata": {},
     "output_type": "execute_result"
    }
   ],
   "source": [
    "df_2[\"Discount\"].quantile([0.1,0.25,0.5,0.75,1.0])"
   ]
  },
  {
   "cell_type": "code",
   "execution_count": 45,
   "id": "615f8079",
   "metadata": {},
   "outputs": [],
   "source": [
    "df_3=df_2[(df_2[\"Discount\"] >=0.0) & (df_2[\"Discount\"] <=0.2)]"
   ]
  },
  {
   "cell_type": "code",
   "execution_count": 46,
   "id": "e39da307",
   "metadata": {},
   "outputs": [
    {
     "data": {
      "text/plain": [
       "(14179, 5)"
      ]
     },
     "execution_count": 46,
     "metadata": {},
     "output_type": "execute_result"
    }
   ],
   "source": [
    "df_3.shape"
   ]
  },
  {
   "cell_type": "code",
   "execution_count": 47,
   "id": "fdf0351c",
   "metadata": {},
   "outputs": [
    {
     "data": {
      "text/plain": [
       "{'whiskers': [<matplotlib.lines.Line2D at 0x12d472e10>,\n",
       "  <matplotlib.lines.Line2D at 0x12d473b50>],\n",
       " 'caps': [<matplotlib.lines.Line2D at 0x12d47c710>,\n",
       "  <matplotlib.lines.Line2D at 0x12d47cfd0>],\n",
       " 'boxes': [<matplotlib.lines.Line2D at 0x12d472110>],\n",
       " 'medians': [<matplotlib.lines.Line2D at 0x12d47db10>],\n",
       " 'fliers': [<matplotlib.lines.Line2D at 0x12d47e4d0>],\n",
       " 'means': []}"
      ]
     },
     "execution_count": 47,
     "metadata": {},
     "output_type": "execute_result"
    },
    {
     "data": {
      "image/png": "[encoded data removed]",
      "text/plain": [
       "<Figure size 640x480 with 1 Axes>"
      ]
     },
     "metadata": {},
     "output_type": "display_data"
    }
   ],
   "source": [
    "plt.boxplot(df_3[\"Discount\"])"
   ]
  },
  {
   "cell_type": "code",
   "execution_count": 48,
   "id": "5f2f3d72",
   "metadata": {},
   "outputs": [
    {
     "data": {
      "text/plain": [
       "0.10    0.000\n",
       "0.25    0.000\n",
       "0.50    0.000\n",
       "0.75    0.002\n",
       "1.00    0.200\n",
       "Name: Discount, dtype: float64"
      ]
     },
     "execution_count": 48,
     "metadata": {},
     "output_type": "execute_result"
    }
   ],
   "source": [
    "df_3[\"Discount\"].quantile([0.1,0.25,0.5,0.75,1.0])"
   ]
  },
  {
   "cell_type": "code",
   "execution_count": 91,
   "id": "3acaae3d",
   "metadata": {},
   "outputs": [],
   "source": [
    "df_4=df_3[(df_3[\"Discount\"] >=0.000) & (df_3[\"Discount\"] <=0.002)]"
   ]
  },
  {
   "cell_type": "code",
   "execution_count": 92,
   "id": "d2d81197",
   "metadata": {},
   "outputs": [
    {
     "data": {
      "text/plain": [
       "(10662, 5)"
      ]
     },
     "execution_count": 92,
     "metadata": {},
     "output_type": "execute_result"
    }
   ],
   "source": [
    "df_4.shape"
   ]
  },
  {
   "cell_type": "code",
   "execution_count": 93,
   "id": "8ffa42f8",
   "metadata": {},
   "outputs": [
    {
     "data": {
      "text/plain": [
       "{'whiskers': [<matplotlib.lines.Line2D at 0x130522710>,\n",
       "  <matplotlib.lines.Line2D at 0x130522f90>],\n",
       " 'caps': [<matplotlib.lines.Line2D at 0x1305238d0>,\n",
       "  <matplotlib.lines.Line2D at 0x130530190>],\n",
       " 'boxes': [<matplotlib.lines.Line2D at 0x130386e50>],\n",
       " 'medians': [<matplotlib.lines.Line2D at 0x130530a90>],\n",
       " 'fliers': [<matplotlib.lines.Line2D at 0x1304b7dd0>],\n",
       " 'means': []}"
      ]
     },
     "execution_count": 93,
     "metadata": {},
     "output_type": "execute_result"
    },
    {
     "data": {
      "image/png": "[encoded data removed]",
      "text/plain": [
       "<Figure size 640x480 with 1 Axes>"
      ]
     },
     "metadata": {},
     "output_type": "display_data"
    }
   ],
   "source": [
    "plt.boxplot(df_4[\"Discount\"])"
   ]
  },
  {
   "cell_type": "code",
   "execution_count": 94,
   "id": "e96731fa",
   "metadata": {},
   "outputs": [
    {
     "data": {
      "text/plain": [
       "0.10    0.000\n",
       "0.25    0.000\n",
       "0.50    0.000\n",
       "0.75    0.000\n",
       "1.00    0.002\n",
       "Name: Discount, dtype: float64"
      ]
     },
     "execution_count": 94,
     "metadata": {},
     "output_type": "execute_result"
    }
   ],
   "source": [
    "df_4[\"Discount\"].quantile([0.1,0.25,0.5,0.75,1.0])"
   ]
  },
  {
   "cell_type": "code",
   "execution_count": 95,
   "id": "e62f25cc",
   "metadata": {},
   "outputs": [],
   "source": [
    "df_5=df_4[(df_4[\"Discount\"] >=0.000) & (df_4[\"Discount\"] <=0.000)]"
   ]
  },
  {
   "cell_type": "code",
   "execution_count": 96,
   "id": "56cddd68",
   "metadata": {},
   "outputs": [
    {
     "data": {
      "text/plain": [
       "{'whiskers': [<matplotlib.lines.Line2D at 0x13058f090>,\n",
       "  <matplotlib.lines.Line2D at 0x13058fa10>],\n",
       " 'caps': [<matplotlib.lines.Line2D at 0x1305a0350>,\n",
       "  <matplotlib.lines.Line2D at 0x1305a09d0>],\n",
       " 'boxes': [<matplotlib.lines.Line2D at 0x13058e6d0>],\n",
       " 'medians': [<matplotlib.lines.Line2D at 0x1305a1310>],\n",
       " 'fliers': [<matplotlib.lines.Line2D at 0x1305a19d0>],\n",
       " 'means': []}"
      ]
     },
     "execution_count": 96,
     "metadata": {},
     "output_type": "execute_result"
    },
    {
     "data": {
      "image/png": "[encoded data removed]",
      "text/plain": [
       "<Figure size 640x480 with 1 Axes>"
      ]
     },
     "metadata": {},
     "output_type": "display_data"
    }
   ],
   "source": [
    "plt.boxplot(df_5[\"Discount\"])"
   ]
  },
  {
   "cell_type": "code",
   "execution_count": 97,
   "id": "780d9d74",
   "metadata": {},
   "outputs": [
    {
     "data": {
      "text/plain": [
       "{'whiskers': [<matplotlib.lines.Line2D at 0x1305f6e90>,\n",
       "  <matplotlib.lines.Line2D at 0x1305f7990>],\n",
       " 'caps': [<matplotlib.lines.Line2D at 0x130604690>,\n",
       "  <matplotlib.lines.Line2D at 0x130605090>],\n",
       " 'boxes': [<matplotlib.lines.Line2D at 0x1305f6290>],\n",
       " 'medians': [<matplotlib.lines.Line2D at 0x130605b10>],\n",
       " 'fliers': [<matplotlib.lines.Line2D at 0x1304e7c10>],\n",
       " 'means': []}"
      ]
     },
     "execution_count": 97,
     "metadata": {},
     "output_type": "execute_result"
    },
    {
     "data": {
      "image/png": "[encoded data removed]",
      "text/plain": [
       "<Figure size 640x480 with 1 Axes>"
      ]
     },
     "metadata": {},
     "output_type": "display_data"
    }
   ],
   "source": [
    "plt.boxplot(df_5[\"Profit\"])"
   ]
  },
  {
   "cell_type": "code",
   "execution_count": 98,
   "id": "96ec6648",
   "metadata": {},
   "outputs": [
    {
     "data": {
      "text/plain": [
       "0.10      3.9600\n",
       "0.25      9.7200\n",
       "0.50     18.8937\n",
       "0.75     35.1000\n",
       "1.00    124.1000\n",
       "Name: Profit, dtype: float64"
      ]
     },
     "execution_count": 98,
     "metadata": {},
     "output_type": "execute_result"
    }
   ],
   "source": [
    "df_5[\"Profit\"].quantile([0.1,0.25,0.5,0.75,1.0])"
   ]
  },
  {
   "cell_type": "code",
   "execution_count": 99,
   "id": "2d4f9e7d",
   "metadata": {},
   "outputs": [],
   "source": [
    "df_6=df_5[(df_5[\"Profit\"] >=9.7200) & (df_5[\"Profit\"] <=35.1000)]"
   ]
  },
  {
   "cell_type": "code",
   "execution_count": 100,
   "id": "b2df68c6",
   "metadata": {},
   "outputs": [
    {
     "data": {
      "text/plain": [
       "{'whiskers': [<matplotlib.lines.Line2D at 0x130667090>,\n",
       "  <matplotlib.lines.Line2D at 0x130667d10>],\n",
       " 'caps': [<matplotlib.lines.Line2D at 0x130674910>,\n",
       "  <matplotlib.lines.Line2D at 0x130675250>],\n",
       " 'boxes': [<matplotlib.lines.Line2D at 0x130666550>],\n",
       " 'medians': [<matplotlib.lines.Line2D at 0x130675d10>],\n",
       " 'fliers': [<matplotlib.lines.Line2D at 0x130652bd0>],\n",
       " 'means': []}"
      ]
     },
     "execution_count": 100,
     "metadata": {},
     "output_type": "execute_result"
    },
    {
     "data": {
      "image/png": "[encoded data removed]",
      "text/plain": [
       "<Figure size 640x480 with 1 Axes>"
      ]
     },
     "metadata": {},
     "output_type": "display_data"
    }
   ],
   "source": [
    "plt.boxplot(df_6[\"Profit\"])"
   ]
  },
  {
   "cell_type": "code",
   "execution_count": 101,
   "id": "f64291d6",
   "metadata": {},
   "outputs": [
    {
     "data": {
      "text/plain": [
       "{'whiskers': [<matplotlib.lines.Line2D at 0x1306d6590>,\n",
       "  <matplotlib.lines.Line2D at 0x1306d7290>],\n",
       " 'caps': [<matplotlib.lines.Line2D at 0x1306d7ed0>,\n",
       "  <matplotlib.lines.Line2D at 0x1306dc810>],\n",
       " 'boxes': [<matplotlib.lines.Line2D at 0x1306d5b90>],\n",
       " 'medians': [<matplotlib.lines.Line2D at 0x1306dd290>],\n",
       " 'fliers': [<matplotlib.lines.Line2D at 0x1306d71d0>],\n",
       " 'means': []}"
      ]
     },
     "execution_count": 101,
     "metadata": {},
     "output_type": "execute_result"
    },
    {
     "data": {
      "image/png": "[encoded data removed]",
      "text/plain": [
       "<Figure size 640x480 with 1 Axes>"
      ]
     },
     "metadata": {},
     "output_type": "display_data"
    }
   ],
   "source": [
    "plt.boxplot(df_6[\"Shipping Cost\"])"
   ]
  },
  {
   "cell_type": "code",
   "execution_count": 102,
   "id": "ccb5d043",
   "metadata": {},
   "outputs": [
    {
     "data": {
      "text/plain": [
       "0.10     2.44\n",
       "0.25     3.92\n",
       "0.50     6.60\n",
       "0.75    11.53\n",
       "1.00    99.98\n",
       "Name: Shipping Cost, dtype: float64"
      ]
     },
     "execution_count": 102,
     "metadata": {},
     "output_type": "execute_result"
    }
   ],
   "source": [
    "df_6[\"Shipping Cost\"].quantile([0.1,0.25,0.5,0.75,1.0])"
   ]
  },
  {
   "cell_type": "code",
   "execution_count": 103,
   "id": "29f3c455",
   "metadata": {},
   "outputs": [],
   "source": [
    "df_7=df_6[(df_6[\"Shipping Cost\"] >=3.92) & (df_6[\"Shipping Cost\"] <=11.53)]"
   ]
  },
  {
   "cell_type": "code",
   "execution_count": 104,
   "id": "f8447868",
   "metadata": {},
   "outputs": [
    {
     "data": {
      "text/plain": [
       "{'whiskers': [<matplotlib.lines.Line2D at 0x130745d10>,\n",
       "  <matplotlib.lines.Line2D at 0x130746990>],\n",
       " 'caps': [<matplotlib.lines.Line2D at 0x130734a90>,\n",
       "  <matplotlib.lines.Line2D at 0x130747e90>],\n",
       " 'boxes': [<matplotlib.lines.Line2D at 0x130745250>],\n",
       " 'medians': [<matplotlib.lines.Line2D at 0x130754950>],\n",
       " 'fliers': [<matplotlib.lines.Line2D at 0x1306f8790>],\n",
       " 'means': []}"
      ]
     },
     "execution_count": 104,
     "metadata": {},
     "output_type": "execute_result"
    },
    {
     "data": {
      "image/png": "[encoded data removed]",
      "text/plain": [
       "<Figure size 640x480 with 1 Axes>"
      ]
     },
     "metadata": {},
     "output_type": "display_data"
    }
   ],
   "source": [
    "plt.boxplot(df_7[\"Shipping Cost\"])"
   ]
  },
  {
   "cell_type": "code",
   "execution_count": 105,
   "id": "a07aa969",
   "metadata": {},
   "outputs": [
    {
     "data": {
      "text/plain": [
       "Sales            0\n",
       "Quantity         0\n",
       "Discount         0\n",
       "Profit           0\n",
       "Shipping Cost    0\n",
       "dtype: int64"
      ]
     },
     "execution_count": 105,
     "metadata": {},
     "output_type": "execute_result"
    }
   ],
   "source": [
    "df_7.isnull().sum()"
   ]
  },
  {
   "cell_type": "markdown",
   "id": "8c32306f",
   "metadata": {},
   "source": [
    "# Scaling for Numerical columns"
   ]
  },
  {
   "cell_type": "code",
   "execution_count": 106,
   "id": "0fef7da4",
   "metadata": {},
   "outputs": [],
   "source": [
    "from sklearn import preprocessing"
   ]
  },
  {
   "cell_type": "code",
   "execution_count": 107,
   "id": "fe96ce3f",
   "metadata": {},
   "outputs": [],
   "source": [
    "mm_scaler = preprocessing.MinMaxScaler()"
   ]
  },
  {
   "cell_type": "code",
   "execution_count": 108,
   "id": "19080cee",
   "metadata": {},
   "outputs": [],
   "source": [
    "df7_num_mm =mm_scaler.fit_transform(df_7)"
   ]
  },
  {
   "cell_type": "code",
   "execution_count": 109,
   "id": "14ddfbbc",
   "metadata": {},
   "outputs": [
    {
     "data": {
      "text/plain": [
       "array([[0.26152138, 0.        , 0.        , 0.68321513, 1.        ],\n",
       "       [0.07801222, 0.        , 0.        , 0.10401891, 1.        ],\n",
       "       [0.16259485, 0.        , 0.        , 0.1355398 , 0.99947438],\n",
       "       ...,\n",
       "       [0.13214881, 0.        , 0.        , 0.17730496, 0.        ],\n",
       "       [0.10744031, 0.        , 0.        , 0.34042553, 0.        ],\n",
       "       [0.06329817, 0.        , 0.        , 0.19510638, 0.        ]])"
      ]
     },
     "execution_count": 109,
     "metadata": {},
     "output_type": "execute_result"
    }
   ],
   "source": [
    "df7_num_mm"
   ]
  },
  {
   "cell_type": "code",
   "execution_count": 110,
   "id": "eabf3c0c",
   "metadata": {},
   "outputs": [
    {
     "data": {
      "text/plain": [
       "Order ID          0\n",
       "Ship Mode         0\n",
       "Customer ID       0\n",
       "Customer Name     0\n",
       "Segment           0\n",
       "City              0\n",
       "State             0\n",
       "Country           0\n",
       "Market            0\n",
       "Region            0\n",
       "Product ID        0\n",
       "Category          0\n",
       "Sub-Category      0\n",
       "Product Name      0\n",
       "Order Priority    0\n",
       "dtype: int64"
      ]
     },
     "execution_count": 110,
     "metadata": {},
     "output_type": "execute_result"
    }
   ],
   "source": [
    "df_cat.isnull().sum()"
   ]
  },
  {
   "cell_type": "markdown",
   "id": "0a0db374",
   "metadata": {},
   "source": [
    "# Label Encoding for categorical column"
   ]
  },
  {
   "cell_type": "code",
   "execution_count": 112,
   "id": "df46b5c1",
   "metadata": {},
   "outputs": [],
   "source": [
    "le=preprocessing.LabelEncoder()"
   ]
  },
  {
   "cell_type": "code",
   "execution_count": 113,
   "id": "2597bc4d",
   "metadata": {},
   "outputs": [],
   "source": [
    "df2_cat_e =df_cat.apply(le.fit_transform)"
   ]
  },
  {
   "cell_type": "code",
   "execution_count": 114,
   "id": "6e09d2ce",
   "metadata": {},
   "outputs": [
    {
     "data": {
      "text/html": [
       "<div>\n",
       "<style scoped>\n",
       "    .dataframe tbody tr th:only-of-type {\n",
       "        vertical-align: middle;\n",
       "    }\n",
       "\n",
       "    .dataframe tbody tr th {\n",
       "        vertical-align: top;\n",
       "    }\n",
       "\n",
       "    .dataframe thead th {\n",
       "        text-align: right;\n",
       "    }\n",
       "</style>\n",
       "<table border=\"1\" class=\"dataframe\">\n",
       "  <thead>\n",
       "    <tr style=\"text-align: right;\">\n",
       "      <th></th>\n",
       "      <th>Order ID</th>\n",
       "      <th>Ship Mode</th>\n",
       "      <th>Customer ID</th>\n",
       "      <th>Customer Name</th>\n",
       "      <th>Segment</th>\n",
       "      <th>City</th>\n",
       "      <th>State</th>\n",
       "      <th>Country</th>\n",
       "      <th>Market</th>\n",
       "      <th>Region</th>\n",
       "      <th>Product ID</th>\n",
       "      <th>Category</th>\n",
       "      <th>Sub-Category</th>\n",
       "      <th>Product Name</th>\n",
       "      <th>Order Priority</th>\n",
       "    </tr>\n",
       "  </thead>\n",
       "  <tbody>\n",
       "    <tr>\n",
       "      <th>0</th>\n",
       "      <td>1499</td>\n",
       "      <td>1</td>\n",
       "      <td>1286</td>\n",
       "      <td>632</td>\n",
       "      <td>0</td>\n",
       "      <td>2290</td>\n",
       "      <td>703</td>\n",
       "      <td>139</td>\n",
       "      <td>6</td>\n",
       "      <td>6</td>\n",
       "      <td>8246</td>\n",
       "      <td>2</td>\n",
       "      <td>0</td>\n",
       "      <td>2750</td>\n",
       "      <td>0</td>\n",
       "    </tr>\n",
       "    <tr>\n",
       "      <th>1</th>\n",
       "      <td>13063</td>\n",
       "      <td>2</td>\n",
       "      <td>808</td>\n",
       "      <td>413</td>\n",
       "      <td>1</td>\n",
       "      <td>3518</td>\n",
       "      <td>702</td>\n",
       "      <td>6</td>\n",
       "      <td>0</td>\n",
       "      <td>9</td>\n",
       "      <td>907</td>\n",
       "      <td>0</td>\n",
       "      <td>5</td>\n",
       "      <td>2525</td>\n",
       "      <td>0</td>\n",
       "    </tr>\n",
       "    <tr>\n",
       "      <th>2</th>\n",
       "      <td>12983</td>\n",
       "      <td>0</td>\n",
       "      <td>336</td>\n",
       "      <td>181</td>\n",
       "      <td>0</td>\n",
       "      <td>497</td>\n",
       "      <td>820</td>\n",
       "      <td>6</td>\n",
       "      <td>0</td>\n",
       "      <td>9</td>\n",
       "      <td>10157</td>\n",
       "      <td>2</td>\n",
       "      <td>13</td>\n",
       "      <td>2502</td>\n",
       "      <td>3</td>\n",
       "    </tr>\n",
       "    <tr>\n",
       "      <th>3</th>\n",
       "      <td>6813</td>\n",
       "      <td>0</td>\n",
       "      <td>873</td>\n",
       "      <td>424</td>\n",
       "      <td>2</td>\n",
       "      <td>375</td>\n",
       "      <td>145</td>\n",
       "      <td>47</td>\n",
       "      <td>4</td>\n",
       "      <td>3</td>\n",
       "      <td>10146</td>\n",
       "      <td>2</td>\n",
       "      <td>13</td>\n",
       "      <td>2414</td>\n",
       "      <td>3</td>\n",
       "    </tr>\n",
       "    <tr>\n",
       "      <th>4</th>\n",
       "      <td>21702</td>\n",
       "      <td>1</td>\n",
       "      <td>1290</td>\n",
       "      <td>632</td>\n",
       "      <td>0</td>\n",
       "      <td>857</td>\n",
       "      <td>270</td>\n",
       "      <td>110</td>\n",
       "      <td>1</td>\n",
       "      <td>0</td>\n",
       "      <td>10249</td>\n",
       "      <td>2</td>\n",
       "      <td>6</td>\n",
       "      <td>3158</td>\n",
       "      <td>0</td>\n",
       "    </tr>\n",
       "    <tr>\n",
       "      <th>...</th>\n",
       "      <td>...</td>\n",
       "      <td>...</td>\n",
       "      <td>...</td>\n",
       "      <td>...</td>\n",
       "      <td>...</td>\n",
       "      <td>...</td>\n",
       "      <td>...</td>\n",
       "      <td>...</td>\n",
       "      <td>...</td>\n",
       "      <td>...</td>\n",
       "      <td>...</td>\n",
       "      <td>...</td>\n",
       "      <td>...</td>\n",
       "      <td>...</td>\n",
       "      <td>...</td>\n",
       "    </tr>\n",
       "    <tr>\n",
       "      <th>51285</th>\n",
       "      <td>14068</td>\n",
       "      <td>1</td>\n",
       "      <td>854</td>\n",
       "      <td>427</td>\n",
       "      <td>1</td>\n",
       "      <td>1726</td>\n",
       "      <td>410</td>\n",
       "      <td>65</td>\n",
       "      <td>0</td>\n",
       "      <td>8</td>\n",
       "      <td>4810</td>\n",
       "      <td>1</td>\n",
       "      <td>8</td>\n",
       "      <td>239</td>\n",
       "      <td>3</td>\n",
       "    </tr>\n",
       "    <tr>\n",
       "      <th>51286</th>\n",
       "      <td>24236</td>\n",
       "      <td>3</td>\n",
       "      <td>1587</td>\n",
       "      <td>793</td>\n",
       "      <td>0</td>\n",
       "      <td>1400</td>\n",
       "      <td>982</td>\n",
       "      <td>139</td>\n",
       "      <td>6</td>\n",
       "      <td>3</td>\n",
       "      <td>2622</td>\n",
       "      <td>1</td>\n",
       "      <td>1</td>\n",
       "      <td>1922</td>\n",
       "      <td>3</td>\n",
       "    </tr>\n",
       "    <tr>\n",
       "      <th>51287</th>\n",
       "      <td>24088</td>\n",
       "      <td>1</td>\n",
       "      <td>899</td>\n",
       "      <td>452</td>\n",
       "      <td>2</td>\n",
       "      <td>2408</td>\n",
       "      <td>192</td>\n",
       "      <td>139</td>\n",
       "      <td>6</td>\n",
       "      <td>12</td>\n",
       "      <td>4341</td>\n",
       "      <td>1</td>\n",
       "      <td>7</td>\n",
       "      <td>5</td>\n",
       "      <td>1</td>\n",
       "    </tr>\n",
       "    <tr>\n",
       "      <th>51288</th>\n",
       "      <td>17703</td>\n",
       "      <td>3</td>\n",
       "      <td>1249</td>\n",
       "      <td>652</td>\n",
       "      <td>2</td>\n",
       "      <td>3346</td>\n",
       "      <td>955</td>\n",
       "      <td>17</td>\n",
       "      <td>5</td>\n",
       "      <td>10</td>\n",
       "      <td>3490</td>\n",
       "      <td>1</td>\n",
       "      <td>3</td>\n",
       "      <td>87</td>\n",
       "      <td>3</td>\n",
       "    </tr>\n",
       "    <tr>\n",
       "      <th>51289</th>\n",
       "      <td>17639</td>\n",
       "      <td>2</td>\n",
       "      <td>981</td>\n",
       "      <td>539</td>\n",
       "      <td>0</td>\n",
       "      <td>3224</td>\n",
       "      <td>599</td>\n",
       "      <td>92</td>\n",
       "      <td>5</td>\n",
       "      <td>3</td>\n",
       "      <td>6563</td>\n",
       "      <td>1</td>\n",
       "      <td>12</td>\n",
       "      <td>1143</td>\n",
       "      <td>1</td>\n",
       "    </tr>\n",
       "  </tbody>\n",
       "</table>\n",
       "<p>51290 rows × 15 columns</p>\n",
       "</div>"
      ],
      "text/plain": [
       "       Order ID  Ship Mode  Customer ID  Customer Name  Segment  City  State  \\\n",
       "0          1499          1         1286            632        0  2290    703   \n",
       "1         13063          2          808            413        1  3518    702   \n",
       "2         12983          0          336            181        0   497    820   \n",
       "3          6813          0          873            424        2   375    145   \n",
       "4         21702          1         1290            632        0   857    270   \n",
       "...         ...        ...          ...            ...      ...   ...    ...   \n",
       "51285     14068          1          854            427        1  1726    410   \n",
       "51286     24236          3         1587            793        0  1400    982   \n",
       "51287     24088          1          899            452        2  2408    192   \n",
       "51288     17703          3         1249            652        2  3346    955   \n",
       "51289     17639          2          981            539        0  3224    599   \n",
       "\n",
       "       Country  Market  Region  Product ID  Category  Sub-Category  \\\n",
       "0          139       6       6        8246         2             0   \n",
       "1            6       0       9         907         0             5   \n",
       "2            6       0       9       10157         2            13   \n",
       "3           47       4       3       10146         2            13   \n",
       "4          110       1       0       10249         2             6   \n",
       "...        ...     ...     ...         ...       ...           ...   \n",
       "51285       65       0       8        4810         1             8   \n",
       "51286      139       6       3        2622         1             1   \n",
       "51287      139       6      12        4341         1             7   \n",
       "51288       17       5      10        3490         1             3   \n",
       "51289       92       5       3        6563         1            12   \n",
       "\n",
       "       Product Name  Order Priority  \n",
       "0              2750               0  \n",
       "1              2525               0  \n",
       "2              2502               3  \n",
       "3              2414               3  \n",
       "4              3158               0  \n",
       "...             ...             ...  \n",
       "51285           239               3  \n",
       "51286          1922               3  \n",
       "51287             5               1  \n",
       "51288            87               3  \n",
       "51289          1143               1  \n",
       "\n",
       "[51290 rows x 15 columns]"
      ]
     },
     "execution_count": 114,
     "metadata": {},
     "output_type": "execute_result"
    }
   ],
   "source": [
    "df2_cat_e"
   ]
  },
  {
   "cell_type": "code",
   "execution_count": 115,
   "id": "1bc5381d",
   "metadata": {},
   "outputs": [],
   "source": [
    "df_p = pd.DataFrame(df7_num_mm, columns = ['Sales','Quantity','Discount','Profit','Shipping Cost'])"
   ]
  },
  {
   "cell_type": "code",
   "execution_count": 116,
   "id": "3a517458",
   "metadata": {},
   "outputs": [
    {
     "data": {
      "text/plain": [
       "array([   0,    1,    2, ..., 2662, 2663, 2664])"
      ]
     },
     "execution_count": 116,
     "metadata": {},
     "output_type": "execute_result"
    }
   ],
   "source": [
    "df_p.index.values"
   ]
  },
  {
   "cell_type": "markdown",
   "id": "d8a4e234",
   "metadata": {},
   "source": [
    "# Concatinating numerical and categorical columns"
   ]
  },
  {
   "cell_type": "code",
   "execution_count": 117,
   "id": "82449976",
   "metadata": {},
   "outputs": [],
   "source": [
    "df_cat_filter = df2_cat_e.loc[df_p.index.values,:]"
   ]
  },
  {
   "cell_type": "code",
   "execution_count": 118,
   "id": "dfee5179",
   "metadata": {},
   "outputs": [],
   "source": [
    "df_b = pd.concat([df_p,df_cat_filter],axis=1)"
   ]
  },
  {
   "cell_type": "code",
   "execution_count": 119,
   "id": "ac5c3e61",
   "metadata": {},
   "outputs": [
    {
     "data": {
      "text/plain": [
       "Sales             0\n",
       "Quantity          0\n",
       "Discount          0\n",
       "Profit            0\n",
       "Shipping Cost     0\n",
       "Order ID          0\n",
       "Ship Mode         0\n",
       "Customer ID       0\n",
       "Customer Name     0\n",
       "Segment           0\n",
       "City              0\n",
       "State             0\n",
       "Country           0\n",
       "Market            0\n",
       "Region            0\n",
       "Product ID        0\n",
       "Category          0\n",
       "Sub-Category      0\n",
       "Product Name      0\n",
       "Order Priority    0\n",
       "dtype: int64"
      ]
     },
     "execution_count": 119,
     "metadata": {},
     "output_type": "execute_result"
    }
   ],
   "source": [
    "df_b.isnull().sum()"
   ]
  },
  {
   "cell_type": "markdown",
   "id": "dd1820cd",
   "metadata": {},
   "source": [
    "# Modelling for claissification problem"
   ]
  },
  {
   "cell_type": "code",
   "execution_count": 122,
   "id": "1e31c3ef",
   "metadata": {},
   "outputs": [],
   "source": [
    "from sklearn.linear_model import LogisticRegression"
   ]
  },
  {
   "cell_type": "code",
   "execution_count": 126,
   "id": "7e17826f",
   "metadata": {},
   "outputs": [],
   "source": [
    "X1=df_b.drop([\"Order Priority\"],axis=1)"
   ]
  },
  {
   "cell_type": "code",
   "execution_count": 127,
   "id": "ccd56bc4",
   "metadata": {},
   "outputs": [],
   "source": [
    "y=df_b[\"Order Priority\"]"
   ]
  },
  {
   "cell_type": "markdown",
   "id": "ea7ec458",
   "metadata": {},
   "source": [
    "# Splitting the training and testing data"
   ]
  },
  {
   "cell_type": "code",
   "execution_count": 129,
   "id": "36192674",
   "metadata": {},
   "outputs": [],
   "source": [
    "from sklearn.model_selection import train_test_split"
   ]
  },
  {
   "cell_type": "code",
   "execution_count": 130,
   "id": "4a1db622",
   "metadata": {},
   "outputs": [],
   "source": [
    "X_train, X_test, y_train, y_test = train_test_split(X1, y, test_size=0.3)"
   ]
  },
  {
   "cell_type": "code",
   "execution_count": 131,
   "id": "f2379dc6",
   "metadata": {},
   "outputs": [],
   "source": [
    "LR = LogisticRegression()"
   ]
  },
  {
   "cell_type": "code",
   "execution_count": 132,
   "id": "6775e077",
   "metadata": {},
   "outputs": [
    {
     "name": "stderr",
     "output_type": "stream",
     "text": [
      "/Users/mamatharaj/anaconda3/lib/python3.11/site-packages/sklearn/linear_model/_logistic.py:460: ConvergenceWarning: lbfgs failed to converge (status=1):\n",
      "STOP: TOTAL NO. of ITERATIONS REACHED LIMIT.\n",
      "\n",
      "Increase the number of iterations (max_iter) or scale the data as shown in:\n",
      "    https://scikit-learn.org/stable/modules/preprocessing.html\n",
      "Please also refer to the documentation for alternative solver options:\n",
      "    https://scikit-learn.org/stable/modules/linear_model.html#logistic-regression\n",
      "  n_iter_i = _check_optimize_result(\n"
     ]
    }
   ],
   "source": [
    "LR1= LR.fit(X_train,y_train)"
   ]
  },
  {
   "cell_type": "code",
   "execution_count": 133,
   "id": "88f62f1d",
   "metadata": {},
   "outputs": [
    {
     "data": {
      "text/plain": [
       "0.40857908847184987"
      ]
     },
     "execution_count": 133,
     "metadata": {},
     "output_type": "execute_result"
    }
   ],
   "source": [
    "LR.score(X_train,y_train)"
   ]
  },
  {
   "cell_type": "code",
   "execution_count": 134,
   "id": "508ef69b",
   "metadata": {},
   "outputs": [],
   "source": [
    "from sklearn.tree import DecisionTreeClassifier"
   ]
  },
  {
   "cell_type": "code",
   "execution_count": 135,
   "id": "2001d19d",
   "metadata": {},
   "outputs": [],
   "source": [
    "DecTree=DecisionTreeClassifier()"
   ]
  },
  {
   "cell_type": "code",
   "execution_count": 136,
   "id": "4c24a93f",
   "metadata": {},
   "outputs": [],
   "source": [
    "dt_M=DecTree.fit(X_train,y_train)"
   ]
  },
  {
   "cell_type": "code",
   "execution_count": 137,
   "id": "4c31887f",
   "metadata": {},
   "outputs": [
    {
     "data": {
      "text/plain": [
       "1.0"
      ]
     },
     "execution_count": 137,
     "metadata": {},
     "output_type": "execute_result"
    }
   ],
   "source": [
    "dt_M.score(X_train,y_train)"
   ]
  },
  {
   "cell_type": "code",
   "execution_count": 138,
   "id": "0e19ddbb",
   "metadata": {},
   "outputs": [],
   "source": [
    "from sklearn.ensemble import RandomForestClassifier"
   ]
  },
  {
   "cell_type": "code",
   "execution_count": 139,
   "id": "dc83df5c",
   "metadata": {},
   "outputs": [],
   "source": [
    "RandFor=RandomForestClassifier(n_estimators=5000)"
   ]
  },
  {
   "cell_type": "code",
   "execution_count": 140,
   "id": "3c972c32",
   "metadata": {},
   "outputs": [],
   "source": [
    "rf_M=RandFor.fit(X_train,y_train)"
   ]
  },
  {
   "cell_type": "code",
   "execution_count": 141,
   "id": "89ec38e2",
   "metadata": {},
   "outputs": [
    {
     "data": {
      "text/plain": [
       "1.0"
      ]
     },
     "execution_count": 141,
     "metadata": {},
     "output_type": "execute_result"
    }
   ],
   "source": [
    "rf_M.score(X_train,y_train)"
   ]
  },
  {
   "cell_type": "code",
   "execution_count": 142,
   "id": "b353d714",
   "metadata": {},
   "outputs": [],
   "source": [
    "from sklearn.ensemble import GradientBoostingClassifier"
   ]
  },
  {
   "cell_type": "code",
   "execution_count": 143,
   "id": "ef846dc5",
   "metadata": {},
   "outputs": [],
   "source": [
    "GBM=GradientBoostingClassifier(n_estimators=3000)"
   ]
  },
  {
   "cell_type": "code",
   "execution_count": 144,
   "id": "5c1da01c",
   "metadata": {},
   "outputs": [],
   "source": [
    "gb_M=GBM.fit(X_train,y_train)"
   ]
  },
  {
   "cell_type": "code",
   "execution_count": 145,
   "id": "60d96997",
   "metadata": {},
   "outputs": [
    {
     "data": {
      "text/plain": [
       "1.0"
      ]
     },
     "execution_count": 145,
     "metadata": {},
     "output_type": "execute_result"
    }
   ],
   "source": [
    "gb_M.score(X_train,y_train)"
   ]
  },
  {
   "cell_type": "code",
   "execution_count": 146,
   "id": "7cbe65c5",
   "metadata": {},
   "outputs": [],
   "source": [
    "from sklearn.metrics import accuracy_score, r2_score"
   ]
  },
  {
   "cell_type": "code",
   "execution_count": 149,
   "id": "4983045c",
   "metadata": {},
   "outputs": [
    {
     "data": {
      "text/plain": [
       "'              precision    recall  f1-score   support\\n\\n           0       0.46      0.46      0.46       162\\n           1       0.52      0.52      0.52       358\\n           2       0.50      0.09      0.16        43\\n           3       0.44      0.51      0.47       237\\n\\n    accuracy                           0.48       800\\n   macro avg       0.48      0.39      0.40       800\\nweighted avg       0.48      0.48      0.47       800\\n'"
      ]
     },
     "execution_count": 149,
     "metadata": {},
     "output_type": "execute_result"
    }
   ],
   "source": [
    "from sklearn.metrics import classification_report\n",
    "classification_report(y_test,ytest_gbm)"
   ]
  },
  {
   "cell_type": "code",
   "execution_count": 150,
   "id": "01c2262e",
   "metadata": {},
   "outputs": [
    {
     "name": "stdout",
     "output_type": "stream",
     "text": [
      "              precision    recall  f1-score   support\n",
      "\n",
      "           0       0.46      0.46      0.46       162\n",
      "           1       0.52      0.52      0.52       358\n",
      "           2       0.50      0.09      0.16        43\n",
      "           3       0.44      0.51      0.47       237\n",
      "\n",
      "    accuracy                           0.48       800\n",
      "   macro avg       0.48      0.39      0.40       800\n",
      "weighted avg       0.48      0.48      0.47       800\n",
      "\n"
     ]
    }
   ],
   "source": [
    "print(classification_report(y_test,ytest_gbm))"
   ]
  },
  {
   "cell_type": "code",
   "execution_count": 147,
   "id": "2370c67a",
   "metadata": {},
   "outputs": [],
   "source": [
    "ytest_gbm = gb_M.predict(X_test)"
   ]
  },
  {
   "cell_type": "code",
   "execution_count": 148,
   "id": "f1f625b1",
   "metadata": {},
   "outputs": [
    {
     "data": {
      "text/plain": [
       "0.48125"
      ]
     },
     "execution_count": 148,
     "metadata": {},
     "output_type": "execute_result"
    }
   ],
   "source": [
    "accuracy_score(y_test.values,ytest_gbm)"
   ]
  },
  {
   "cell_type": "code",
   "execution_count": 151,
   "id": "e5127a58",
   "metadata": {},
   "outputs": [],
   "source": [
    "ytest_rf_M = rf_M.predict(X_test)"
   ]
  },
  {
   "cell_type": "code",
   "execution_count": 152,
   "id": "c77e7c8c",
   "metadata": {},
   "outputs": [
    {
     "data": {
      "text/plain": [
       "0.46375"
      ]
     },
     "execution_count": 152,
     "metadata": {},
     "output_type": "execute_result"
    }
   ],
   "source": [
    "accuracy_score(y_test.values,ytest_rf_M)"
   ]
  },
  {
   "cell_type": "code",
   "execution_count": 153,
   "id": "fc9a8b06",
   "metadata": {},
   "outputs": [],
   "source": [
    "ytest_dt_M = dt_M.predict(X_test)"
   ]
  },
  {
   "cell_type": "code",
   "execution_count": 154,
   "id": "f38ff979",
   "metadata": {},
   "outputs": [
    {
     "data": {
      "text/plain": [
       "0.40875"
      ]
     },
     "execution_count": 154,
     "metadata": {},
     "output_type": "execute_result"
    }
   ],
   "source": [
    "accuracy_score(y_test.values,ytest_dt_M)"
   ]
  },
  {
   "cell_type": "code",
   "execution_count": 155,
   "id": "7067e161",
   "metadata": {},
   "outputs": [],
   "source": [
    "ytest_LR = LR.predict(X_test)"
   ]
  },
  {
   "cell_type": "code",
   "execution_count": 156,
   "id": "a243ea5c",
   "metadata": {},
   "outputs": [
    {
     "data": {
      "text/plain": [
       "0.44875"
      ]
     },
     "execution_count": 156,
     "metadata": {},
     "output_type": "execute_result"
    }
   ],
   "source": [
    "accuracy_score(y_test.values,ytest_LR)"
   ]
  },
  {
   "cell_type": "code",
   "execution_count": null,
   "id": "18f14b0c",
   "metadata": {},
   "outputs": [],
   "source": []
  }
 ],
 "metadata": {
  "kernelspec": {
   "display_name": "Python 3 (ipykernel)",
   "language": "python",
   "name": "python3"
  },
  "language_info": {
   "codemirror_mode": {
    "name": "ipython",
    "version": 3
   },
   "file_extension": ".py",
   "mimetype": "text/x-python",
   "name": "python",
   "nbconvert_exporter": "python",
   "pygments_lexer": "ipython3",
   "version": "3.11.5"
  }
 },
 "nbformat": 4,
 "nbformat_minor": 5
}
